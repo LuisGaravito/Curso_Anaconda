{
 "cells": [
  {
   "cell_type": "markdown",
   "id": "d9f24f01",
   "metadata": {},
   "source": [
    "# Modelos de Regresión Lineal\n",
    "## Modelos con datos simulados\n",
    "* y = a + b * x\n",
    "* X = 100 valores distribuidos según una N (1.5, 2.5)\n",
    "* Ye = 2 + 0.3 * x + e\n",
    "* o estara distribuido según una N (0, 0.8)"
   ]
  },
  {
   "cell_type": "code",
   "execution_count": 41,
   "id": "1eddb8fd",
   "metadata": {},
   "outputs": [],
   "source": [
    "import pandas as pd\n",
    "import numpy as np"
   ]
  },
  {
   "cell_type": "code",
   "execution_count": 42,
   "id": "0390bb8a",
   "metadata": {},
   "outputs": [],
   "source": [
    "x = 1.5 + 2.5 + np.random.randn(100)"
   ]
  },
  {
   "cell_type": "code",
   "execution_count": 43,
   "id": "e5a56691",
   "metadata": {},
   "outputs": [],
   "source": [
    "res = 0 + 0.8 + np.random.randn(100)"
   ]
  },
  {
   "cell_type": "code",
   "execution_count": 44,
   "id": "647ba4f2",
   "metadata": {},
   "outputs": [],
   "source": [
    "y_pred = 5 + 0.3 * x "
   ]
  },
  {
   "cell_type": "code",
   "execution_count": 45,
   "id": "49558a3a",
   "metadata": {},
   "outputs": [],
   "source": [
    "y_act = 5 + 0.3 * x + res"
   ]
  },
  {
   "cell_type": "code",
   "execution_count": 46,
   "id": "87f4e431",
   "metadata": {},
   "outputs": [],
   "source": [
    "x_list = x.tolist()\n",
    "y_pred_list = y_pred.tolist()\n",
    "y_act_list = y_act.tolist()"
   ]
  },
  {
   "cell_type": "code",
   "execution_count": 47,
   "id": "100a8d34",
   "metadata": {},
   "outputs": [],
   "source": [
    "data = pd.DataFrame(\n",
    "    {\n",
    "        \"x\":x_list,\n",
    "        \"y_actualizado\":y_act_list,\n",
    "        \"y_prediccion\":y_pred_list\n",
    "    }\n",
    ")"
   ]
  },
  {
   "cell_type": "code",
   "execution_count": 48,
   "id": "6e3f6d73",
   "metadata": {},
   "outputs": [
    {
     "data": {
      "text/html": [
       "<div>\n",
       "<style scoped>\n",
       "    .dataframe tbody tr th:only-of-type {\n",
       "        vertical-align: middle;\n",
       "    }\n",
       "\n",
       "    .dataframe tbody tr th {\n",
       "        vertical-align: top;\n",
       "    }\n",
       "\n",
       "    .dataframe thead th {\n",
       "        text-align: right;\n",
       "    }\n",
       "</style>\n",
       "<table border=\"1\" class=\"dataframe\">\n",
       "  <thead>\n",
       "    <tr style=\"text-align: right;\">\n",
       "      <th></th>\n",
       "      <th>x</th>\n",
       "      <th>y_actualizado</th>\n",
       "      <th>y_prediccion</th>\n",
       "    </tr>\n",
       "  </thead>\n",
       "  <tbody>\n",
       "    <tr>\n",
       "      <th>0</th>\n",
       "      <td>3.550475</td>\n",
       "      <td>4.725984</td>\n",
       "      <td>6.065142</td>\n",
       "    </tr>\n",
       "    <tr>\n",
       "      <th>1</th>\n",
       "      <td>5.210546</td>\n",
       "      <td>6.977740</td>\n",
       "      <td>6.563164</td>\n",
       "    </tr>\n",
       "    <tr>\n",
       "      <th>2</th>\n",
       "      <td>4.480070</td>\n",
       "      <td>6.986423</td>\n",
       "      <td>6.344021</td>\n",
       "    </tr>\n",
       "    <tr>\n",
       "      <th>3</th>\n",
       "      <td>5.452294</td>\n",
       "      <td>8.382157</td>\n",
       "      <td>6.635688</td>\n",
       "    </tr>\n",
       "    <tr>\n",
       "      <th>4</th>\n",
       "      <td>2.827150</td>\n",
       "      <td>6.079703</td>\n",
       "      <td>5.848145</td>\n",
       "    </tr>\n",
       "  </tbody>\n",
       "</table>\n",
       "</div>"
      ],
      "text/plain": [
       "          x  y_actualizado  y_prediccion\n",
       "0  3.550475       4.725984      6.065142\n",
       "1  5.210546       6.977740      6.563164\n",
       "2  4.480070       6.986423      6.344021\n",
       "3  5.452294       8.382157      6.635688\n",
       "4  2.827150       6.079703      5.848145"
      ]
     },
     "execution_count": 48,
     "metadata": {},
     "output_type": "execute_result"
    }
   ],
   "source": [
    "data.head()"
   ]
  },
  {
   "cell_type": "code",
   "execution_count": 49,
   "id": "19a4d5b9",
   "metadata": {},
   "outputs": [],
   "source": [
    "import matplotlib.pyplot as plt"
   ]
  },
  {
   "cell_type": "code",
   "execution_count": 50,
   "id": "2e4fa5bd",
   "metadata": {},
   "outputs": [],
   "source": [
    "y_mean = [np.mean(y_act) for i in range(1, len(x_list) + 1)]"
   ]
  },
  {
   "cell_type": "code",
   "execution_count": 51,
   "id": "595f564b",
   "metadata": {},
   "outputs": [
    {
     "data": {
      "text/plain": [
       "Text(0.5, 1.0, 'Valor Actual vs Prediccion')"
      ]
     },
     "execution_count": 51,
     "metadata": {},
     "output_type": "execute_result"
    },
    {
     "data": {
      "image/png": "[encoded data removed]",
      "text/plain": [
       "<Figure size 432x288 with 1 Axes>"
      ]
     },
     "metadata": {
      "needs_background": "light"
     },
     "output_type": "display_data"
    }
   ],
   "source": [
    "%matplotlib inline\n",
    "plt.plot(x, y_pred)\n",
    "plt.plot(x, y_act, \"ro\")\n",
    "plt.plot(x, y_mean, \"g\")\n",
    "plt.title(\"Valor Actual vs Prediccion\")"
   ]
  },
  {
   "cell_type": "code",
   "execution_count": 52,
   "id": "3a52057c",
   "metadata": {},
   "outputs": [],
   "source": [
    "data[\"SSR\"] = (data[\"y_prediccion\"]-np.mean(y_act))**2\n",
    "data[\"SSD\"] = (data[\"y_prediccion\"]-data[\"y_actualizado\"])**2\n",
    "data[\"SST\"] = (data[\"y_actualizado\"]-np.mean(y_act))**2"
   ]
  },
  {
   "cell_type": "code",
   "execution_count": 53,
   "id": "dd0164f4",
   "metadata": {},
   "outputs": [
    {
     "data": {
      "text/html": [
       "<div>\n",
       "<style scoped>\n",
       "    .dataframe tbody tr th:only-of-type {\n",
       "        vertical-align: middle;\n",
       "    }\n",
       "\n",
       "    .dataframe tbody tr th {\n",
       "        vertical-align: top;\n",
       "    }\n",
       "\n",
       "    .dataframe thead th {\n",
       "        text-align: right;\n",
       "    }\n",
       "</style>\n",
       "<table border=\"1\" class=\"dataframe\">\n",
       "  <thead>\n",
       "    <tr style=\"text-align: right;\">\n",
       "      <th></th>\n",
       "      <th>x</th>\n",
       "      <th>y_actualizado</th>\n",
       "      <th>y_prediccion</th>\n",
       "      <th>SSR</th>\n",
       "      <th>SSD</th>\n",
       "      <th>SST</th>\n",
       "    </tr>\n",
       "  </thead>\n",
       "  <tbody>\n",
       "    <tr>\n",
       "      <th>0</th>\n",
       "      <td>3.550475</td>\n",
       "      <td>4.725984</td>\n",
       "      <td>6.065142</td>\n",
       "      <td>0.920996</td>\n",
       "      <td>1.793345</td>\n",
       "      <td>5.284682</td>\n",
       "    </tr>\n",
       "    <tr>\n",
       "      <th>1</th>\n",
       "      <td>5.210546</td>\n",
       "      <td>6.977740</td>\n",
       "      <td>6.563164</td>\n",
       "      <td>0.213134</td>\n",
       "      <td>0.171873</td>\n",
       "      <td>0.002217</td>\n",
       "    </tr>\n",
       "    <tr>\n",
       "      <th>2</th>\n",
       "      <td>4.480070</td>\n",
       "      <td>6.986423</td>\n",
       "      <td>6.344021</td>\n",
       "      <td>0.463498</td>\n",
       "      <td>0.412680</td>\n",
       "      <td>0.001475</td>\n",
       "    </tr>\n",
       "    <tr>\n",
       "      <th>3</th>\n",
       "      <td>5.452294</td>\n",
       "      <td>8.382157</td>\n",
       "      <td>6.635688</td>\n",
       "      <td>0.151430</td>\n",
       "      <td>3.050153</td>\n",
       "      <td>1.842342</td>\n",
       "    </tr>\n",
       "    <tr>\n",
       "      <th>4</th>\n",
       "      <td>2.827150</td>\n",
       "      <td>6.079703</td>\n",
       "      <td>5.848145</td>\n",
       "      <td>1.384583</td>\n",
       "      <td>0.053619</td>\n",
       "      <td>0.893261</td>\n",
       "    </tr>\n",
       "  </tbody>\n",
       "</table>\n",
       "</div>"
      ],
      "text/plain": [
       "          x  y_actualizado  y_prediccion       SSR       SSD       SST\n",
       "0  3.550475       4.725984      6.065142  0.920996  1.793345  5.284682\n",
       "1  5.210546       6.977740      6.563164  0.213134  0.171873  0.002217\n",
       "2  4.480070       6.986423      6.344021  0.463498  0.412680  0.001475\n",
       "3  5.452294       8.382157      6.635688  0.151430  3.050153  1.842342\n",
       "4  2.827150       6.079703      5.848145  1.384583  0.053619  0.893261"
      ]
     },
     "execution_count": 53,
     "metadata": {},
     "output_type": "execute_result"
    }
   ],
   "source": [
    "data.head()"
   ]
  },
  {
   "cell_type": "code",
   "execution_count": 54,
   "id": "e87dba39",
   "metadata": {},
   "outputs": [],
   "source": [
    "SSR = sum(data[\"SSR\"])\n",
    "SSD = sum(data[\"SSD\"])\n",
    "SST = sum(data[\"SST\"])"
   ]
  },
  {
   "cell_type": "code",
   "execution_count": 55,
   "id": "bb5cda06",
   "metadata": {},
   "outputs": [
    {
     "data": {
      "text/plain": [
       "71.1318721153187"
      ]
     },
     "execution_count": 55,
     "metadata": {},
     "output_type": "execute_result"
    }
   ],
   "source": [
    "SSR"
   ]
  },
  {
   "cell_type": "code",
   "execution_count": 56,
   "id": "1129475e",
   "metadata": {},
   "outputs": [
    {
     "data": {
      "text/plain": [
       "161.8827015442651"
      ]
     },
     "execution_count": 56,
     "metadata": {},
     "output_type": "execute_result"
    }
   ],
   "source": [
    "SSD"
   ]
  },
  {
   "cell_type": "code",
   "execution_count": 57,
   "id": "e7478c50",
   "metadata": {},
   "outputs": [
    {
     "data": {
      "text/plain": [
       "99.3037390426033"
      ]
     },
     "execution_count": 57,
     "metadata": {},
     "output_type": "execute_result"
    }
   ],
   "source": [
    "SST"
   ]
  },
  {
   "cell_type": "code",
   "execution_count": 58,
   "id": "659a79c8",
   "metadata": {},
   "outputs": [
    {
     "data": {
      "text/plain": [
       "233.0145736595838"
      ]
     },
     "execution_count": 58,
     "metadata": {},
     "output_type": "execute_result"
    }
   ],
   "source": [
    "SSR+SSD"
   ]
  },
  {
   "cell_type": "code",
   "execution_count": 59,
   "id": "411cb0b6",
   "metadata": {},
   "outputs": [],
   "source": [
    "R2 = SSR/SST"
   ]
  },
  {
   "cell_type": "code",
   "execution_count": 60,
   "id": "6ca0d537",
   "metadata": {},
   "outputs": [
    {
     "data": {
      "text/plain": [
       "0.7163060807287599"
      ]
     },
     "execution_count": 60,
     "metadata": {},
     "output_type": "execute_result"
    }
   ],
   "source": [
    "R2"
   ]
  },
  {
   "cell_type": "code",
   "execution_count": 61,
   "id": "00b08709",
   "metadata": {},
   "outputs": [
    {
     "data": {
      "text/plain": [
       "(array([67., 16.,  4.,  5.,  5.,  1.,  0.,  0.,  1.,  1.]),\n",
       " array([2.22980823e-04, 1.39664414e+00, 2.79306530e+00, 4.18948646e+00,\n",
       "        5.58590763e+00, 6.98232879e+00, 8.37874995e+00, 9.77517111e+00,\n",
       "        1.11715923e+01, 1.25680134e+01, 1.39644346e+01]),\n",
       " <BarContainer object of 10 artists>)"
      ]
     },
     "execution_count": 61,
     "metadata": {},
     "output_type": "execute_result"
    },
    {
     "data": {
      "image/png": "[encoded data removed]",
      "text/plain": [
       "<Figure size 432x288 with 1 Axes>"
      ]
     },
     "metadata": {
      "needs_background": "light"
     },
     "output_type": "display_data"
    }
   ],
   "source": [
    "plt.hist(data[\"SSD\"])"
   ]
  },
  {
   "cell_type": "code",
   "execution_count": 62,
   "id": "0cbbfbda",
   "metadata": {},
   "outputs": [
    {
     "data": {
      "text/plain": [
       "(array([ 2.,  1.,  8.,  6., 14., 20., 25., 12.,  8.,  4.]),\n",
       " array([-3.73690174, -3.22929575, -2.72168976, -2.21408377, -1.70647779,\n",
       "        -1.1988718 , -0.69126581, -0.18365982,  0.32394617,  0.83155215,\n",
       "         1.33915814]),\n",
       " <BarContainer object of 10 artists>)"
      ]
     },
     "execution_count": 62,
     "metadata": {},
     "output_type": "execute_result"
    },
    {
     "data": {
      "image/png": "[encoded data removed]",
      "text/plain": [
       "<Figure size 432x288 with 1 Axes>"
      ]
     },
     "metadata": {
      "needs_background": "light"
     },
     "output_type": "display_data"
    }
   ],
   "source": [
    "plt.hist(data[\"y_prediccion\"]-data[\"y_actualizado\"])"
   ]
  },
  {
   "cell_type": "markdown",
   "id": "c0b124b1",
   "metadata": {},
   "source": [
    "# Obtención de datos\n",
    "* y = a + b * x\n",
    "* b = sum(xi - x_m)*(y_i - y_m)/sum((xi - x_m) ∧ 2)\n",
    "* a = y_n - b * x_m"
   ]
  },
  {
   "cell_type": "code",
   "execution_count": 63,
   "id": "742e0d05",
   "metadata": {},
   "outputs": [
    {
     "data": {
      "text/plain": [
       "(4.081449818513196, 7.024827893500803)"
      ]
     },
     "execution_count": 63,
     "metadata": {},
     "output_type": "execute_result"
    }
   ],
   "source": [
    "x_mean = np.mean(data[\"x\"])\n",
    "y_mean = np.mean(data[\"y_actualizado\"])\n",
    "x_mean, y_mean"
   ]
  },
  {
   "cell_type": "code",
   "execution_count": 64,
   "id": "737be1b8",
   "metadata": {},
   "outputs": [],
   "source": [
    "data[\"beta_n\"] = (data[\"x\"]-x_mean)*(data[\"y_actualizado\"]-y_mean)\n",
    "data[\"beta_d\"] = (data[\"x\"]-x_mean)**2"
   ]
  },
  {
   "cell_type": "code",
   "execution_count": 65,
   "id": "2906968a",
   "metadata": {},
   "outputs": [],
   "source": [
    "beta = sum(data[\"beta_n\"])/sum(data[\"beta_d\"])"
   ]
  },
  {
   "cell_type": "code",
   "execution_count": 66,
   "id": "f457156d",
   "metadata": {},
   "outputs": [],
   "source": [
    "alpha = y_mean - beta * x_mean"
   ]
  },
  {
   "cell_type": "code",
   "execution_count": 67,
   "id": "95046e75",
   "metadata": {},
   "outputs": [
    {
     "data": {
      "text/plain": [
       "(6.284093444873476, 0.18148806957454267)"
      ]
     },
     "execution_count": 67,
     "metadata": {},
     "output_type": "execute_result"
    }
   ],
   "source": [
    "alpha, beta"
   ]
  },
  {
   "cell_type": "markdown",
   "id": "5be7a254",
   "metadata": {},
   "source": [
    "El modelo lineal obtenido por regresión es: y = 5.420940927109603 + 1.9874702211324107 * x"
   ]
  },
  {
   "cell_type": "code",
   "execution_count": 68,
   "id": "c5553d03",
   "metadata": {},
   "outputs": [],
   "source": [
    "data[\"y_model\"] = alpha + beta * data[\"x\"]"
   ]
  },
  {
   "cell_type": "code",
   "execution_count": 69,
   "id": "49951810",
   "metadata": {},
   "outputs": [
    {
     "data": {
      "text/html": [
       "<div>\n",
       "<style scoped>\n",
       "    .dataframe tbody tr th:only-of-type {\n",
       "        vertical-align: middle;\n",
       "    }\n",
       "\n",
       "    .dataframe tbody tr th {\n",
       "        vertical-align: top;\n",
       "    }\n",
       "\n",
       "    .dataframe thead th {\n",
       "        text-align: right;\n",
       "    }\n",
       "</style>\n",
       "<table border=\"1\" class=\"dataframe\">\n",
       "  <thead>\n",
       "    <tr style=\"text-align: right;\">\n",
       "      <th></th>\n",
       "      <th>x</th>\n",
       "      <th>y_actualizado</th>\n",
       "      <th>y_prediccion</th>\n",
       "      <th>SSR</th>\n",
       "      <th>SSD</th>\n",
       "      <th>SST</th>\n",
       "      <th>beta_n</th>\n",
       "      <th>beta_d</th>\n",
       "      <th>y_model</th>\n",
       "    </tr>\n",
       "  </thead>\n",
       "  <tbody>\n",
       "    <tr>\n",
       "      <th>0</th>\n",
       "      <td>3.550475</td>\n",
       "      <td>4.725984</td>\n",
       "      <td>6.065142</td>\n",
       "      <td>0.920996</td>\n",
       "      <td>1.793345</td>\n",
       "      <td>5.284682</td>\n",
       "      <td>1.220628</td>\n",
       "      <td>0.281934</td>\n",
       "      <td>6.928462</td>\n",
       "    </tr>\n",
       "    <tr>\n",
       "      <th>1</th>\n",
       "      <td>5.210546</td>\n",
       "      <td>6.977740</td>\n",
       "      <td>6.563164</td>\n",
       "      <td>0.213134</td>\n",
       "      <td>0.171873</td>\n",
       "      <td>0.002217</td>\n",
       "      <td>-0.053167</td>\n",
       "      <td>1.274857</td>\n",
       "      <td>7.229745</td>\n",
       "    </tr>\n",
       "    <tr>\n",
       "      <th>2</th>\n",
       "      <td>4.480070</td>\n",
       "      <td>6.986423</td>\n",
       "      <td>6.344021</td>\n",
       "      <td>0.463498</td>\n",
       "      <td>0.412680</td>\n",
       "      <td>0.001475</td>\n",
       "      <td>-0.015309</td>\n",
       "      <td>0.158898</td>\n",
       "      <td>7.097173</td>\n",
       "    </tr>\n",
       "    <tr>\n",
       "      <th>3</th>\n",
       "      <td>5.452294</td>\n",
       "      <td>8.382157</td>\n",
       "      <td>6.635688</td>\n",
       "      <td>0.151430</td>\n",
       "      <td>3.050153</td>\n",
       "      <td>1.842342</td>\n",
       "      <td>1.860686</td>\n",
       "      <td>1.879213</td>\n",
       "      <td>7.273620</td>\n",
       "    </tr>\n",
       "    <tr>\n",
       "      <th>4</th>\n",
       "      <td>2.827150</td>\n",
       "      <td>6.079703</td>\n",
       "      <td>5.848145</td>\n",
       "      <td>1.384583</td>\n",
       "      <td>0.053619</td>\n",
       "      <td>0.893261</td>\n",
       "      <td>1.185470</td>\n",
       "      <td>1.573269</td>\n",
       "      <td>6.797187</td>\n",
       "    </tr>\n",
       "  </tbody>\n",
       "</table>\n",
       "</div>"
      ],
      "text/plain": [
       "          x  y_actualizado  y_prediccion       SSR       SSD       SST  \\\n",
       "0  3.550475       4.725984      6.065142  0.920996  1.793345  5.284682   \n",
       "1  5.210546       6.977740      6.563164  0.213134  0.171873  0.002217   \n",
       "2  4.480070       6.986423      6.344021  0.463498  0.412680  0.001475   \n",
       "3  5.452294       8.382157      6.635688  0.151430  3.050153  1.842342   \n",
       "4  2.827150       6.079703      5.848145  1.384583  0.053619  0.893261   \n",
       "\n",
       "     beta_n    beta_d   y_model  \n",
       "0  1.220628  0.281934  6.928462  \n",
       "1 -0.053167  1.274857  7.229745  \n",
       "2 -0.015309  0.158898  7.097173  \n",
       "3  1.860686  1.879213  7.273620  \n",
       "4  1.185470  1.573269  6.797187  "
      ]
     },
     "execution_count": 69,
     "metadata": {},
     "output_type": "execute_result"
    }
   ],
   "source": [
    "data.head()"
   ]
  },
  {
   "cell_type": "code",
   "execution_count": 70,
   "id": "252f5fcf",
   "metadata": {},
   "outputs": [],
   "source": [
    "SSR = sum((data[\"y_model\"]-y_mean)**2)\n",
    "SSD = sum((data[\"y_model\"]-data[\"y_actualizado\"])**2)\n",
    "SST = sum((data[\"y_actualizado\"]-y_mean)**2)"
   ]
  },
  {
   "cell_type": "code",
   "execution_count": 71,
   "id": "d677df2d",
   "metadata": {},
   "outputs": [
    {
     "data": {
      "text/plain": [
       "(2.5870850917136026, 96.71665395088966, 99.30373904260333)"
      ]
     },
     "execution_count": 71,
     "metadata": {},
     "output_type": "execute_result"
    }
   ],
   "source": [
    "SSR, SSD, SST"
   ]
  },
  {
   "cell_type": "code",
   "execution_count": 72,
   "id": "ccbe2165",
   "metadata": {},
   "outputs": [
    {
     "data": {
      "text/plain": [
       "0.026052242510261274"
      ]
     },
     "execution_count": 72,
     "metadata": {},
     "output_type": "execute_result"
    }
   ],
   "source": [
    "R2 = SSR / SST\n",
    "R2"
   ]
  },
  {
   "cell_type": "code",
   "execution_count": 73,
   "id": "227fa8fc",
   "metadata": {},
   "outputs": [
    {
     "data": {
      "text/plain": [
       "Text(0.5, 1.0, 'Valor Actual vs Prediccion')"
      ]
     },
     "execution_count": 73,
     "metadata": {},
     "output_type": "execute_result"
    },
    {
     "data": {
      "image/png": "[encoded data removed]",
      "text/plain": [
       "<Figure size 432x288 with 1 Axes>"
      ]
     },
     "metadata": {
      "needs_background": "light"
     },
     "output_type": "display_data"
    }
   ],
   "source": [
    "y_mean = [np.mean(y_act) for i in range(1, len(x_list) + 1)]\n",
    "\n",
    "%matplotlib inline\n",
    "plt.plot(data[\"x\"],data[\"y_prediccion\"])\n",
    "plt.plot(data[\"x\"],data[\"y_actualizado\"], \"ro\")\n",
    "plt.plot(data[\"x\"], y_mean, \"g\")\n",
    "plt.plot(data[\"x\"], data[\"y_model\"])\n",
    "plt.title(\"Valor Actual vs Prediccion\")"
   ]
  },
  {
   "cell_type": "markdown",
   "id": "c1b2b7d3",
   "metadata": {},
   "source": [
    "# Error estándar de los residuos (RSE)"
   ]
  },
  {
   "cell_type": "code",
   "execution_count": 74,
   "id": "75aba765",
   "metadata": {},
   "outputs": [
    {
     "data": {
      "text/plain": [
       "0.9934307384774921"
      ]
     },
     "execution_count": 74,
     "metadata": {},
     "output_type": "execute_result"
    }
   ],
   "source": [
    "RSE = np.sqrt(SSD/(len(data)-2))\n",
    "RSE"
   ]
  },
  {
   "cell_type": "code",
   "execution_count": 76,
   "id": "61003bcb",
   "metadata": {},
   "outputs": [
    {
     "data": {
      "text/plain": [
       "7.024827893500803"
      ]
     },
     "execution_count": 76,
     "metadata": {},
     "output_type": "execute_result"
    }
   ],
   "source": [
    "np.mean(data[\"y_actualizado\"])"
   ]
  },
  {
   "cell_type": "code",
   "execution_count": 77,
   "id": "ae46f941",
   "metadata": {},
   "outputs": [
    {
     "data": {
      "text/plain": [
       "0.14141709285099918"
      ]
     },
     "execution_count": 77,
     "metadata": {},
     "output_type": "execute_result"
    }
   ],
   "source": [
    "RSE / np.mean(data[\"y_actualizado\"])"
   ]
  },
  {
   "cell_type": "code",
   "execution_count": null,
   "id": "dbe52245",
   "metadata": {},
   "outputs": [],
   "source": []
  }
 ],
 "metadata": {
  "kernelspec": {
   "display_name": "Python 3",
   "language": "python",
   "name": "python3"
  },
  "language_info": {
   "codemirror_mode": {
    "name": "ipython",
    "version": 3
   },
   "file_extension": ".py",
   "mimetype": "text/x-python",
   "name": "python",
   "nbconvert_exporter": "python",
   "pygments_lexer": "ipython3",
   "version": "3.8.8"
  }
 },
 "nbformat": 4,
 "nbformat_minor": 5
}
