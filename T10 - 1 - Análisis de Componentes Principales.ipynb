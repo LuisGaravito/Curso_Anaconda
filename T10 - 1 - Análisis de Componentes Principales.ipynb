{
 "cells": [
  {
   "cell_type": "markdown",
   "id": "bc98753d",
   "metadata": {},
   "source": [
    "# Analisis de Componentes Principales - Paso a Paso\n"
   ]
  },
  {
   "cell_type": "markdown",
   "id": "e4b4b4a6",
   "metadata": {},
   "source": [
    "* Estandarizar los datos (para cada una de las m observaciones)\n",
    "* Obtener los vectores y los valores propios a partir de la matriz de covarianzas o de correlaciones o incluso la tecinca\n",
    "  singular vector decomposition.\n",
    "* Ordernar los valores propios en orden descendiente y quedarnos con los *p* que se correspondan a los *p* mayores y así\n",
    "  disminuir el numero de variables del dataset.\n",
    "* Construir la matriz de proyeccion W a partir de los p vectores propios\n",
    "* Transformar el dataset original X a través de W para así obtener datos en el subespacio dimensional de dimension *p*\n",
    "  que será Y."
   ]
  },
  {
   "cell_type": "code",
   "execution_count": 3,
   "id": "595ba93a",
   "metadata": {},
   "outputs": [],
   "source": [
    "import pandas as pd"
   ]
  },
  {
   "cell_type": "code",
   "execution_count": 4,
   "id": "7b620e18",
   "metadata": {},
   "outputs": [
    {
     "data": {
      "text/html": [
       "<div>\n",
       "<style scoped>\n",
       "    .dataframe tbody tr th:only-of-type {\n",
       "        vertical-align: middle;\n",
       "    }\n",
       "\n",
       "    .dataframe tbody tr th {\n",
       "        vertical-align: top;\n",
       "    }\n",
       "\n",
       "    .dataframe thead th {\n",
       "        text-align: right;\n",
       "    }\n",
       "</style>\n",
       "<table border=\"1\" class=\"dataframe\">\n",
       "  <thead>\n",
       "    <tr style=\"text-align: right;\">\n",
       "      <th></th>\n",
       "      <th>Sepal.Length</th>\n",
       "      <th>Sepal.Width</th>\n",
       "      <th>Petal.Length</th>\n",
       "      <th>Petal.Width</th>\n",
       "      <th>Species</th>\n",
       "    </tr>\n",
       "  </thead>\n",
       "  <tbody>\n",
       "    <tr>\n",
       "      <th>0</th>\n",
       "      <td>5.1</td>\n",
       "      <td>3.5</td>\n",
       "      <td>1.4</td>\n",
       "      <td>0.2</td>\n",
       "      <td>setosa</td>\n",
       "    </tr>\n",
       "    <tr>\n",
       "      <th>1</th>\n",
       "      <td>4.9</td>\n",
       "      <td>3.0</td>\n",
       "      <td>1.4</td>\n",
       "      <td>0.2</td>\n",
       "      <td>setosa</td>\n",
       "    </tr>\n",
       "    <tr>\n",
       "      <th>2</th>\n",
       "      <td>4.7</td>\n",
       "      <td>3.2</td>\n",
       "      <td>1.3</td>\n",
       "      <td>0.2</td>\n",
       "      <td>setosa</td>\n",
       "    </tr>\n",
       "    <tr>\n",
       "      <th>3</th>\n",
       "      <td>4.6</td>\n",
       "      <td>3.1</td>\n",
       "      <td>1.5</td>\n",
       "      <td>0.2</td>\n",
       "      <td>setosa</td>\n",
       "    </tr>\n",
       "    <tr>\n",
       "      <th>4</th>\n",
       "      <td>5.0</td>\n",
       "      <td>3.6</td>\n",
       "      <td>1.4</td>\n",
       "      <td>0.2</td>\n",
       "      <td>setosa</td>\n",
       "    </tr>\n",
       "  </tbody>\n",
       "</table>\n",
       "</div>"
      ],
      "text/plain": [
       "   Sepal.Length  Sepal.Width  Petal.Length  Petal.Width Species\n",
       "0           5.1          3.5           1.4          0.2  setosa\n",
       "1           4.9          3.0           1.4          0.2  setosa\n",
       "2           4.7          3.2           1.3          0.2  setosa\n",
       "3           4.6          3.1           1.5          0.2  setosa\n",
       "4           5.0          3.6           1.4          0.2  setosa"
      ]
     },
     "execution_count": 4,
     "metadata": {},
     "output_type": "execute_result"
    }
   ],
   "source": [
    "urldata = \"https://raw.githubusercontent.com/joanby/python-ml-course/master/datasets/iris/iris.csv\"\n",
    "df = pd.read_csv(urldata)\n",
    "df.head()"
   ]
  },
  {
   "cell_type": "code",
   "execution_count": 5,
   "id": "dff5d4df",
   "metadata": {},
   "outputs": [],
   "source": [
    "X = df.iloc[:,0:4].values\n",
    "y = df.iloc[:,4].values"
   ]
  },
  {
   "cell_type": "code",
   "execution_count": 6,
   "id": "1f78ea33",
   "metadata": {},
   "outputs": [
    {
     "data": {
      "text/plain": [
       "array([5.1, 3.5, 1.4, 0.2])"
      ]
     },
     "execution_count": 6,
     "metadata": {},
     "output_type": "execute_result"
    }
   ],
   "source": [
    "X[0]"
   ]
  },
  {
   "cell_type": "code",
   "execution_count": 7,
   "id": "f306d599",
   "metadata": {},
   "outputs": [],
   "source": [
    "import chart_studio.plotly as py\n",
    "from plotly.graph_objs import *\n",
    "import chart_studio.tools as tls"
   ]
  },
  {
   "cell_type": "code",
   "execution_count": 8,
   "id": "e6a58f87",
   "metadata": {},
   "outputs": [],
   "source": [
    "tls.set_credentials_file(username='LuisGaravito', api_key='q5VAYLoirjbFGNwlF81u')"
   ]
  },
  {
   "cell_type": "code",
   "execution_count": 9,
   "id": "b2ffde98",
   "metadata": {},
   "outputs": [
    {
     "name": "stderr",
     "output_type": "stream",
     "text": [
      "C:\\Users\\LGARAVITO2\\anaconda3\\lib\\site-packages\\plotly\\graph_objs\\_deprecations.py:434: DeprecationWarning: plotly.graph_objs.Marker is deprecated.\n",
      "Please replace it with one of the following more specific types\n",
      "  - plotly.graph_objs.scatter.Marker\n",
      "  - plotly.graph_objs.histogram.selected.Marker\n",
      "  - etc.\n",
      "\n",
      "  warnings.warn(\n"
     ]
    },
    {
     "ename": "ValueError",
     "evalue": "\n    Invalid value of type 'builtins.str' received for the 'color' property of histogram.marker\n        Received value: 'rgb(31,220.120)'\n\n    The 'color' property is a color and may be specified as:\n      - A hex string (e.g. '#ff0000')\n      - An rgb/rgba string (e.g. 'rgb(255,0,0)')\n      - An hsl/hsla string (e.g. 'hsl(0,100%,50%)')\n      - An hsv/hsva string (e.g. 'hsv(0,100%,100%)')\n      - A named CSS color:\n            aliceblue, antiquewhite, aqua, aquamarine, azure,\n            beige, bisque, black, blanchedalmond, blue,\n            blueviolet, brown, burlywood, cadetblue,\n            chartreuse, chocolate, coral, cornflowerblue,\n            cornsilk, crimson, cyan, darkblue, darkcyan,\n            darkgoldenrod, darkgray, darkgrey, darkgreen,\n            darkkhaki, darkmagenta, darkolivegreen, darkorange,\n            darkorchid, darkred, darksalmon, darkseagreen,\n            darkslateblue, darkslategray, darkslategrey,\n            darkturquoise, darkviolet, deeppink, deepskyblue,\n            dimgray, dimgrey, dodgerblue, firebrick,\n            floralwhite, forestgreen, fuchsia, gainsboro,\n            ghostwhite, gold, goldenrod, gray, grey, green,\n            greenyellow, honeydew, hotpink, indianred, indigo,\n            ivory, khaki, lavender, lavenderblush, lawngreen,\n            lemonchiffon, lightblue, lightcoral, lightcyan,\n            lightgoldenrodyellow, lightgray, lightgrey,\n            lightgreen, lightpink, lightsalmon, lightseagreen,\n            lightskyblue, lightslategray, lightslategrey,\n            lightsteelblue, lightyellow, lime, limegreen,\n            linen, magenta, maroon, mediumaquamarine,\n            mediumblue, mediumorchid, mediumpurple,\n            mediumseagreen, mediumslateblue, mediumspringgreen,\n            mediumturquoise, mediumvioletred, midnightblue,\n            mintcream, mistyrose, moccasin, navajowhite, navy,\n            oldlace, olive, olivedrab, orange, orangered,\n            orchid, palegoldenrod, palegreen, paleturquoise,\n            palevioletred, papayawhip, peachpuff, peru, pink,\n            plum, powderblue, purple, red, rosybrown,\n            royalblue, rebeccapurple, saddlebrown, salmon,\n            sandybrown, seagreen, seashell, sienna, silver,\n            skyblue, slateblue, slategray, slategrey, snow,\n            springgreen, steelblue, tan, teal, thistle, tomato,\n            turquoise, violet, wheat, white, whitesmoke,\n            yellow, yellowgreen\n      - A number that will be interpreted as a color\n        according to histogram.marker.colorscale\n      - A list or array of any of the above",
     "output_type": "error",
     "traceback": [
      "\u001b[1;31m---------------------------------------------------------------------------\u001b[0m",
      "\u001b[1;31mValueError\u001b[0m                                Traceback (most recent call last)",
      "\u001b[1;32m<ipython-input-9-fc234b95b9e8>\u001b[0m in \u001b[0;36m<module>\u001b[1;34m\u001b[0m\n\u001b[0;32m      8\u001b[0m \u001b[1;32mfor\u001b[0m \u001b[0mcol\u001b[0m \u001b[1;32min\u001b[0m \u001b[0mrange\u001b[0m\u001b[1;33m(\u001b[0m\u001b[1;36m4\u001b[0m\u001b[1;33m)\u001b[0m\u001b[1;33m:\u001b[0m\u001b[1;33m\u001b[0m\u001b[1;33m\u001b[0m\u001b[0m\n\u001b[0;32m      9\u001b[0m     \u001b[1;32mfor\u001b[0m \u001b[0mkey\u001b[0m \u001b[1;32min\u001b[0m \u001b[0mcolors\u001b[0m\u001b[1;33m:\u001b[0m\u001b[1;33m\u001b[0m\u001b[1;33m\u001b[0m\u001b[0m\n\u001b[1;32m---> 10\u001b[1;33m         traces.append(Histogram(x=X[y==key, col], opacity = 0.7, \n\u001b[0m\u001b[0;32m     11\u001b[0m                                 \u001b[0mxaxis\u001b[0m\u001b[1;33m=\u001b[0m\u001b[1;34m\"x%s\"\u001b[0m\u001b[1;33m%\u001b[0m\u001b[1;33m(\u001b[0m\u001b[0mcol\u001b[0m\u001b[1;33m+\u001b[0m\u001b[1;36m1\u001b[0m\u001b[1;33m)\u001b[0m\u001b[1;33m,\u001b[0m \u001b[0mmarker\u001b[0m\u001b[1;33m=\u001b[0m\u001b[0mMarker\u001b[0m\u001b[1;33m(\u001b[0m\u001b[0mcolor\u001b[0m\u001b[1;33m=\u001b[0m\u001b[0mcolors\u001b[0m\u001b[1;33m[\u001b[0m\u001b[0mkey\u001b[0m\u001b[1;33m]\u001b[0m\u001b[1;33m)\u001b[0m\u001b[1;33m,\u001b[0m\u001b[1;33m\u001b[0m\u001b[1;33m\u001b[0m\u001b[0m\n\u001b[0;32m     12\u001b[0m                                 name = key, showlegend=legend[col]))\n",
      "\u001b[1;32m~\\anaconda3\\lib\\site-packages\\plotly\\graph_objs\\_histogram.py\u001b[0m in \u001b[0;36m__init__\u001b[1;34m(self, arg, alignmentgroup, autobinx, autobiny, bingroup, cumulative, customdata, customdatasrc, error_x, error_y, histfunc, histnorm, hoverinfo, hoverinfosrc, hoverlabel, hovertemplate, hovertemplatesrc, hovertext, hovertextsrc, ids, idssrc, legendgroup, legendgrouptitle, legendrank, marker, meta, metasrc, name, nbinsx, nbinsy, offsetgroup, opacity, orientation, selected, selectedpoints, showlegend, stream, text, textsrc, uid, uirevision, unselected, visible, x, xaxis, xbins, xcalendar, xhoverformat, xsrc, y, yaxis, ybins, ycalendar, yhoverformat, ysrc, **kwargs)\u001b[0m\n\u001b[0;32m   2555\u001b[0m         \u001b[0m_v\u001b[0m \u001b[1;33m=\u001b[0m \u001b[0mmarker\u001b[0m \u001b[1;32mif\u001b[0m \u001b[0mmarker\u001b[0m \u001b[1;32mis\u001b[0m \u001b[1;32mnot\u001b[0m \u001b[1;32mNone\u001b[0m \u001b[1;32melse\u001b[0m \u001b[0m_v\u001b[0m\u001b[1;33m\u001b[0m\u001b[1;33m\u001b[0m\u001b[0m\n\u001b[0;32m   2556\u001b[0m         \u001b[1;32mif\u001b[0m \u001b[0m_v\u001b[0m \u001b[1;32mis\u001b[0m \u001b[1;32mnot\u001b[0m \u001b[1;32mNone\u001b[0m\u001b[1;33m:\u001b[0m\u001b[1;33m\u001b[0m\u001b[1;33m\u001b[0m\u001b[0m\n\u001b[1;32m-> 2557\u001b[1;33m             \u001b[0mself\u001b[0m\u001b[1;33m[\u001b[0m\u001b[1;34m\"marker\"\u001b[0m\u001b[1;33m]\u001b[0m \u001b[1;33m=\u001b[0m \u001b[0m_v\u001b[0m\u001b[1;33m\u001b[0m\u001b[1;33m\u001b[0m\u001b[0m\n\u001b[0m\u001b[0;32m   2558\u001b[0m         \u001b[0m_v\u001b[0m \u001b[1;33m=\u001b[0m \u001b[0marg\u001b[0m\u001b[1;33m.\u001b[0m\u001b[0mpop\u001b[0m\u001b[1;33m(\u001b[0m\u001b[1;34m\"meta\"\u001b[0m\u001b[1;33m,\u001b[0m \u001b[1;32mNone\u001b[0m\u001b[1;33m)\u001b[0m\u001b[1;33m\u001b[0m\u001b[1;33m\u001b[0m\u001b[0m\n\u001b[0;32m   2559\u001b[0m         \u001b[0m_v\u001b[0m \u001b[1;33m=\u001b[0m \u001b[0mmeta\u001b[0m \u001b[1;32mif\u001b[0m \u001b[0mmeta\u001b[0m \u001b[1;32mis\u001b[0m \u001b[1;32mnot\u001b[0m \u001b[1;32mNone\u001b[0m \u001b[1;32melse\u001b[0m \u001b[0m_v\u001b[0m\u001b[1;33m\u001b[0m\u001b[1;33m\u001b[0m\u001b[0m\n",
      "\u001b[1;32m~\\anaconda3\\lib\\site-packages\\plotly\\basedatatypes.py\u001b[0m in \u001b[0;36m__setitem__\u001b[1;34m(self, prop, value)\u001b[0m\n\u001b[0;32m   4809\u001b[0m                 \u001b[1;31m# ### Handle compound property ###\u001b[0m\u001b[1;33m\u001b[0m\u001b[1;33m\u001b[0m\u001b[1;33m\u001b[0m\u001b[0m\n\u001b[0;32m   4810\u001b[0m                 \u001b[1;32mif\u001b[0m \u001b[0misinstance\u001b[0m\u001b[1;33m(\u001b[0m\u001b[0mvalidator\u001b[0m\u001b[1;33m,\u001b[0m \u001b[0mCompoundValidator\u001b[0m\u001b[1;33m)\u001b[0m\u001b[1;33m:\u001b[0m\u001b[1;33m\u001b[0m\u001b[1;33m\u001b[0m\u001b[0m\n\u001b[1;32m-> 4811\u001b[1;33m                     \u001b[0mself\u001b[0m\u001b[1;33m.\u001b[0m\u001b[0m_set_compound_prop\u001b[0m\u001b[1;33m(\u001b[0m\u001b[0mprop\u001b[0m\u001b[1;33m,\u001b[0m \u001b[0mvalue\u001b[0m\u001b[1;33m)\u001b[0m\u001b[1;33m\u001b[0m\u001b[1;33m\u001b[0m\u001b[0m\n\u001b[0m\u001b[0;32m   4812\u001b[0m \u001b[1;33m\u001b[0m\u001b[0m\n\u001b[0;32m   4813\u001b[0m                 \u001b[1;31m# ### Handle compound array property ###\u001b[0m\u001b[1;33m\u001b[0m\u001b[1;33m\u001b[0m\u001b[1;33m\u001b[0m\u001b[0m\n",
      "\u001b[1;32m~\\anaconda3\\lib\\site-packages\\plotly\\basedatatypes.py\u001b[0m in \u001b[0;36m_set_compound_prop\u001b[1;34m(self, prop, val)\u001b[0m\n\u001b[0;32m   5220\u001b[0m         \u001b[1;31m# ------------\u001b[0m\u001b[1;33m\u001b[0m\u001b[1;33m\u001b[0m\u001b[1;33m\u001b[0m\u001b[0m\n\u001b[0;32m   5221\u001b[0m         \u001b[0mvalidator\u001b[0m \u001b[1;33m=\u001b[0m \u001b[0mself\u001b[0m\u001b[1;33m.\u001b[0m\u001b[0m_get_validator\u001b[0m\u001b[1;33m(\u001b[0m\u001b[0mprop\u001b[0m\u001b[1;33m)\u001b[0m\u001b[1;33m\u001b[0m\u001b[1;33m\u001b[0m\u001b[0m\n\u001b[1;32m-> 5222\u001b[1;33m         \u001b[0mval\u001b[0m \u001b[1;33m=\u001b[0m \u001b[0mvalidator\u001b[0m\u001b[1;33m.\u001b[0m\u001b[0mvalidate_coerce\u001b[0m\u001b[1;33m(\u001b[0m\u001b[0mval\u001b[0m\u001b[1;33m,\u001b[0m \u001b[0mskip_invalid\u001b[0m\u001b[1;33m=\u001b[0m\u001b[0mself\u001b[0m\u001b[1;33m.\u001b[0m\u001b[0m_skip_invalid\u001b[0m\u001b[1;33m)\u001b[0m\u001b[1;33m\u001b[0m\u001b[1;33m\u001b[0m\u001b[0m\n\u001b[0m\u001b[0;32m   5223\u001b[0m \u001b[1;33m\u001b[0m\u001b[0m\n\u001b[0;32m   5224\u001b[0m         \u001b[1;31m# Save deep copies of current and new states\u001b[0m\u001b[1;33m\u001b[0m\u001b[1;33m\u001b[0m\u001b[1;33m\u001b[0m\u001b[0m\n",
      "\u001b[1;32m~\\anaconda3\\lib\\site-packages\\_plotly_utils\\basevalidators.py\u001b[0m in \u001b[0;36mvalidate_coerce\u001b[1;34m(self, v, skip_invalid, _validate)\u001b[0m\n\u001b[0;32m   2465\u001b[0m \u001b[1;33m\u001b[0m\u001b[0m\n\u001b[0;32m   2466\u001b[0m         \u001b[1;32melif\u001b[0m \u001b[0misinstance\u001b[0m\u001b[1;33m(\u001b[0m\u001b[0mv\u001b[0m\u001b[1;33m,\u001b[0m \u001b[0mdict\u001b[0m\u001b[1;33m)\u001b[0m\u001b[1;33m:\u001b[0m\u001b[1;33m\u001b[0m\u001b[1;33m\u001b[0m\u001b[0m\n\u001b[1;32m-> 2467\u001b[1;33m             \u001b[0mv\u001b[0m \u001b[1;33m=\u001b[0m \u001b[0mself\u001b[0m\u001b[1;33m.\u001b[0m\u001b[0mdata_class\u001b[0m\u001b[1;33m(\u001b[0m\u001b[0mv\u001b[0m\u001b[1;33m,\u001b[0m \u001b[0mskip_invalid\u001b[0m\u001b[1;33m=\u001b[0m\u001b[0mskip_invalid\u001b[0m\u001b[1;33m,\u001b[0m \u001b[0m_validate\u001b[0m\u001b[1;33m=\u001b[0m\u001b[0m_validate\u001b[0m\u001b[1;33m)\u001b[0m\u001b[1;33m\u001b[0m\u001b[1;33m\u001b[0m\u001b[0m\n\u001b[0m\u001b[0;32m   2468\u001b[0m \u001b[1;33m\u001b[0m\u001b[0m\n\u001b[0;32m   2469\u001b[0m         \u001b[1;32melif\u001b[0m \u001b[0misinstance\u001b[0m\u001b[1;33m(\u001b[0m\u001b[0mv\u001b[0m\u001b[1;33m,\u001b[0m \u001b[0mself\u001b[0m\u001b[1;33m.\u001b[0m\u001b[0mdata_class\u001b[0m\u001b[1;33m)\u001b[0m\u001b[1;33m:\u001b[0m\u001b[1;33m\u001b[0m\u001b[1;33m\u001b[0m\u001b[0m\n",
      "\u001b[1;32m~\\anaconda3\\lib\\site-packages\\plotly\\graph_objs\\histogram\\_marker.py\u001b[0m in \u001b[0;36m__init__\u001b[1;34m(self, arg, autocolorscale, cauto, cmax, cmid, cmin, color, coloraxis, colorbar, colorscale, colorsrc, line, opacity, opacitysrc, pattern, reversescale, showscale, **kwargs)\u001b[0m\n\u001b[0;32m   1101\u001b[0m         \u001b[0m_v\u001b[0m \u001b[1;33m=\u001b[0m \u001b[0mcolor\u001b[0m \u001b[1;32mif\u001b[0m \u001b[0mcolor\u001b[0m \u001b[1;32mis\u001b[0m \u001b[1;32mnot\u001b[0m \u001b[1;32mNone\u001b[0m \u001b[1;32melse\u001b[0m \u001b[0m_v\u001b[0m\u001b[1;33m\u001b[0m\u001b[1;33m\u001b[0m\u001b[0m\n\u001b[0;32m   1102\u001b[0m         \u001b[1;32mif\u001b[0m \u001b[0m_v\u001b[0m \u001b[1;32mis\u001b[0m \u001b[1;32mnot\u001b[0m \u001b[1;32mNone\u001b[0m\u001b[1;33m:\u001b[0m\u001b[1;33m\u001b[0m\u001b[1;33m\u001b[0m\u001b[0m\n\u001b[1;32m-> 1103\u001b[1;33m             \u001b[0mself\u001b[0m\u001b[1;33m[\u001b[0m\u001b[1;34m\"color\"\u001b[0m\u001b[1;33m]\u001b[0m \u001b[1;33m=\u001b[0m \u001b[0m_v\u001b[0m\u001b[1;33m\u001b[0m\u001b[1;33m\u001b[0m\u001b[0m\n\u001b[0m\u001b[0;32m   1104\u001b[0m         \u001b[0m_v\u001b[0m \u001b[1;33m=\u001b[0m \u001b[0marg\u001b[0m\u001b[1;33m.\u001b[0m\u001b[0mpop\u001b[0m\u001b[1;33m(\u001b[0m\u001b[1;34m\"coloraxis\"\u001b[0m\u001b[1;33m,\u001b[0m \u001b[1;32mNone\u001b[0m\u001b[1;33m)\u001b[0m\u001b[1;33m\u001b[0m\u001b[1;33m\u001b[0m\u001b[0m\n\u001b[0;32m   1105\u001b[0m         \u001b[0m_v\u001b[0m \u001b[1;33m=\u001b[0m \u001b[0mcoloraxis\u001b[0m \u001b[1;32mif\u001b[0m \u001b[0mcoloraxis\u001b[0m \u001b[1;32mis\u001b[0m \u001b[1;32mnot\u001b[0m \u001b[1;32mNone\u001b[0m \u001b[1;32melse\u001b[0m \u001b[0m_v\u001b[0m\u001b[1;33m\u001b[0m\u001b[1;33m\u001b[0m\u001b[0m\n",
      "\u001b[1;32m~\\anaconda3\\lib\\site-packages\\plotly\\basedatatypes.py\u001b[0m in \u001b[0;36m__setitem__\u001b[1;34m(self, prop, value)\u001b[0m\n\u001b[0;32m   4817\u001b[0m                 \u001b[1;31m# ### Handle simple property ###\u001b[0m\u001b[1;33m\u001b[0m\u001b[1;33m\u001b[0m\u001b[1;33m\u001b[0m\u001b[0m\n\u001b[0;32m   4818\u001b[0m                 \u001b[1;32melse\u001b[0m\u001b[1;33m:\u001b[0m\u001b[1;33m\u001b[0m\u001b[1;33m\u001b[0m\u001b[0m\n\u001b[1;32m-> 4819\u001b[1;33m                     \u001b[0mself\u001b[0m\u001b[1;33m.\u001b[0m\u001b[0m_set_prop\u001b[0m\u001b[1;33m(\u001b[0m\u001b[0mprop\u001b[0m\u001b[1;33m,\u001b[0m \u001b[0mvalue\u001b[0m\u001b[1;33m)\u001b[0m\u001b[1;33m\u001b[0m\u001b[1;33m\u001b[0m\u001b[0m\n\u001b[0m\u001b[0;32m   4820\u001b[0m             \u001b[1;32melse\u001b[0m\u001b[1;33m:\u001b[0m\u001b[1;33m\u001b[0m\u001b[1;33m\u001b[0m\u001b[0m\n\u001b[0;32m   4821\u001b[0m                 \u001b[1;31m# Make sure properties dict is initialized\u001b[0m\u001b[1;33m\u001b[0m\u001b[1;33m\u001b[0m\u001b[1;33m\u001b[0m\u001b[0m\n",
      "\u001b[1;32m~\\anaconda3\\lib\\site-packages\\plotly\\basedatatypes.py\u001b[0m in \u001b[0;36m_set_prop\u001b[1;34m(self, prop, val)\u001b[0m\n\u001b[0;32m   5161\u001b[0m                 \u001b[1;32mreturn\u001b[0m\u001b[1;33m\u001b[0m\u001b[1;33m\u001b[0m\u001b[0m\n\u001b[0;32m   5162\u001b[0m             \u001b[1;32melse\u001b[0m\u001b[1;33m:\u001b[0m\u001b[1;33m\u001b[0m\u001b[1;33m\u001b[0m\u001b[0m\n\u001b[1;32m-> 5163\u001b[1;33m                 \u001b[1;32mraise\u001b[0m \u001b[0merr\u001b[0m\u001b[1;33m\u001b[0m\u001b[1;33m\u001b[0m\u001b[0m\n\u001b[0m\u001b[0;32m   5164\u001b[0m \u001b[1;33m\u001b[0m\u001b[0m\n\u001b[0;32m   5165\u001b[0m         \u001b[1;31m# val is None\u001b[0m\u001b[1;33m\u001b[0m\u001b[1;33m\u001b[0m\u001b[1;33m\u001b[0m\u001b[0m\n",
      "\u001b[1;32m~\\anaconda3\\lib\\site-packages\\plotly\\basedatatypes.py\u001b[0m in \u001b[0;36m_set_prop\u001b[1;34m(self, prop, val)\u001b[0m\n\u001b[0;32m   5156\u001b[0m \u001b[1;33m\u001b[0m\u001b[0m\n\u001b[0;32m   5157\u001b[0m         \u001b[1;32mtry\u001b[0m\u001b[1;33m:\u001b[0m\u001b[1;33m\u001b[0m\u001b[1;33m\u001b[0m\u001b[0m\n\u001b[1;32m-> 5158\u001b[1;33m             \u001b[0mval\u001b[0m \u001b[1;33m=\u001b[0m \u001b[0mvalidator\u001b[0m\u001b[1;33m.\u001b[0m\u001b[0mvalidate_coerce\u001b[0m\u001b[1;33m(\u001b[0m\u001b[0mval\u001b[0m\u001b[1;33m)\u001b[0m\u001b[1;33m\u001b[0m\u001b[1;33m\u001b[0m\u001b[0m\n\u001b[0m\u001b[0;32m   5159\u001b[0m         \u001b[1;32mexcept\u001b[0m \u001b[0mValueError\u001b[0m \u001b[1;32mas\u001b[0m \u001b[0merr\u001b[0m\u001b[1;33m:\u001b[0m\u001b[1;33m\u001b[0m\u001b[1;33m\u001b[0m\u001b[0m\n\u001b[0;32m   5160\u001b[0m             \u001b[1;32mif\u001b[0m \u001b[0mself\u001b[0m\u001b[1;33m.\u001b[0m\u001b[0m_skip_invalid\u001b[0m\u001b[1;33m:\u001b[0m\u001b[1;33m\u001b[0m\u001b[1;33m\u001b[0m\u001b[0m\n",
      "\u001b[1;32m~\\anaconda3\\lib\\site-packages\\_plotly_utils\\basevalidators.py\u001b[0m in \u001b[0;36mvalidate_coerce\u001b[1;34m(self, v, should_raise)\u001b[0m\n\u001b[0;32m   1380\u001b[0m             \u001b[0mvalidated_v\u001b[0m \u001b[1;33m=\u001b[0m \u001b[0mself\u001b[0m\u001b[1;33m.\u001b[0m\u001b[0mvc_scalar\u001b[0m\u001b[1;33m(\u001b[0m\u001b[0mv\u001b[0m\u001b[1;33m)\u001b[0m\u001b[1;33m\u001b[0m\u001b[1;33m\u001b[0m\u001b[0m\n\u001b[0;32m   1381\u001b[0m             \u001b[1;32mif\u001b[0m \u001b[0mvalidated_v\u001b[0m \u001b[1;32mis\u001b[0m \u001b[1;32mNone\u001b[0m \u001b[1;32mand\u001b[0m \u001b[0mshould_raise\u001b[0m\u001b[1;33m:\u001b[0m\u001b[1;33m\u001b[0m\u001b[1;33m\u001b[0m\u001b[0m\n\u001b[1;32m-> 1382\u001b[1;33m                 \u001b[0mself\u001b[0m\u001b[1;33m.\u001b[0m\u001b[0mraise_invalid_val\u001b[0m\u001b[1;33m(\u001b[0m\u001b[0mv\u001b[0m\u001b[1;33m)\u001b[0m\u001b[1;33m\u001b[0m\u001b[1;33m\u001b[0m\u001b[0m\n\u001b[0m\u001b[0;32m   1383\u001b[0m \u001b[1;33m\u001b[0m\u001b[0m\n\u001b[0;32m   1384\u001b[0m             \u001b[0mv\u001b[0m \u001b[1;33m=\u001b[0m \u001b[0mvalidated_v\u001b[0m\u001b[1;33m\u001b[0m\u001b[1;33m\u001b[0m\u001b[0m\n",
      "\u001b[1;32m~\\anaconda3\\lib\\site-packages\\_plotly_utils\\basevalidators.py\u001b[0m in \u001b[0;36mraise_invalid_val\u001b[1;34m(self, v, inds)\u001b[0m\n\u001b[0;32m    287\u001b[0m                 \u001b[0mname\u001b[0m \u001b[1;33m+=\u001b[0m \u001b[1;34m\"[\"\u001b[0m \u001b[1;33m+\u001b[0m \u001b[0mstr\u001b[0m\u001b[1;33m(\u001b[0m\u001b[0mi\u001b[0m\u001b[1;33m)\u001b[0m \u001b[1;33m+\u001b[0m \u001b[1;34m\"]\"\u001b[0m\u001b[1;33m\u001b[0m\u001b[1;33m\u001b[0m\u001b[0m\n\u001b[0;32m    288\u001b[0m \u001b[1;33m\u001b[0m\u001b[0m\n\u001b[1;32m--> 289\u001b[1;33m         raise ValueError(\n\u001b[0m\u001b[0;32m    290\u001b[0m             \"\"\"\n\u001b[0;32m    291\u001b[0m     \u001b[0mInvalid\u001b[0m \u001b[0mvalue\u001b[0m \u001b[0mof\u001b[0m \u001b[0mtype\u001b[0m \u001b[1;33m{\u001b[0m\u001b[0mtyp\u001b[0m\u001b[1;33m}\u001b[0m \u001b[0mreceived\u001b[0m \u001b[1;32mfor\u001b[0m \u001b[0mthe\u001b[0m \u001b[1;34m'{name}'\u001b[0m \u001b[0mproperty\u001b[0m \u001b[0mof\u001b[0m \u001b[1;33m{\u001b[0m\u001b[0mpname\u001b[0m\u001b[1;33m}\u001b[0m\u001b[1;33m\u001b[0m\u001b[1;33m\u001b[0m\u001b[0m\n",
      "\u001b[1;31mValueError\u001b[0m: \n    Invalid value of type 'builtins.str' received for the 'color' property of histogram.marker\n        Received value: 'rgb(31,220.120)'\n\n    The 'color' property is a color and may be specified as:\n      - A hex string (e.g. '#ff0000')\n      - An rgb/rgba string (e.g. 'rgb(255,0,0)')\n      - An hsl/hsla string (e.g. 'hsl(0,100%,50%)')\n      - An hsv/hsva string (e.g. 'hsv(0,100%,100%)')\n      - A named CSS color:\n            aliceblue, antiquewhite, aqua, aquamarine, azure,\n            beige, bisque, black, blanchedalmond, blue,\n            blueviolet, brown, burlywood, cadetblue,\n            chartreuse, chocolate, coral, cornflowerblue,\n            cornsilk, crimson, cyan, darkblue, darkcyan,\n            darkgoldenrod, darkgray, darkgrey, darkgreen,\n            darkkhaki, darkmagenta, darkolivegreen, darkorange,\n            darkorchid, darkred, darksalmon, darkseagreen,\n            darkslateblue, darkslategray, darkslategrey,\n            darkturquoise, darkviolet, deeppink, deepskyblue,\n            dimgray, dimgrey, dodgerblue, firebrick,\n            floralwhite, forestgreen, fuchsia, gainsboro,\n            ghostwhite, gold, goldenrod, gray, grey, green,\n            greenyellow, honeydew, hotpink, indianred, indigo,\n            ivory, khaki, lavender, lavenderblush, lawngreen,\n            lemonchiffon, lightblue, lightcoral, lightcyan,\n            lightgoldenrodyellow, lightgray, lightgrey,\n            lightgreen, lightpink, lightsalmon, lightseagreen,\n            lightskyblue, lightslategray, lightslategrey,\n            lightsteelblue, lightyellow, lime, limegreen,\n            linen, magenta, maroon, mediumaquamarine,\n            mediumblue, mediumorchid, mediumpurple,\n            mediumseagreen, mediumslateblue, mediumspringgreen,\n            mediumturquoise, mediumvioletred, midnightblue,\n            mintcream, mistyrose, moccasin, navajowhite, navy,\n            oldlace, olive, olivedrab, orange, orangered,\n            orchid, palegoldenrod, palegreen, paleturquoise,\n            palevioletred, papayawhip, peachpuff, peru, pink,\n            plum, powderblue, purple, red, rosybrown,\n            royalblue, rebeccapurple, saddlebrown, salmon,\n            sandybrown, seagreen, seashell, sienna, silver,\n            skyblue, slateblue, slategray, slategrey, snow,\n            springgreen, steelblue, tan, teal, thistle, tomato,\n            turquoise, violet, wheat, white, whitesmoke,\n            yellow, yellowgreen\n      - A number that will be interpreted as a color\n        according to histogram.marker.colorscale\n      - A list or array of any of the above"
     ]
    }
   ],
   "source": [
    "traces = []\n",
    "legend = {0:True, 1:True, 2:True, 3:True}\n",
    "\n",
    "colors = {'setosa': 'rgb(255,127,20)',\n",
    "         'versicolor': 'rgb(31,220.120)',\n",
    "         'virginica': 'rgb(44,50,180)'}\n",
    "\n",
    "for col in range(4):\n",
    "    for key in colors:\n",
    "        traces.append(Histogram(x=X[y==key, col], opacity = 0.7, \n",
    "                                xaxis=\"x%s\"%(col+1), marker=Marker(color=colors[key]), \n",
    "                                name = key, showlegend=legend[col]))\n",
    "        \n",
    "        legend = {0:False, 1:False, 2:False, 3:False}\n",
    "        \n",
    "data = Data(traces)\n",
    "layout = Layout(barmode=\"overlay\",\n",
    "               xaxis=XAxis(domain=[0,0.25], title=\"Long. Sépalos (cm)\"),\n",
    "               xaxis2=XAxis(domain=[0.3,0.5], title=\"Anch. Sépalos (cm)\"),\n",
    "               xaxis3=XAxis(domain=[0.55,0.75], title=\"Long. Pétalos (cm)\"),\n",
    "               xaxis4=XAxis(domain=[0.8,1.0], title=\"Anch. Pétalos (cm)\"),\n",
    "               yaxis=YAxis(title=\"Números de ejemplares\"),\n",
    "               title= \"Distribucion de los rasgos de las diferentes flores Iris\")\n",
    "\n",
    "fig = Figure(data = data, layout = layout)\n",
    "py.iplot(fig)"
   ]
  },
  {
   "cell_type": "code",
   "execution_count": 10,
   "id": "09e1dedb",
   "metadata": {},
   "outputs": [],
   "source": [
    "from sklearn.preprocessing import StandardScaler"
   ]
  },
  {
   "cell_type": "code",
   "execution_count": 11,
   "id": "1e639166",
   "metadata": {},
   "outputs": [],
   "source": [
    "X_std = StandardScaler().fit_transform(X)"
   ]
  },
  {
   "cell_type": "code",
   "execution_count": 10,
   "id": "fc3e155b",
   "metadata": {},
   "outputs": [
    {
     "ename": "IndexError",
     "evalue": "index 0 is out of bounds for axis 1 with size 0",
     "output_type": "error",
     "traceback": [
      "\u001b[1;31m---------------------------------------------------------------------------\u001b[0m",
      "\u001b[1;31mIndexError\u001b[0m                                Traceback (most recent call last)",
      "\u001b[1;32m<ipython-input-10-fc234b95b9e8>\u001b[0m in \u001b[0;36m<module>\u001b[1;34m\u001b[0m\n\u001b[0;32m      8\u001b[0m \u001b[1;32mfor\u001b[0m \u001b[0mcol\u001b[0m \u001b[1;32min\u001b[0m \u001b[0mrange\u001b[0m\u001b[1;33m(\u001b[0m\u001b[1;36m4\u001b[0m\u001b[1;33m)\u001b[0m\u001b[1;33m:\u001b[0m\u001b[1;33m\u001b[0m\u001b[1;33m\u001b[0m\u001b[0m\n\u001b[0;32m      9\u001b[0m     \u001b[1;32mfor\u001b[0m \u001b[0mkey\u001b[0m \u001b[1;32min\u001b[0m \u001b[0mcolors\u001b[0m\u001b[1;33m:\u001b[0m\u001b[1;33m\u001b[0m\u001b[1;33m\u001b[0m\u001b[0m\n\u001b[1;32m---> 10\u001b[1;33m         traces.append(Histogram(x=X[y==key, col], opacity = 0.7, \n\u001b[0m\u001b[0;32m     11\u001b[0m                                 \u001b[0mxaxis\u001b[0m\u001b[1;33m=\u001b[0m\u001b[1;34m\"x%s\"\u001b[0m\u001b[1;33m%\u001b[0m\u001b[1;33m(\u001b[0m\u001b[0mcol\u001b[0m\u001b[1;33m+\u001b[0m\u001b[1;36m1\u001b[0m\u001b[1;33m)\u001b[0m\u001b[1;33m,\u001b[0m \u001b[0mmarker\u001b[0m\u001b[1;33m=\u001b[0m\u001b[0mMarker\u001b[0m\u001b[1;33m(\u001b[0m\u001b[0mcolor\u001b[0m\u001b[1;33m=\u001b[0m\u001b[0mcolors\u001b[0m\u001b[1;33m[\u001b[0m\u001b[0mkey\u001b[0m\u001b[1;33m]\u001b[0m\u001b[1;33m)\u001b[0m\u001b[1;33m,\u001b[0m\u001b[1;33m\u001b[0m\u001b[1;33m\u001b[0m\u001b[0m\n\u001b[0;32m     12\u001b[0m                                 name = key, showlegend=legend[col]))\n",
      "\u001b[1;31mIndexError\u001b[0m: index 0 is out of bounds for axis 1 with size 0"
     ]
    }
   ],
   "source": [
    "traces = []\n",
    "legend = {0:True, 1:True, 2:True, 3:True}\n",
    "\n",
    "colors = {'setosa': 'rgb(255,127,20)',\n",
    "         'versicolor': 'rgb(31,220.120)',\n",
    "         'virginica': 'rgb(44,50,180)'}\n",
    "\n",
    "for col in range(4):\n",
    "    for key in colors:\n",
    "        traces.append(Histogram(x=X[y==key, col], opacity = 0.7, \n",
    "                                xaxis=\"x%s\"%(col+1), marker=Marker(color=colors[key]), \n",
    "                                name = key, showlegend=legend[col]))\n",
    "        \n",
    "        legend = {0:False, 1:False, 2:False, 3:False}\n",
    "        \n",
    "data = Data(traces)\n",
    "layout = Layout(barmode=\"overlay\",\n",
    "               xaxis=XAxis(domain=[0,0.25], title=\"Long. Sépalos (cm)\"),\n",
    "               xaxis2=XAxis(domain=[0.3,0.5], title=\"Anch. Sépalos (cm)\"),\n",
    "               xaxis3=XAxis(domain=[0.55,0.75], title=\"Long. Pétalos (cm)\"),\n",
    "               xaxis4=XAxis(domain=[0.8,1.0], title=\"Anch. Pétalos (cm)\"),\n",
    "               yaxis=YAxis(title=\"Números de ejemplares\"),\n",
    "               title= \"Distribucion de los rasgos de las diferentes flores Iris\")\n",
    "\n",
    "fig = Figure(data = data, layout = layout)\n",
    "py.iplot(fig)"
   ]
  },
  {
   "cell_type": "markdown",
   "id": "5ecbeca8",
   "metadata": {},
   "source": [
    "### 1- Calculamos de descomposicion de los valores y vectores propios\n",
    "#### a) Usando la matriz de covarianza"
   ]
  },
  {
   "cell_type": "code",
   "execution_count": 12,
   "id": "f9111790",
   "metadata": {},
   "outputs": [],
   "source": [
    "from IPython.display import display, Math, Latex"
   ]
  },
  {
   "cell_type": "code",
   "execution_count": 13,
   "id": "665815af",
   "metadata": {},
   "outputs": [
    {
     "data": {
      "text/latex": [
       "$\\displaystyle \\sigma_{jk} = \\frac{1}{n-1}\\sum_{i=1}^m (x_{ij} - \\overline{x_j})(x_{ik} - \\overline{x_k})$"
      ],
      "text/plain": [
       "<IPython.core.display.Math object>"
      ]
     },
     "metadata": {},
     "output_type": "display_data"
    }
   ],
   "source": [
    "display(Math(r'\\sigma_{jk} = \\frac{1}{n-1}\\sum_{i=1}^m (x_{ij} - \\overline{x_j})(x_{ik} - \\overline{x_k})'))"
   ]
  },
  {
   "cell_type": "code",
   "execution_count": 14,
   "id": "1381b5b9",
   "metadata": {},
   "outputs": [
    {
     "data": {
      "text/latex": [
       "$\\displaystyle \\Sigma = \\frac{1}{n-1}((X-\\overline{x})^T(X-\\overline{x}))$"
      ],
      "text/plain": [
       "<IPython.core.display.Math object>"
      ]
     },
     "metadata": {},
     "output_type": "display_data"
    }
   ],
   "source": [
    "display(Math(r'\\Sigma = \\frac{1}{n-1}((X-\\overline{x})^T(X-\\overline{x}))'))"
   ]
  },
  {
   "cell_type": "code",
   "execution_count": 15,
   "id": "561bfe4f",
   "metadata": {},
   "outputs": [
    {
     "data": {
      "text/latex": [
       "$\\displaystyle \\overline{x} = \\sum_{i=1}^n x_i\\in \\mathbb R^m$"
      ],
      "text/plain": [
       "<IPython.core.display.Math object>"
      ]
     },
     "metadata": {},
     "output_type": "display_data"
    }
   ],
   "source": [
    "display(Math(r'\\overline{x} = \\sum_{i=1}^n x_i\\in \\mathbb R^m'))"
   ]
  },
  {
   "cell_type": "code",
   "execution_count": 16,
   "id": "9abdc5db",
   "metadata": {},
   "outputs": [],
   "source": [
    "import numpy as np"
   ]
  },
  {
   "cell_type": "code",
   "execution_count": 17,
   "id": "1131d19f",
   "metadata": {},
   "outputs": [
    {
     "data": {
      "text/plain": [
       "array([-4.73695157e-16, -7.81597009e-16, -4.26325641e-16, -4.73695157e-16])"
      ]
     },
     "execution_count": 17,
     "metadata": {},
     "output_type": "execute_result"
    }
   ],
   "source": [
    "mean_vect = np.mean(X_std, axis=0)\n",
    "mean_vect"
   ]
  },
  {
   "cell_type": "code",
   "execution_count": 18,
   "id": "8c8d4afd",
   "metadata": {},
   "outputs": [
    {
     "name": "stdout",
     "output_type": "stream",
     "text": [
      "La matriz de covarianzas es \n",
      "[[ 1.00671141 -0.11835884  0.87760447  0.82343066]\n",
      " [-0.11835884  1.00671141 -0.43131554 -0.36858315]\n",
      " [ 0.87760447 -0.43131554  1.00671141  0.96932762]\n",
      " [ 0.82343066 -0.36858315  0.96932762  1.00671141]]\n"
     ]
    }
   ],
   "source": [
    "cov_matrix = (X_std - mean_vect).T.dot((X_std - mean_vect))/(X_std.shape[0]-1)\n",
    "print(\"La matriz de covarianzas es \\n%s\"%cov_matrix)\n"
   ]
  },
  {
   "cell_type": "code",
   "execution_count": 19,
   "id": "2147cc5d",
   "metadata": {},
   "outputs": [
    {
     "data": {
      "text/plain": [
       "array([[ 1.00671141, -0.11835884,  0.87760447,  0.82343066],\n",
       "       [-0.11835884,  1.00671141, -0.43131554, -0.36858315],\n",
       "       [ 0.87760447, -0.43131554,  1.00671141,  0.96932762],\n",
       "       [ 0.82343066, -0.36858315,  0.96932762,  1.00671141]])"
      ]
     },
     "execution_count": 19,
     "metadata": {},
     "output_type": "execute_result"
    }
   ],
   "source": [
    "np.cov(X_std.T)"
   ]
  },
  {
   "cell_type": "code",
   "execution_count": 20,
   "id": "c61701a1",
   "metadata": {},
   "outputs": [
    {
     "name": "stdout",
     "output_type": "stream",
     "text": [
      "Variables propios \n",
      "[2.93808505 0.9201649  0.14774182 0.02085386]\n",
      "Vectores propios \n",
      "[[ 0.52106591 -0.37741762 -0.71956635  0.26128628]\n",
      " [-0.26934744 -0.92329566  0.24438178 -0.12350962]\n",
      " [ 0.5804131  -0.02449161  0.14212637 -0.80144925]\n",
      " [ 0.56485654 -0.06694199  0.63427274  0.52359713]]\n"
     ]
    }
   ],
   "source": [
    "eig_vals, eig_vectors = np.linalg.eig(cov_matrix)\n",
    "print(\"Variables propios \\n%s\"%eig_vals)\n",
    "print(\"Vectores propios \\n%s\"%eig_vectors)"
   ]
  },
  {
   "cell_type": "markdown",
   "id": "0b6fdf4c",
   "metadata": {},
   "source": [
    "#### b) Usando la matriz de correlaciones"
   ]
  },
  {
   "cell_type": "code",
   "execution_count": 21,
   "id": "9a3fdf93",
   "metadata": {},
   "outputs": [
    {
     "data": {
      "text/plain": [
       "array([[ 1.        , -0.11756978,  0.87175378,  0.81794113],\n",
       "       [-0.11756978,  1.        , -0.4284401 , -0.36612593],\n",
       "       [ 0.87175378, -0.4284401 ,  1.        ,  0.96286543],\n",
       "       [ 0.81794113, -0.36612593,  0.96286543,  1.        ]])"
      ]
     },
     "execution_count": 21,
     "metadata": {},
     "output_type": "execute_result"
    }
   ],
   "source": [
    "corr_matrix = np.corrcoef(X_std.T)\n",
    "corr_matrix"
   ]
  },
  {
   "cell_type": "code",
   "execution_count": 22,
   "id": "a9c32ad9",
   "metadata": {},
   "outputs": [
    {
     "name": "stdout",
     "output_type": "stream",
     "text": [
      "Variables propios \n",
      "[2.91849782 0.91403047 0.14675688 0.02071484]\n",
      "Vectores propios \n",
      "[[ 0.52106591 -0.37741762 -0.71956635  0.26128628]\n",
      " [-0.26934744 -0.92329566  0.24438178 -0.12350962]\n",
      " [ 0.5804131  -0.02449161  0.14212637 -0.80144925]\n",
      " [ 0.56485654 -0.06694199  0.63427274  0.52359713]]\n"
     ]
    }
   ],
   "source": [
    "eig_vals_corr, eig_vectors_corr = np.linalg.eig(corr_matrix)\n",
    "print(\"Variables propios \\n%s\"%eig_vals_corr)\n",
    "print(\"Vectores propios \\n%s\"%eig_vectors_corr)"
   ]
  },
  {
   "cell_type": "code",
   "execution_count": 23,
   "id": "0a585d44",
   "metadata": {},
   "outputs": [
    {
     "data": {
      "text/plain": [
       "array([[ 1.        , -0.11756978,  0.87175378,  0.81794113],\n",
       "       [-0.11756978,  1.        , -0.4284401 , -0.36612593],\n",
       "       [ 0.87175378, -0.4284401 ,  1.        ,  0.96286543],\n",
       "       [ 0.81794113, -0.36612593,  0.96286543,  1.        ]])"
      ]
     },
     "execution_count": 23,
     "metadata": {},
     "output_type": "execute_result"
    }
   ],
   "source": [
    "corr_matrix = np.corrcoef(X.T)\n",
    "corr_matrix"
   ]
  },
  {
   "cell_type": "markdown",
   "id": "19a3d9c2",
   "metadata": {},
   "source": [
    "#### c) Single Value Decomposition"
   ]
  },
  {
   "cell_type": "code",
   "execution_count": 24,
   "id": "5abfe653",
   "metadata": {},
   "outputs": [
    {
     "data": {
      "text/plain": [
       "array([[-0.52106591, -0.37741762,  0.71956635,  0.26128628],\n",
       "       [ 0.26934744, -0.92329566, -0.24438178, -0.12350962],\n",
       "       [-0.5804131 , -0.02449161, -0.14212637, -0.80144925],\n",
       "       [-0.56485654, -0.06694199, -0.63427274,  0.52359713]])"
      ]
     },
     "execution_count": 24,
     "metadata": {},
     "output_type": "execute_result"
    }
   ],
   "source": [
    "u,s,v = np.linalg.svd(X_std.T)\n",
    "u"
   ]
  },
  {
   "cell_type": "code",
   "execution_count": 25,
   "id": "1d9c72eb",
   "metadata": {},
   "outputs": [
    {
     "data": {
      "text/plain": [
       "array([20.92306556, 11.7091661 ,  4.69185798,  1.76273239])"
      ]
     },
     "execution_count": 25,
     "metadata": {},
     "output_type": "execute_result"
    }
   ],
   "source": [
    "s"
   ]
  },
  {
   "cell_type": "code",
   "execution_count": 26,
   "id": "76b76cd5",
   "metadata": {},
   "outputs": [
    {
     "data": {
      "text/plain": [
       "array([[ 1.08239531e-01,  9.94577561e-02,  1.12996303e-01, ...,\n",
       "        -7.27030413e-02, -6.56112167e-02, -4.59137323e-02],\n",
       "       [-4.09957970e-02,  5.75731483e-02,  2.92000319e-02, ...,\n",
       "        -2.29793601e-02, -8.63643414e-02,  2.07800179e-03],\n",
       "       [ 2.72186462e-02,  5.00034005e-02, -9.42089147e-03, ...,\n",
       "        -3.84023516e-02, -1.98939364e-01, -1.12588405e-01],\n",
       "       ...,\n",
       "       [ 5.43380310e-02,  5.12936114e-03,  2.75184277e-02, ...,\n",
       "         9.89532683e-01, -1.41206665e-02, -8.30595907e-04],\n",
       "       [ 1.96438400e-03,  8.48544595e-02,  1.78604309e-01, ...,\n",
       "        -1.25488246e-02,  9.52049996e-01, -2.19201906e-02],\n",
       "       [ 2.46978090e-03,  5.83496936e-03,  1.49419118e-01, ...,\n",
       "        -7.17729676e-04, -2.32048811e-02,  9.77300244e-01]])"
      ]
     },
     "execution_count": 26,
     "metadata": {},
     "output_type": "execute_result"
    }
   ],
   "source": [
    "v"
   ]
  },
  {
   "cell_type": "markdown",
   "id": "ffb7f972",
   "metadata": {},
   "source": [
    "### 2- Los componentes principales"
   ]
  },
  {
   "cell_type": "code",
   "execution_count": 27,
   "id": "f61c5bd6",
   "metadata": {},
   "outputs": [
    {
     "name": "stdout",
     "output_type": "stream",
     "text": [
      "La longitud del VP es: 0.9999999999999994\n",
      "La longitud del VP es: 0.9999999999999999\n",
      "La longitud del VP es: 1.0000000000000002\n",
      "La longitud del VP es: 1.0\n"
     ]
    }
   ],
   "source": [
    "for ev in eig_vectors:\n",
    "    print(\"La longitud del VP es: %s\"%np.linalg.norm(ev))"
   ]
  },
  {
   "cell_type": "code",
   "execution_count": 28,
   "id": "2d696595",
   "metadata": {},
   "outputs": [
    {
     "data": {
      "text/plain": [
       "[(2.9380850501999944,\n",
       "  array([ 0.52106591, -0.26934744,  0.5804131 ,  0.56485654])),\n",
       " (0.9201649041624878,\n",
       "  array([-0.37741762, -0.92329566, -0.02449161, -0.06694199])),\n",
       " (0.14774182104494818,\n",
       "  array([-0.71956635,  0.24438178,  0.14212637,  0.63427274])),\n",
       " (0.020853862176462533,\n",
       "  array([ 0.26128628, -0.12350962, -0.80144925,  0.52359713]))]"
      ]
     },
     "execution_count": 28,
     "metadata": {},
     "output_type": "execute_result"
    }
   ],
   "source": [
    "eigen_pairs = [(np.abs(eig_vals[i]), eig_vectors[:,i]) for i in range(len(eig_vals))]\n",
    "eigen_pairs"
   ]
  },
  {
   "cell_type": "markdown",
   "id": "38a94848",
   "metadata": {},
   "source": [
    "Ordenamos los vectores propios con valor propio de mayor a menor"
   ]
  },
  {
   "cell_type": "code",
   "execution_count": 29,
   "id": "9995c421",
   "metadata": {},
   "outputs": [
    {
     "data": {
      "text/plain": [
       "[(2.9380850501999944,\n",
       "  array([ 0.52106591, -0.26934744,  0.5804131 ,  0.56485654])),\n",
       " (0.9201649041624878,\n",
       "  array([-0.37741762, -0.92329566, -0.02449161, -0.06694199])),\n",
       " (0.14774182104494818,\n",
       "  array([-0.71956635,  0.24438178,  0.14212637,  0.63427274])),\n",
       " (0.020853862176462533,\n",
       "  array([ 0.26128628, -0.12350962, -0.80144925,  0.52359713]))]"
      ]
     },
     "execution_count": 29,
     "metadata": {},
     "output_type": "execute_result"
    }
   ],
   "source": [
    "eigen_pairs.sort()\n",
    "eigen_pairs.reverse()\n",
    "eigen_pairs"
   ]
  },
  {
   "cell_type": "code",
   "execution_count": 30,
   "id": "86dd3734",
   "metadata": {},
   "outputs": [
    {
     "name": "stdout",
     "output_type": "stream",
     "text": [
      "Valores propios en orden descendiente:\n",
      "2.9380850501999944\n",
      "0.9201649041624878\n",
      "0.14774182104494818\n",
      "0.020853862176462533\n"
     ]
    }
   ],
   "source": [
    "print(\"Valores propios en orden descendiente:\")\n",
    "for ep in eigen_pairs:\n",
    "    print(ep[0])"
   ]
  },
  {
   "cell_type": "code",
   "execution_count": 31,
   "id": "4cc02697",
   "metadata": {},
   "outputs": [],
   "source": [
    "total_sum = sum(eig_vals)\n",
    "var_exp = [(i/total_sum)*100 for i in sorted(eig_vals, reverse=True)]\n",
    "cum_var_exp = np.cumsum(var_exp)"
   ]
  },
  {
   "cell_type": "code",
   "execution_count": 32,
   "id": "aaed1d13",
   "metadata": {},
   "outputs": [
    {
     "name": "stderr",
     "output_type": "stream",
     "text": [
      "C:\\Users\\LGARAVITO2\\anaconda3\\lib\\site-packages\\plotly\\graph_objs\\_deprecations.py:31: DeprecationWarning: plotly.graph_objs.Data is deprecated.\n",
      "Please replace it with a list or tuple of instances of the following types\n",
      "  - plotly.graph_objs.Scatter\n",
      "  - plotly.graph_objs.Bar\n",
      "  - plotly.graph_objs.Area\n",
      "  - plotly.graph_objs.Histogram\n",
      "  - etc.\n",
      "\n",
      "  warnings.warn(\n",
      "C:\\Users\\LGARAVITO2\\anaconda3\\lib\\site-packages\\plotly\\graph_objs\\_deprecations.py:544: DeprecationWarning: plotly.graph_objs.XAxis is deprecated.\n",
      "Please replace it with one of the following more specific types\n",
      "  - plotly.graph_objs.layout.XAxis\n",
      "  - plotly.graph_objs.layout.scene.XAxis\n",
      "\n",
      "  warnings.warn(\n",
      "C:\\Users\\LGARAVITO2\\anaconda3\\lib\\site-packages\\plotly\\graph_objs\\_deprecations.py:572: DeprecationWarning: plotly.graph_objs.YAxis is deprecated.\n",
      "Please replace it with one of the following more specific types\n",
      "  - plotly.graph_objs.layout.YAxis\n",
      "  - plotly.graph_objs.layout.scene.YAxis\n",
      "\n",
      "  warnings.warn(\n"
     ]
    },
    {
     "data": {
      "text/html": [
       "\n",
       "        <iframe\n",
       "            width=\"100%\"\n",
       "            height=\"525px\"\n",
       "            src=\"https://plotly.com/~LuisGaravito/1.embed\"\n",
       "            frameborder=\"0\"\n",
       "            allowfullscreen\n",
       "        ></iframe>\n",
       "        "
      ],
      "text/plain": [
       "<IPython.lib.display.IFrame at 0x14a8c4c22e0>"
      ]
     },
     "execution_count": 32,
     "metadata": {},
     "output_type": "execute_result"
    }
   ],
   "source": [
    "plot1 = Bar(x=[\"CP %s\"%i for i in range(1,5)], y = var_exp, showlegend=False)\n",
    "plot2 = Scatter(x=[\"CP %s\"%i for i in range(1,5)], y = var_exp, showlegend=True, name = \"% de Varianza Explicada Acumulada\")\n",
    "\n",
    "data = Data([plot1, plot2])\n",
    "\n",
    "layout = Layout(xaxis = XAxis(title=\"Componentes principales\"),\n",
    "               yaxis = YAxis(title=\"Porcentaje de varianza explicada\"),\n",
    "               title = \"Porcentaje de variabilidad explicada por cada componente principal\")\n",
    "\n",
    "fig = Figure(data = data, layout = layout)\n",
    "py.iplot(fig)"
   ]
  },
  {
   "cell_type": "code",
   "execution_count": 33,
   "id": "5c93e95e",
   "metadata": {},
   "outputs": [
    {
     "data": {
      "text/plain": [
       "array([[ 0.52106591, -0.37741762],\n",
       "       [-0.26934744, -0.92329566],\n",
       "       [ 0.5804131 , -0.02449161],\n",
       "       [ 0.56485654, -0.06694199]])"
      ]
     },
     "execution_count": 33,
     "metadata": {},
     "output_type": "execute_result"
    }
   ],
   "source": [
    "W = np.hstack((eigen_pairs[0][1].reshape(4,1),\n",
    "               eigen_pairs[1][1].reshape(4,1)))\n",
    "\n",
    "W"
   ]
  },
  {
   "cell_type": "code",
   "execution_count": 34,
   "id": "8c822ddc",
   "metadata": {},
   "outputs": [
    {
     "data": {
      "text/plain": [
       "array([5.1, 3.5, 1.4, 0.2])"
      ]
     },
     "execution_count": 34,
     "metadata": {},
     "output_type": "execute_result"
    }
   ],
   "source": [
    "X[0]"
   ]
  },
  {
   "cell_type": "markdown",
   "id": "0c196864",
   "metadata": {},
   "source": [
    "### 3- Proyectando las variables en el nuevo subespacio vectorial"
   ]
  },
  {
   "cell_type": "code",
   "execution_count": 35,
   "id": "a48b61a7",
   "metadata": {},
   "outputs": [
    {
     "data": {
      "text/latex": [
       "$\\displaystyle Y = X \\cdot W, X \\in M (\\mathbb R)_{150,4}, W \\in M (\\mathbb R)_{4,2}, Y \\in M (\\mathbb R)_{150,2}$"
      ],
      "text/plain": [
       "<IPython.core.display.Math object>"
      ]
     },
     "metadata": {},
     "output_type": "display_data"
    }
   ],
   "source": [
    "display(Math(r'Y = X \\cdot W, X \\in M (\\mathbb R)_{150,4}, W \\in M (\\mathbb R)_{4,2}, Y \\in M (\\mathbb R)_{150,2}'))"
   ]
  },
  {
   "cell_type": "code",
   "execution_count": 36,
   "id": "8c555426",
   "metadata": {},
   "outputs": [
    {
     "data": {
      "text/plain": [
       "array([[-2.26470281, -0.4800266 ],\n",
       "       [-2.08096115,  0.67413356],\n",
       "       [-2.36422905,  0.34190802],\n",
       "       [-2.29938422,  0.59739451],\n",
       "       [-2.38984217, -0.64683538],\n",
       "       [-2.07563095, -1.48917752],\n",
       "       [-2.44402884, -0.0476442 ],\n",
       "       [-2.23284716, -0.22314807],\n",
       "       [-2.33464048,  1.11532768],\n",
       "       [-2.18432817,  0.46901356],\n",
       "       [-2.1663101 , -1.04369065],\n",
       "       [-2.32613087, -0.13307834],\n",
       "       [-2.2184509 ,  0.72867617],\n",
       "       [-2.6331007 ,  0.96150673],\n",
       "       [-2.1987406 , -1.86005711],\n",
       "       [-2.26221453, -2.68628449],\n",
       "       [-2.2075877 , -1.48360936],\n",
       "       [-2.19034951, -0.48883832],\n",
       "       [-1.898572  , -1.40501879],\n",
       "       [-2.34336905, -1.12784938],\n",
       "       [-1.914323  , -0.40885571],\n",
       "       [-2.20701284, -0.92412143],\n",
       "       [-2.7743447 , -0.45834367],\n",
       "       [-1.81866953, -0.08555853],\n",
       "       [-2.22716331, -0.13725446],\n",
       "       [-1.95184633,  0.62561859],\n",
       "       [-2.05115137, -0.24216355],\n",
       "       [-2.16857717, -0.52714953],\n",
       "       [-2.13956345, -0.31321781],\n",
       "       [-2.26526149,  0.3377319 ],\n",
       "       [-2.14012214,  0.50454069],\n",
       "       [-1.83159477, -0.42369507],\n",
       "       [-2.61494794, -1.79357586],\n",
       "       [-2.44617739, -2.15072788],\n",
       "       [-2.10997488,  0.46020184],\n",
       "       [-2.2078089 ,  0.2061074 ],\n",
       "       [-2.04514621, -0.66155811],\n",
       "       [-2.52733191, -0.59229277],\n",
       "       [-2.42963258,  0.90418004],\n",
       "       [-2.16971071, -0.26887896],\n",
       "       [-2.28647514, -0.44171539],\n",
       "       [-1.85812246,  2.33741516],\n",
       "       [-2.5536384 ,  0.47910069],\n",
       "       [-1.96444768, -0.47232667],\n",
       "       [-2.13705901, -1.14222926],\n",
       "       [-2.0697443 ,  0.71105273],\n",
       "       [-2.38473317, -1.1204297 ],\n",
       "       [-2.39437631,  0.38624687],\n",
       "       [-2.22944655, -0.99795976],\n",
       "       [-2.20383344, -0.00921636],\n",
       "       [ 1.10178118, -0.86297242],\n",
       "       [ 0.73133743, -0.59461473],\n",
       "       [ 1.24097932, -0.61629765],\n",
       "       [ 0.40748306,  1.75440399],\n",
       "       [ 1.0754747 ,  0.20842105],\n",
       "       [ 0.38868734,  0.59328364],\n",
       "       [ 0.74652974, -0.77301931],\n",
       "       [-0.48732274,  1.85242909],\n",
       "       [ 0.92790164, -0.03222608],\n",
       "       [ 0.01142619,  1.03401828],\n",
       "       [-0.11019628,  2.65407282],\n",
       "       [ 0.44069345,  0.06329519],\n",
       "       [ 0.56210831,  1.76472438],\n",
       "       [ 0.71956189,  0.18622461],\n",
       "       [-0.0333547 ,  0.43900321],\n",
       "       [ 0.87540719, -0.50906396],\n",
       "       [ 0.35025167,  0.19631173],\n",
       "       [ 0.15881005,  0.79209574],\n",
       "       [ 1.22509363,  1.6222438 ],\n",
       "       [ 0.1649179 ,  1.30260923],\n",
       "       [ 0.73768265, -0.39657156],\n",
       "       [ 0.47628719,  0.41732028],\n",
       "       [ 1.2341781 ,  0.93332573],\n",
       "       [ 0.6328582 ,  0.41638772],\n",
       "       [ 0.70266118,  0.06341182],\n",
       "       [ 0.87427365, -0.25079339],\n",
       "       [ 1.25650912,  0.07725602],\n",
       "       [ 1.35840512, -0.33131168],\n",
       "       [ 0.66480037,  0.22592785],\n",
       "       [-0.04025861,  1.05871855],\n",
       "       [ 0.13079518,  1.56227183],\n",
       "       [ 0.02345269,  1.57247559],\n",
       "       [ 0.24153827,  0.77725638],\n",
       "       [ 1.06109461,  0.63384324],\n",
       "       [ 0.22397877,  0.28777351],\n",
       "       [ 0.42913912, -0.84558224],\n",
       "       [ 1.04872805, -0.5220518 ],\n",
       "       [ 1.04453138,  1.38298872],\n",
       "       [ 0.06958832,  0.21950333],\n",
       "       [ 0.28347724,  1.32932464],\n",
       "       [ 0.27907778,  1.12002852],\n",
       "       [ 0.62456979, -0.02492303],\n",
       "       [ 0.33653037,  0.98840402],\n",
       "       [-0.36218338,  2.01923787],\n",
       "       [ 0.28858624,  0.85573032],\n",
       "       [ 0.09136066,  0.18119213],\n",
       "       [ 0.22771687,  0.38492008],\n",
       "       [ 0.57638829,  0.1548736 ],\n",
       "       [-0.44766702,  1.54379203],\n",
       "       [ 0.25673059,  0.5988518 ],\n",
       "       [ 1.84456887, -0.87042131],\n",
       "       [ 1.15788161,  0.69886986],\n",
       "       [ 2.20526679, -0.56201048],\n",
       "       [ 1.44015066,  0.04698759],\n",
       "       [ 1.86781222, -0.29504482],\n",
       "       [ 2.75187334, -0.8004092 ],\n",
       "       [ 0.36701769,  1.56150289],\n",
       "       [ 2.30243944, -0.42006558],\n",
       "       [ 2.00668647,  0.71143865],\n",
       "       [ 2.25977735, -1.92101038],\n",
       "       [ 1.36417549, -0.69275645],\n",
       "       [ 1.60267867,  0.42170045],\n",
       "       [ 1.8839007 , -0.41924965],\n",
       "       [ 1.2601151 ,  1.16226042],\n",
       "       [ 1.4676452 ,  0.44227159],\n",
       "       [ 1.59007732, -0.67624481],\n",
       "       [ 1.47143146, -0.25562182],\n",
       "       [ 2.42632899, -2.55666125],\n",
       "       [ 3.31069558, -0.01778095],\n",
       "       [ 1.26376667,  1.70674538],\n",
       "       [ 2.0377163 , -0.91046741],\n",
       "       [ 0.97798073,  0.57176432],\n",
       "       [ 2.89765149, -0.41364106],\n",
       "       [ 1.33323218,  0.48181122],\n",
       "       [ 1.7007339 , -1.01392187],\n",
       "       [ 1.95432671, -1.0077776 ],\n",
       "       [ 1.17510363,  0.31639447],\n",
       "       [ 1.02095055, -0.06434603],\n",
       "       [ 1.78834992,  0.18736121],\n",
       "       [ 1.86364755, -0.56229073],\n",
       "       [ 2.43595373, -0.25928443],\n",
       "       [ 2.30492772, -2.62632347],\n",
       "       [ 1.86270322,  0.17854949],\n",
       "       [ 1.11414774,  0.29292262],\n",
       "       [ 1.2024733 ,  0.81131527],\n",
       "       [ 2.79877045, -0.85680333],\n",
       "       [ 1.57625591, -1.06858111],\n",
       "       [ 1.3462921 , -0.42243061],\n",
       "       [ 0.92482492, -0.0172231 ],\n",
       "       [ 1.85204505, -0.67612817],\n",
       "       [ 2.01481043, -0.61388564],\n",
       "       [ 1.90178409, -0.68957549],\n",
       "       [ 1.15788161,  0.69886986],\n",
       "       [ 2.04055823, -0.8675206 ],\n",
       "       [ 1.9981471 , -1.04916875],\n",
       "       [ 1.87050329, -0.38696608],\n",
       "       [ 1.56458048,  0.89668681],\n",
       "       [ 1.5211705 , -0.26906914],\n",
       "       [ 1.37278779, -1.01125442],\n",
       "       [ 0.96065603,  0.02433167]])"
      ]
     },
     "execution_count": 36,
     "metadata": {},
     "output_type": "execute_result"
    }
   ],
   "source": [
    "Y = X_std.dot(W)\n",
    "Y"
   ]
  },
  {
   "cell_type": "code",
   "execution_count": 37,
   "id": "aea7462e",
   "metadata": {},
   "outputs": [
    {
     "name": "stderr",
     "output_type": "stream",
     "text": [
      "C:\\Users\\LGARAVITO2\\anaconda3\\lib\\site-packages\\plotly\\graph_objs\\_deprecations.py:378: DeprecationWarning:\n",
      "\n",
      "plotly.graph_objs.Line is deprecated.\n",
      "Please replace it with one of the following more specific types\n",
      "  - plotly.graph_objs.scatter.Line\n",
      "  - plotly.graph_objs.layout.shape.Line\n",
      "  - etc.\n",
      "\n",
      "\n",
      "C:\\Users\\LGARAVITO2\\anaconda3\\lib\\site-packages\\plotly\\graph_objs\\_deprecations.py:434: DeprecationWarning:\n",
      "\n",
      "plotly.graph_objs.Marker is deprecated.\n",
      "Please replace it with one of the following more specific types\n",
      "  - plotly.graph_objs.scatter.Marker\n",
      "  - plotly.graph_objs.histogram.selected.Marker\n",
      "  - etc.\n",
      "\n",
      "\n"
     ]
    },
    {
     "ename": "TypeError",
     "evalue": "'module' object is not callable",
     "output_type": "error",
     "traceback": [
      "\u001b[1;31m---------------------------------------------------------------------------\u001b[0m",
      "\u001b[1;31mTypeError\u001b[0m                                 Traceback (most recent call last)",
      "\u001b[1;32m<ipython-input-37-42df6658f0d5>\u001b[0m in \u001b[0;36m<module>\u001b[1;34m\u001b[0m\n\u001b[0;32m      2\u001b[0m \u001b[1;33m\u001b[0m\u001b[0m\n\u001b[0;32m      3\u001b[0m \u001b[1;32mfor\u001b[0m \u001b[0mname\u001b[0m \u001b[1;32min\u001b[0m \u001b[1;33m(\u001b[0m\u001b[1;34m'setosa'\u001b[0m\u001b[1;33m,\u001b[0m \u001b[1;34m'versicolor'\u001b[0m\u001b[1;33m,\u001b[0m \u001b[1;34m'virginica'\u001b[0m\u001b[1;33m)\u001b[0m\u001b[1;33m:\u001b[0m\u001b[1;33m\u001b[0m\u001b[1;33m\u001b[0m\u001b[0m\n\u001b[1;32m----> 4\u001b[1;33m     result = scatter(x=Y[y==name,0], y = Y[y==name, 1],\n\u001b[0m\u001b[0;32m      5\u001b[0m                     \u001b[0mmode\u001b[0m \u001b[1;33m=\u001b[0m \u001b[1;34m\"markers\"\u001b[0m\u001b[1;33m,\u001b[0m \u001b[0mname\u001b[0m\u001b[1;33m=\u001b[0m\u001b[0mname\u001b[0m\u001b[1;33m,\u001b[0m\u001b[1;33m\u001b[0m\u001b[1;33m\u001b[0m\u001b[0m\n\u001b[0;32m      6\u001b[0m                     marker=Marker(size = 12, line = Line(color='rgba(220,220,200,0.15)', width = 0.5), opacity = 0.8))\n",
      "\u001b[1;31mTypeError\u001b[0m: 'module' object is not callable"
     ]
    }
   ],
   "source": [
    "results = []\n",
    "\n",
    "for name in ('setosa', 'versicolor', 'virginica'):\n",
    "    result = scatter(x=Y[y==name,0], y = Y[y==name, 1],\n",
    "                    mode = \"markers\", name=name,\n",
    "                    marker=Marker(size = 12, line = Line(color='rgba(220,220,200,0.15)', width = 0.5), opacity = 0.8))\n",
    "    \n",
    "    results.append(result) \n",
    "\n",
    "data = Data(results)\n",
    "layout = Layout(showlegend=True, scene=Scene(xaxis=XAxis(title=\"Componente Principal 1\"),\n",
    "                                            yaxis=YAxis(title=\"Componente Principal 2\")))\n",
    "\n",
    "fig = Figure(data=data, layout=layout)\n",
    "py.iplot(fig)"
   ]
  },
  {
   "cell_type": "code",
   "execution_count": null,
   "id": "25eec039",
   "metadata": {},
   "outputs": [],
   "source": []
  }
 ],
 "metadata": {
  "kernelspec": {
   "display_name": "Python 3",
   "language": "python",
   "name": "python3"
  },
  "language_info": {
   "codemirror_mode": {
    "name": "ipython",
    "version": 3
   },
   "file_extension": ".py",
   "mimetype": "text/x-python",
   "name": "python",
   "nbconvert_exporter": "python",
   "pygments_lexer": "ipython3",
   "version": "3.8.8"
  }
 },
 "nbformat": 4,
 "nbformat_minor": 5
}
