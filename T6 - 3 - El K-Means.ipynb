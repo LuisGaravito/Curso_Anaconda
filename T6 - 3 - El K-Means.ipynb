{
 "cells": [
  {
   "cell_type": "markdown",
   "id": "0a3ac0d0",
   "metadata": {},
   "source": [
    "# El método de k-means"
   ]
  },
  {
   "cell_type": "code",
   "execution_count": 1,
   "id": "9b788680",
   "metadata": {},
   "outputs": [],
   "source": [
    "import numpy as np"
   ]
  },
  {
   "cell_type": "code",
   "execution_count": 3,
   "id": "0f53f873",
   "metadata": {},
   "outputs": [
    {
     "data": {
      "text/plain": [
       "array([[0.23897197, 0.60070211, 0.02129658],\n",
       "       [0.31560278, 0.86251683, 0.06250271],\n",
       "       [0.88905385, 0.19679317, 0.07646475],\n",
       "       [0.68917687, 0.05538426, 0.58975286],\n",
       "       [0.16523751, 0.11827145, 0.10331374],\n",
       "       [0.05636819, 0.59668709, 0.5970692 ],\n",
       "       [0.22561446, 0.29607415, 0.62657422],\n",
       "       [0.58894317, 0.68026801, 0.66010201],\n",
       "       [0.1991904 , 0.39383328, 0.82270975],\n",
       "       [0.40146784, 0.15588877, 0.53878538],\n",
       "       [0.76804519, 0.67223593, 0.44045764],\n",
       "       [0.65463658, 0.01294749, 0.11337366],\n",
       "       [0.53114379, 0.83142702, 0.74712212],\n",
       "       [0.80432378, 0.95560837, 0.79841866],\n",
       "       [0.46924298, 0.69982939, 0.33320827],\n",
       "       [0.83848138, 0.69529071, 0.01424135],\n",
       "       [0.44732687, 0.25855807, 0.17496231],\n",
       "       [0.54072181, 0.33486994, 0.37942646],\n",
       "       [0.74509257, 0.84622217, 0.09287931],\n",
       "       [0.27508253, 0.06280794, 0.48678257],\n",
       "       [0.79224458, 0.64154257, 0.47964001],\n",
       "       [0.50772175, 0.20403104, 0.86630564],\n",
       "       [0.88595277, 0.65381321, 0.81282108],\n",
       "       [0.38803311, 0.73341179, 0.86572214],\n",
       "       [0.15516823, 0.79659122, 0.02793359],\n",
       "       [0.58805455, 0.0839238 , 0.36112373],\n",
       "       [0.03785693, 0.44197973, 0.66733306],\n",
       "       [0.46831404, 0.57803937, 0.56980522],\n",
       "       [0.56630886, 0.35221799, 0.39734104],\n",
       "       [0.57378481, 0.57384019, 0.34028061]])"
      ]
     },
     "execution_count": 3,
     "metadata": {},
     "output_type": "execute_result"
    }
   ],
   "source": [
    "data = np.random.random(90).reshape(30,3)\n",
    "data"
   ]
  },
  {
   "cell_type": "code",
   "execution_count": 5,
   "id": "71171d57",
   "metadata": {},
   "outputs": [
    {
     "data": {
      "text/plain": [
       "array([[0.22561446, 0.29607415, 0.62657422],\n",
       "       [0.03785693, 0.44197973, 0.66733306]])"
      ]
     },
     "execution_count": 5,
     "metadata": {},
     "output_type": "execute_result"
    }
   ],
   "source": [
    "c1 = np.random.choice(range(len(data)))\n",
    "c2 = np.random.choice(range(len(data)))\n",
    "clust_centers = np.vstack([data[c1], data[c2]])\n",
    "clust_centers"
   ]
  },
  {
   "cell_type": "code",
   "execution_count": 6,
   "id": "830b6e6a",
   "metadata": {},
   "outputs": [],
   "source": [
    "from scipy.cluster.vq import vq"
   ]
  },
  {
   "cell_type": "code",
   "execution_count": 7,
   "id": "dfd17e65",
   "metadata": {},
   "outputs": [
    {
     "data": {
      "text/plain": [
       "(array([0, 1, 0, 0, 0, 1, 0, 0, 0, 0, 0, 0, 0, 0, 0, 0, 0, 0, 0, 0, 0, 0,\n",
       "        0, 1, 1, 0, 1, 0, 0, 0]),\n",
       " array([0.67774452, 0.78728264, 0.86754191, 0.52361965, 0.55593228,\n",
       "        0.17092116, 0.        , 0.52984601, 0.22073565, 0.2414192 ,\n",
       "        0.68583392, 0.7263577 , 0.62807855, 0.89410312, 0.5553708 ,\n",
       "        0.95390318, 0.50449695, 0.40234285, 0.92593229, 0.27640897,\n",
       "        0.67971155, 0.38148081, 0.7737647 , 0.49690465, 0.74050181,\n",
       "        0.49682447, 0.        , 0.37633787, 0.41445465, 0.529472  ]))"
      ]
     },
     "execution_count": 7,
     "metadata": {},
     "output_type": "execute_result"
    }
   ],
   "source": [
    "vq(data, clust_centers)"
   ]
  },
  {
   "cell_type": "code",
   "execution_count": 8,
   "id": "1d39b516",
   "metadata": {},
   "outputs": [],
   "source": [
    "from scipy.cluster.vq import kmeans"
   ]
  },
  {
   "cell_type": "code",
   "execution_count": 9,
   "id": "6501e87b",
   "metadata": {},
   "outputs": [
    {
     "data": {
      "text/plain": [
       "(array([[0.60755237, 0.34815522, 0.36870307],\n",
       "        [0.34452106, 0.65130526, 0.52306135]]),\n",
       " 0.3841335082628313)"
      ]
     },
     "execution_count": 9,
     "metadata": {},
     "output_type": "execute_result"
    }
   ],
   "source": [
    "kmeans(data, clust_centers)"
   ]
  },
  {
   "cell_type": "code",
   "execution_count": 10,
   "id": "0924c1c8",
   "metadata": {},
   "outputs": [
    {
     "data": {
      "text/plain": [
       "(array([[0.53873208, 0.71362662, 0.42896878],\n",
       "        [0.44196077, 0.21197008, 0.44316065]]),\n",
       " 0.3591014766919454)"
      ]
     },
     "execution_count": 10,
     "metadata": {},
     "output_type": "execute_result"
    }
   ],
   "source": [
    "kmeans(data, 2)"
   ]
  },
  {
   "cell_type": "code",
   "execution_count": null,
   "id": "3d8d5fc4",
   "metadata": {},
   "outputs": [],
   "source": []
  }
 ],
 "metadata": {
  "kernelspec": {
   "display_name": "Python 3",
   "language": "python",
   "name": "python3"
  },
  "language_info": {
   "codemirror_mode": {
    "name": "ipython",
    "version": 3
   },
   "file_extension": ".py",
   "mimetype": "text/x-python",
   "name": "python",
   "nbconvert_exporter": "python",
   "pygments_lexer": "ipython3",
   "version": "3.8.8"
  }
 },
 "nbformat": 4,
 "nbformat_minor": 5
}
