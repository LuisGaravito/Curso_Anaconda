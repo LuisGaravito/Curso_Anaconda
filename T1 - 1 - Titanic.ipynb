{
 "cells": [
  {
   "cell_type": "markdown",
   "id": "9e90309c",
   "metadata": {},
   "source": [
    "# Carga de datos a través de la función read_csv "
   ]
  },
  {
   "cell_type": "code",
   "execution_count": 2,
   "id": "c666fd0b",
   "metadata": {},
   "outputs": [],
   "source": [
    "import pandas as pd\n",
    "import os"
   ]
  },
  {
   "cell_type": "code",
   "execution_count": null,
   "id": "1328be35",
   "metadata": {},
   "outputs": [],
   "source": []
  },
  {
   "cell_type": "code",
   "execution_count": null,
   "id": "9e413d65",
   "metadata": {},
   "outputs": [],
   "source": []
  },
  {
   "cell_type": "code",
   "execution_count": 23,
   "id": "4bfd4d78",
   "metadata": {},
   "outputs": [],
   "source": [
    "mainpath = \"/Users/LGARAVITO2/Desktop/python-ml-course/titanic\"\n",
    "filename = \"sc_forosv4.csv\"\n",
    "fullpath = os.path.join(mainpath, filename)"
   ]
  },
  {
   "cell_type": "code",
   "execution_count": 25,
   "id": "70a01478",
   "metadata": {},
   "outputs": [],
   "source": [
    "data = pandas.read_csv(fullpath)"
   ]
  },
  {
   "cell_type": "code",
   "execution_count": 26,
   "id": "3333e34f",
   "metadata": {},
   "outputs": [
    {
     "data": {
      "text/html": [
       "<div>\n",
       "<style scoped>\n",
       "    .dataframe tbody tr th:only-of-type {\n",
       "        vertical-align: middle;\n",
       "    }\n",
       "\n",
       "    .dataframe tbody tr th {\n",
       "        vertical-align: top;\n",
       "    }\n",
       "\n",
       "    .dataframe thead th {\n",
       "        text-align: right;\n",
       "    }\n",
       "</style>\n",
       "<table border=\"1\" class=\"dataframe\">\n",
       "  <thead>\n",
       "    <tr style=\"text-align: right;\">\n",
       "      <th></th>\n",
       "      <th>3;2020070003;COMO USAR ONE DRIVE;CLAUDIO BATTA WILLIAMS DA COSTA;21/7/2020;24/7/2020;Cerrado</th>\n",
       "    </tr>\n",
       "  </thead>\n",
       "  <tbody>\n",
       "    <tr>\n",
       "      <th>0</th>\n",
       "      <td>4;2020070004;TELEGRAM MENSAJERIA;SAMUEL FUENTE...</td>\n",
       "    </tr>\n",
       "    <tr>\n",
       "      <th>1</th>\n",
       "      <td>5;2020070005;ANY DESK;WILLIAMS DA COSTA;28/7/2...</td>\n",
       "    </tr>\n",
       "    <tr>\n",
       "      <th>2</th>\n",
       "      <td>6;2020070006;NUBES INFORMATICAS;CLAUDIO BATTA;...</td>\n",
       "    </tr>\n",
       "    <tr>\n",
       "      <th>3</th>\n",
       "      <td>7;2020080001;MARKETING;WILIAMNY CIANO ALEJANDR...</td>\n",
       "    </tr>\n",
       "    <tr>\n",
       "      <th>4</th>\n",
       "      <td>8;2020080002;LINKEDIN PARA EL NEGOCIO;SAMUEL F...</td>\n",
       "    </tr>\n",
       "  </tbody>\n",
       "</table>\n",
       "</div>"
      ],
      "text/plain": [
       "  3;2020070003;COMO USAR ONE DRIVE;CLAUDIO BATTA WILLIAMS DA COSTA;21/7/2020;24/7/2020;Cerrado\n",
       "0  4;2020070004;TELEGRAM MENSAJERIA;SAMUEL FUENTE...                                          \n",
       "1  5;2020070005;ANY DESK;WILLIAMS DA COSTA;28/7/2...                                          \n",
       "2  6;2020070006;NUBES INFORMATICAS;CLAUDIO BATTA;...                                          \n",
       "3  7;2020080001;MARKETING;WILIAMNY CIANO ALEJANDR...                                          \n",
       "4  8;2020080002;LINKEDIN PARA EL NEGOCIO;SAMUEL F...                                          "
      ]
     },
     "execution_count": 26,
     "metadata": {},
     "output_type": "execute_result"
    }
   ],
   "source": [
    "data.head()"
   ]
  },
  {
   "cell_type": "code",
   "execution_count": 29,
   "id": "6365fd42",
   "metadata": {},
   "outputs": [],
   "source": [
    "data2 = pandas.read_csv(mainpath + \"/\" + \"sc_forosv4.csv\")"
   ]
  },
  {
   "cell_type": "code",
   "execution_count": 30,
   "id": "6288ad97",
   "metadata": {},
   "outputs": [
    {
     "data": {
      "text/html": [
       "<div>\n",
       "<style scoped>\n",
       "    .dataframe tbody tr th:only-of-type {\n",
       "        vertical-align: middle;\n",
       "    }\n",
       "\n",
       "    .dataframe tbody tr th {\n",
       "        vertical-align: top;\n",
       "    }\n",
       "\n",
       "    .dataframe thead th {\n",
       "        text-align: right;\n",
       "    }\n",
       "</style>\n",
       "<table border=\"1\" class=\"dataframe\">\n",
       "  <thead>\n",
       "    <tr style=\"text-align: right;\">\n",
       "      <th></th>\n",
       "      <th>3;2020070003;COMO USAR ONE DRIVE;CLAUDIO BATTA WILLIAMS DA COSTA;21/7/2020;24/7/2020;Cerrado</th>\n",
       "    </tr>\n",
       "  </thead>\n",
       "  <tbody>\n",
       "    <tr>\n",
       "      <th>0</th>\n",
       "      <td>4;2020070004;TELEGRAM MENSAJERIA;SAMUEL FUENTE...</td>\n",
       "    </tr>\n",
       "    <tr>\n",
       "      <th>1</th>\n",
       "      <td>5;2020070005;ANY DESK;WILLIAMS DA COSTA;28/7/2...</td>\n",
       "    </tr>\n",
       "    <tr>\n",
       "      <th>2</th>\n",
       "      <td>6;2020070006;NUBES INFORMATICAS;CLAUDIO BATTA;...</td>\n",
       "    </tr>\n",
       "    <tr>\n",
       "      <th>3</th>\n",
       "      <td>7;2020080001;MARKETING;WILIAMNY CIANO ALEJANDR...</td>\n",
       "    </tr>\n",
       "    <tr>\n",
       "      <th>4</th>\n",
       "      <td>8;2020080002;LINKEDIN PARA EL NEGOCIO;SAMUEL F...</td>\n",
       "    </tr>\n",
       "  </tbody>\n",
       "</table>\n",
       "</div>"
      ],
      "text/plain": [
       "  3;2020070003;COMO USAR ONE DRIVE;CLAUDIO BATTA WILLIAMS DA COSTA;21/7/2020;24/7/2020;Cerrado\n",
       "0  4;2020070004;TELEGRAM MENSAJERIA;SAMUEL FUENTE...                                          \n",
       "1  5;2020070005;ANY DESK;WILLIAMS DA COSTA;28/7/2...                                          \n",
       "2  6;2020070006;NUBES INFORMATICAS;CLAUDIO BATTA;...                                          \n",
       "3  7;2020080001;MARKETING;WILIAMNY CIANO ALEJANDR...                                          \n",
       "4  8;2020080002;LINKEDIN PARA EL NEGOCIO;SAMUEL F...                                          "
      ]
     },
     "execution_count": 30,
     "metadata": {},
     "output_type": "execute_result"
    }
   ],
   "source": [
    "data2.head()"
   ]
  },
  {
   "cell_type": "code",
   "execution_count": 31,
   "id": "d3afde92",
   "metadata": {},
   "outputs": [
    {
     "data": {
      "text/plain": [
       "array(['3;2020070003;COMO USAR ONE DRIVE;CLAUDIO BATTA WILLIAMS DA COSTA;21/7/2020;24/7/2020;Cerrado'],\n",
       "      dtype=object)"
      ]
     },
     "execution_count": 31,
     "metadata": {},
     "output_type": "execute_result"
    }
   ],
   "source": [
    "data2.columns.values"
   ]
  },
  {
   "cell_type": "code",
   "execution_count": 54,
   "id": "f09895b9",
   "metadata": {},
   "outputs": [
    {
     "ename": "KeyError",
     "evalue": "'3'",
     "output_type": "error",
     "traceback": [
      "\u001b[1;31m---------------------------------------------------------------------------\u001b[0m",
      "\u001b[1;31mKeyError\u001b[0m                                  Traceback (most recent call last)",
      "\u001b[1;32m~\\anaconda3\\lib\\site-packages\\pandas\\core\\indexes\\base.py\u001b[0m in \u001b[0;36mget_loc\u001b[1;34m(self, key, method, tolerance)\u001b[0m\n\u001b[0;32m   3079\u001b[0m             \u001b[1;32mtry\u001b[0m\u001b[1;33m:\u001b[0m\u001b[1;33m\u001b[0m\u001b[1;33m\u001b[0m\u001b[0m\n\u001b[1;32m-> 3080\u001b[1;33m                 \u001b[1;32mreturn\u001b[0m \u001b[0mself\u001b[0m\u001b[1;33m.\u001b[0m\u001b[0m_engine\u001b[0m\u001b[1;33m.\u001b[0m\u001b[0mget_loc\u001b[0m\u001b[1;33m(\u001b[0m\u001b[0mcasted_key\u001b[0m\u001b[1;33m)\u001b[0m\u001b[1;33m\u001b[0m\u001b[1;33m\u001b[0m\u001b[0m\n\u001b[0m\u001b[0;32m   3081\u001b[0m             \u001b[1;32mexcept\u001b[0m \u001b[0mKeyError\u001b[0m \u001b[1;32mas\u001b[0m \u001b[0merr\u001b[0m\u001b[1;33m:\u001b[0m\u001b[1;33m\u001b[0m\u001b[1;33m\u001b[0m\u001b[0m\n",
      "\u001b[1;32mpandas\\_libs\\index.pyx\u001b[0m in \u001b[0;36mpandas._libs.index.IndexEngine.get_loc\u001b[1;34m()\u001b[0m\n",
      "\u001b[1;32mpandas\\_libs\\index.pyx\u001b[0m in \u001b[0;36mpandas._libs.index.IndexEngine.get_loc\u001b[1;34m()\u001b[0m\n",
      "\u001b[1;32mpandas\\_libs\\hashtable_class_helper.pxi\u001b[0m in \u001b[0;36mpandas._libs.hashtable.PyObjectHashTable.get_item\u001b[1;34m()\u001b[0m\n",
      "\u001b[1;32mpandas\\_libs\\hashtable_class_helper.pxi\u001b[0m in \u001b[0;36mpandas._libs.hashtable.PyObjectHashTable.get_item\u001b[1;34m()\u001b[0m\n",
      "\u001b[1;31mKeyError\u001b[0m: '3'",
      "\nThe above exception was the direct cause of the following exception:\n",
      "\u001b[1;31mKeyError\u001b[0m                                  Traceback (most recent call last)",
      "\u001b[1;32m<ipython-input-54-cc3422337df1>\u001b[0m in \u001b[0;36m<module>\u001b[1;34m\u001b[0m\n\u001b[0;32m      1\u001b[0m \u001b[0mdata_cols\u001b[0m \u001b[1;33m=\u001b[0m \u001b[0mpandas\u001b[0m\u001b[1;33m.\u001b[0m\u001b[0mread_csv\u001b[0m\u001b[1;33m(\u001b[0m\u001b[0mmainpath\u001b[0m \u001b[1;33m+\u001b[0m \u001b[1;34m\"/\"\u001b[0m \u001b[1;33m+\u001b[0m \u001b[1;34m\"sc_forosv4.csv\"\u001b[0m\u001b[1;33m)\u001b[0m\u001b[1;33m\u001b[0m\u001b[1;33m\u001b[0m\u001b[0m\n\u001b[1;32m----> 2\u001b[1;33m \u001b[0mdata_col_list\u001b[0m \u001b[1;33m=\u001b[0m \u001b[0mdata_cols\u001b[0m\u001b[1;33m[\u001b[0m\u001b[1;34m\"3\"\u001b[0m\u001b[1;33m]\u001b[0m\u001b[1;33m.\u001b[0m\u001b[0mtolist\u001b[0m\u001b[1;33m(\u001b[0m\u001b[1;33m)\u001b[0m\u001b[1;33m\u001b[0m\u001b[1;33m\u001b[0m\u001b[0m\n\u001b[0m\u001b[0;32m      3\u001b[0m \u001b[0mdata2\u001b[0m \u001b[1;33m=\u001b[0m \u001b[0mpandas\u001b[0m\u001b[1;33m.\u001b[0m\u001b[0mread_csv\u001b[0m\u001b[1;33m(\u001b[0m\u001b[0mmainpath\u001b[0m \u001b[1;33m+\u001b[0m \u001b[1;34m\"/\"\u001b[0m \u001b[1;33m+\u001b[0m \u001b[1;34m\"sc_forosv4.csv\"\u001b[0m\u001b[1;33m,\u001b[0m \u001b[0mheader\u001b[0m \u001b[1;33m=\u001b[0m \u001b[1;32mNone\u001b[0m\u001b[1;33m,\u001b[0m \u001b[0mnames\u001b[0m \u001b[1;33m=\u001b[0m \u001b[0mdata_col_list\u001b[0m\u001b[1;33m)\u001b[0m\u001b[1;33m\u001b[0m\u001b[1;33m\u001b[0m\u001b[0m\n\u001b[0;32m      4\u001b[0m \u001b[0mdata2\u001b[0m\u001b[1;33m.\u001b[0m\u001b[0mcolumns\u001b[0m\u001b[1;33m.\u001b[0m\u001b[0mvalues\u001b[0m\u001b[1;33m\u001b[0m\u001b[1;33m\u001b[0m\u001b[0m\n",
      "\u001b[1;32m~\\anaconda3\\lib\\site-packages\\pandas\\core\\frame.py\u001b[0m in \u001b[0;36m__getitem__\u001b[1;34m(self, key)\u001b[0m\n\u001b[0;32m   3022\u001b[0m             \u001b[1;32mif\u001b[0m \u001b[0mself\u001b[0m\u001b[1;33m.\u001b[0m\u001b[0mcolumns\u001b[0m\u001b[1;33m.\u001b[0m\u001b[0mnlevels\u001b[0m \u001b[1;33m>\u001b[0m \u001b[1;36m1\u001b[0m\u001b[1;33m:\u001b[0m\u001b[1;33m\u001b[0m\u001b[1;33m\u001b[0m\u001b[0m\n\u001b[0;32m   3023\u001b[0m                 \u001b[1;32mreturn\u001b[0m \u001b[0mself\u001b[0m\u001b[1;33m.\u001b[0m\u001b[0m_getitem_multilevel\u001b[0m\u001b[1;33m(\u001b[0m\u001b[0mkey\u001b[0m\u001b[1;33m)\u001b[0m\u001b[1;33m\u001b[0m\u001b[1;33m\u001b[0m\u001b[0m\n\u001b[1;32m-> 3024\u001b[1;33m             \u001b[0mindexer\u001b[0m \u001b[1;33m=\u001b[0m \u001b[0mself\u001b[0m\u001b[1;33m.\u001b[0m\u001b[0mcolumns\u001b[0m\u001b[1;33m.\u001b[0m\u001b[0mget_loc\u001b[0m\u001b[1;33m(\u001b[0m\u001b[0mkey\u001b[0m\u001b[1;33m)\u001b[0m\u001b[1;33m\u001b[0m\u001b[1;33m\u001b[0m\u001b[0m\n\u001b[0m\u001b[0;32m   3025\u001b[0m             \u001b[1;32mif\u001b[0m \u001b[0mis_integer\u001b[0m\u001b[1;33m(\u001b[0m\u001b[0mindexer\u001b[0m\u001b[1;33m)\u001b[0m\u001b[1;33m:\u001b[0m\u001b[1;33m\u001b[0m\u001b[1;33m\u001b[0m\u001b[0m\n\u001b[0;32m   3026\u001b[0m                 \u001b[0mindexer\u001b[0m \u001b[1;33m=\u001b[0m \u001b[1;33m[\u001b[0m\u001b[0mindexer\u001b[0m\u001b[1;33m]\u001b[0m\u001b[1;33m\u001b[0m\u001b[1;33m\u001b[0m\u001b[0m\n",
      "\u001b[1;32m~\\anaconda3\\lib\\site-packages\\pandas\\core\\indexes\\base.py\u001b[0m in \u001b[0;36mget_loc\u001b[1;34m(self, key, method, tolerance)\u001b[0m\n\u001b[0;32m   3080\u001b[0m                 \u001b[1;32mreturn\u001b[0m \u001b[0mself\u001b[0m\u001b[1;33m.\u001b[0m\u001b[0m_engine\u001b[0m\u001b[1;33m.\u001b[0m\u001b[0mget_loc\u001b[0m\u001b[1;33m(\u001b[0m\u001b[0mcasted_key\u001b[0m\u001b[1;33m)\u001b[0m\u001b[1;33m\u001b[0m\u001b[1;33m\u001b[0m\u001b[0m\n\u001b[0;32m   3081\u001b[0m             \u001b[1;32mexcept\u001b[0m \u001b[0mKeyError\u001b[0m \u001b[1;32mas\u001b[0m \u001b[0merr\u001b[0m\u001b[1;33m:\u001b[0m\u001b[1;33m\u001b[0m\u001b[1;33m\u001b[0m\u001b[0m\n\u001b[1;32m-> 3082\u001b[1;33m                 \u001b[1;32mraise\u001b[0m \u001b[0mKeyError\u001b[0m\u001b[1;33m(\u001b[0m\u001b[0mkey\u001b[0m\u001b[1;33m)\u001b[0m \u001b[1;32mfrom\u001b[0m \u001b[0merr\u001b[0m\u001b[1;33m\u001b[0m\u001b[1;33m\u001b[0m\u001b[0m\n\u001b[0m\u001b[0;32m   3083\u001b[0m \u001b[1;33m\u001b[0m\u001b[0m\n\u001b[0;32m   3084\u001b[0m         \u001b[1;32mif\u001b[0m \u001b[0mtolerance\u001b[0m \u001b[1;32mis\u001b[0m \u001b[1;32mnot\u001b[0m \u001b[1;32mNone\u001b[0m\u001b[1;33m:\u001b[0m\u001b[1;33m\u001b[0m\u001b[1;33m\u001b[0m\u001b[0m\n",
      "\u001b[1;31mKeyError\u001b[0m: '3'"
     ]
    }
   ],
   "source": [
    "data_cols = pandas.read_csv(mainpath + \"/\" + \"sc_forosv4.csv\")\n",
    "data_col_list = data_cols[\"3\"].tolist()\n",
    "data2 = pandas.read_csv(mainpath + \"/\" + \"sc_forosv4.csv\", header = None, names = data_col_list)\n",
    "data2.columns.values"
   ]
  },
  {
   "cell_type": "code",
   "execution_count": 55,
   "id": "243de4f3",
   "metadata": {},
   "outputs": [
    {
     "data": {
      "text/html": [
       "<div>\n",
       "<style scoped>\n",
       "    .dataframe tbody tr th:only-of-type {\n",
       "        vertical-align: middle;\n",
       "    }\n",
       "\n",
       "    .dataframe tbody tr th {\n",
       "        vertical-align: top;\n",
       "    }\n",
       "\n",
       "    .dataframe thead th {\n",
       "        text-align: right;\n",
       "    }\n",
       "</style>\n",
       "<table border=\"1\" class=\"dataframe\">\n",
       "  <thead>\n",
       "    <tr style=\"text-align: right;\">\n",
       "      <th></th>\n",
       "      <th>3;2020070003;COMO USAR ONE DRIVE;CLAUDIO BATTA WILLIAMS DA COSTA;21/7/2020;24/7/2020;Cerrado</th>\n",
       "    </tr>\n",
       "  </thead>\n",
       "  <tbody>\n",
       "    <tr>\n",
       "      <th>0</th>\n",
       "      <td>4;2020070004;TELEGRAM MENSAJERIA;SAMUEL FUENTE...</td>\n",
       "    </tr>\n",
       "    <tr>\n",
       "      <th>1</th>\n",
       "      <td>5;2020070005;ANY DESK;WILLIAMS DA COSTA;28/7/2...</td>\n",
       "    </tr>\n",
       "    <tr>\n",
       "      <th>2</th>\n",
       "      <td>6;2020070006;NUBES INFORMATICAS;CLAUDIO BATTA;...</td>\n",
       "    </tr>\n",
       "    <tr>\n",
       "      <th>3</th>\n",
       "      <td>7;2020080001;MARKETING;WILIAMNY CIANO ALEJANDR...</td>\n",
       "    </tr>\n",
       "    <tr>\n",
       "      <th>4</th>\n",
       "      <td>8;2020080002;LINKEDIN PARA EL NEGOCIO;SAMUEL F...</td>\n",
       "    </tr>\n",
       "  </tbody>\n",
       "</table>\n",
       "</div>"
      ],
      "text/plain": [
       "  3;2020070003;COMO USAR ONE DRIVE;CLAUDIO BATTA WILLIAMS DA COSTA;21/7/2020;24/7/2020;Cerrado\n",
       "0  4;2020070004;TELEGRAM MENSAJERIA;SAMUEL FUENTE...                                          \n",
       "1  5;2020070005;ANY DESK;WILLIAMS DA COSTA;28/7/2...                                          \n",
       "2  6;2020070006;NUBES INFORMATICAS;CLAUDIO BATTA;...                                          \n",
       "3  7;2020080001;MARKETING;WILIAMNY CIANO ALEJANDR...                                          \n",
       "4  8;2020080002;LINKEDIN PARA EL NEGOCIO;SAMUEL F...                                          "
      ]
     },
     "execution_count": 55,
     "metadata": {},
     "output_type": "execute_result"
    }
   ],
   "source": [
    "data.head()"
   ]
  },
  {
   "cell_type": "markdown",
   "id": "91deb576",
   "metadata": {},
   "source": [
    "# Carga de datos a traves de la función open"
   ]
  },
  {
   "cell_type": "code",
   "execution_count": 56,
   "id": "31c1259f",
   "metadata": {},
   "outputs": [],
   "source": [
    "data3 = open(mainpath + \"/\" + \"sc_forosv4.csv\", \"r\")"
   ]
  },
  {
   "cell_type": "code",
   "execution_count": 62,
   "id": "d8ad26be",
   "metadata": {},
   "outputs": [],
   "source": [
    "cols = data3.readline().strip().split(\",\")\n",
    "n_cols = len(cols)"
   ]
  },
  {
   "cell_type": "code",
   "execution_count": 64,
   "id": "8db1568e",
   "metadata": {},
   "outputs": [],
   "source": [
    "counter = 0\n",
    "main_dict = {}\n",
    "for col in cols:\n",
    "    main_dict[col] = []"
   ]
  },
  {
   "cell_type": "code",
   "execution_count": 65,
   "id": "0cd8c222",
   "metadata": {},
   "outputs": [
    {
     "data": {
      "text/plain": [
       "{'6;2020070006;NUBES INFORMATICAS;CLAUDIO BATTA;30/7/2020;31/7/2020;Cerrado': []}"
      ]
     },
     "execution_count": 65,
     "metadata": {},
     "output_type": "execute_result"
    }
   ],
   "source": [
    "main_dict"
   ]
  },
  {
   "cell_type": "code",
   "execution_count": 67,
   "id": "6da4b478",
   "metadata": {},
   "outputs": [
    {
     "name": "stdout",
     "output_type": "stream",
     "text": [
      "El data set tiene el 32 filas y el 1 columnas\n"
     ]
    }
   ],
   "source": [
    "for line in data3:\n",
    "    values = line.strip().split(\",\")\n",
    "    for i in range(len(cols)):\n",
    "        main_dict[cols[i]].append(values[i])\n",
    "    counter += 1\n",
    "    \n",
    "print(\"El data set tiene el %d filas y el %d columnas\"%(counter, n_cols))"
   ]
  },
  {
   "cell_type": "code",
   "execution_count": 68,
   "id": "585df75b",
   "metadata": {},
   "outputs": [
    {
     "data": {
      "text/html": [
       "<div>\n",
       "<style scoped>\n",
       "    .dataframe tbody tr th:only-of-type {\n",
       "        vertical-align: middle;\n",
       "    }\n",
       "\n",
       "    .dataframe tbody tr th {\n",
       "        vertical-align: top;\n",
       "    }\n",
       "\n",
       "    .dataframe thead th {\n",
       "        text-align: right;\n",
       "    }\n",
       "</style>\n",
       "<table border=\"1\" class=\"dataframe\">\n",
       "  <thead>\n",
       "    <tr style=\"text-align: right;\">\n",
       "      <th></th>\n",
       "      <th>6;2020070006;NUBES INFORMATICAS;CLAUDIO BATTA;30/7/2020;31/7/2020;Cerrado</th>\n",
       "    </tr>\n",
       "  </thead>\n",
       "  <tbody>\n",
       "    <tr>\n",
       "      <th>0</th>\n",
       "      <td>7;2020080001;MARKETING;WILIAMNY CIANO ALEJANDR...</td>\n",
       "    </tr>\n",
       "    <tr>\n",
       "      <th>1</th>\n",
       "      <td>8;2020080002;LINKEDIN PARA EL NEGOCIO;SAMUEL F...</td>\n",
       "    </tr>\n",
       "    <tr>\n",
       "      <th>2</th>\n",
       "      <td>9;2020080003;TU MEJOR VERSION;MARIAN LEON;11/8...</td>\n",
       "    </tr>\n",
       "    <tr>\n",
       "      <th>3</th>\n",
       "      <td>10;2020080004;TRABAJA DESDE TU CASA;YORGELYS P...</td>\n",
       "    </tr>\n",
       "    <tr>\n",
       "      <th>4</th>\n",
       "      <td>11;2020080005;YOUTUBE;CLAUDIO BATTA WILLIAMS D...</td>\n",
       "    </tr>\n",
       "  </tbody>\n",
       "</table>\n",
       "</div>"
      ],
      "text/plain": [
       "  6;2020070006;NUBES INFORMATICAS;CLAUDIO BATTA;30/7/2020;31/7/2020;Cerrado\n",
       "0  7;2020080001;MARKETING;WILIAMNY CIANO ALEJANDR...                       \n",
       "1  8;2020080002;LINKEDIN PARA EL NEGOCIO;SAMUEL F...                       \n",
       "2  9;2020080003;TU MEJOR VERSION;MARIAN LEON;11/8...                       \n",
       "3  10;2020080004;TRABAJA DESDE TU CASA;YORGELYS P...                       \n",
       "4  11;2020080005;YOUTUBE;CLAUDIO BATTA WILLIAMS D...                       "
      ]
     },
     "execution_count": 68,
     "metadata": {},
     "output_type": "execute_result"
    }
   ],
   "source": [
    "df3 = pd.DataFrame(main_dict)\n",
    "df3.head()"
   ]
  },
  {
   "cell_type": "markdown",
   "id": "cbc1718d",
   "metadata": {},
   "source": [
    "# Lectura y escritura de ficheros"
   ]
  },
  {
   "cell_type": "code",
   "execution_count": 69,
   "id": "79cf61c0",
   "metadata": {},
   "outputs": [],
   "source": [
    "infile = mainpath + \"/\" + \"sc_forosv4.csv\"\n",
    "outfile = mainpath + \"/\" + \"Tab sc_forosv4.csv\""
   ]
  },
  {
   "cell_type": "code",
   "execution_count": 74,
   "id": "c18ed315",
   "metadata": {},
   "outputs": [],
   "source": [
    "with open(infile, \"r\") as infile1:\n",
    "    with open(outfile, \"w\") as outfile1:\n",
    "        for line in infile1:\n",
    "            fields = line.strip().split(\",\")\n",
    "            outfile1.write(\"\\t\".join(fields))\n",
    "            outfile1.write(\"\\n\")"
   ]
  },
  {
   "cell_type": "code",
   "execution_count": 76,
   "id": "0f21a20d",
   "metadata": {},
   "outputs": [
    {
     "data": {
      "text/html": [
       "<div>\n",
       "<style scoped>\n",
       "    .dataframe tbody tr th:only-of-type {\n",
       "        vertical-align: middle;\n",
       "    }\n",
       "\n",
       "    .dataframe tbody tr th {\n",
       "        vertical-align: top;\n",
       "    }\n",
       "\n",
       "    .dataframe thead th {\n",
       "        text-align: right;\n",
       "    }\n",
       "</style>\n",
       "<table border=\"1\" class=\"dataframe\">\n",
       "  <thead>\n",
       "    <tr style=\"text-align: right;\">\n",
       "      <th></th>\n",
       "      <th>Columna_A;Columna_B;Columna_C;Columna_D;Columna_E;Columna_F;Columna_G</th>\n",
       "    </tr>\n",
       "  </thead>\n",
       "  <tbody>\n",
       "    <tr>\n",
       "      <th>0</th>\n",
       "      <td>3;2020070003;COMO USAR ONE DRIVE;CLAUDIO BATTA...</td>\n",
       "    </tr>\n",
       "    <tr>\n",
       "      <th>1</th>\n",
       "      <td>4;2020070004;TELEGRAM MENSAJERIA;SAMUEL FUENTE...</td>\n",
       "    </tr>\n",
       "    <tr>\n",
       "      <th>2</th>\n",
       "      <td>5;2020070005;ANY DESK;WILLIAMS DA COSTA;28/7/2...</td>\n",
       "    </tr>\n",
       "    <tr>\n",
       "      <th>3</th>\n",
       "      <td>6;2020070006;NUBES INFORMATICAS;CLAUDIO BATTA;...</td>\n",
       "    </tr>\n",
       "    <tr>\n",
       "      <th>4</th>\n",
       "      <td>7;2020080001;MARKETING;WILIAMNY CIANO ALEJANDR...</td>\n",
       "    </tr>\n",
       "  </tbody>\n",
       "</table>\n",
       "</div>"
      ],
      "text/plain": [
       "  Columna_A;Columna_B;Columna_C;Columna_D;Columna_E;Columna_F;Columna_G\n",
       "0  3;2020070003;COMO USAR ONE DRIVE;CLAUDIO BATTA...                   \n",
       "1  4;2020070004;TELEGRAM MENSAJERIA;SAMUEL FUENTE...                   \n",
       "2  5;2020070005;ANY DESK;WILLIAMS DA COSTA;28/7/2...                   \n",
       "3  6;2020070006;NUBES INFORMATICAS;CLAUDIO BATTA;...                   \n",
       "4  7;2020080001;MARKETING;WILIAMNY CIANO ALEJANDR...                   "
      ]
     },
     "execution_count": 76,
     "metadata": {},
     "output_type": "execute_result"
    }
   ],
   "source": [
    "df4 = pandas.read_csv(outfile, sep = \"\\t\")\n",
    "df4.head()"
   ]
  },
  {
   "cell_type": "markdown",
   "id": "d380563e",
   "metadata": {},
   "source": [
    "# Leer datos desde una URL"
   ]
  },
  {
   "cell_type": "code",
   "execution_count": 5,
   "id": "7a32f419",
   "metadata": {},
   "outputs": [],
   "source": [
    "medals_url = \"http://winterolympicsmedals.com/medals.csv\""
   ]
  },
  {
   "cell_type": "code",
   "execution_count": null,
   "id": "f8ecb519",
   "metadata": {},
   "outputs": [],
   "source": []
  },
  {
   "cell_type": "code",
   "execution_count": 6,
   "id": "735b208c",
   "metadata": {},
   "outputs": [],
   "source": [
    "medals_data = pd.read_csv(medals_url)"
   ]
  },
  {
   "cell_type": "code",
   "execution_count": null,
   "id": "31405faa",
   "metadata": {},
   "outputs": [],
   "source": []
  },
  {
   "cell_type": "code",
   "execution_count": 7,
   "id": "a38bbc79",
   "metadata": {},
   "outputs": [
    {
     "data": {
      "text/html": [
       "<div>\n",
       "<style scoped>\n",
       "    .dataframe tbody tr th:only-of-type {\n",
       "        vertical-align: middle;\n",
       "    }\n",
       "\n",
       "    .dataframe tbody tr th {\n",
       "        vertical-align: top;\n",
       "    }\n",
       "\n",
       "    .dataframe thead th {\n",
       "        text-align: right;\n",
       "    }\n",
       "</style>\n",
       "<table border=\"1\" class=\"dataframe\">\n",
       "  <thead>\n",
       "    <tr style=\"text-align: right;\">\n",
       "      <th></th>\n",
       "      <th>Year</th>\n",
       "      <th>City</th>\n",
       "      <th>Sport</th>\n",
       "      <th>Discipline</th>\n",
       "      <th>NOC</th>\n",
       "      <th>Event</th>\n",
       "      <th>Event gender</th>\n",
       "      <th>Medal</th>\n",
       "    </tr>\n",
       "  </thead>\n",
       "  <tbody>\n",
       "    <tr>\n",
       "      <th>0</th>\n",
       "      <td>1924</td>\n",
       "      <td>Chamonix</td>\n",
       "      <td>Skating</td>\n",
       "      <td>Figure skating</td>\n",
       "      <td>AUT</td>\n",
       "      <td>individual</td>\n",
       "      <td>M</td>\n",
       "      <td>Silver</td>\n",
       "    </tr>\n",
       "    <tr>\n",
       "      <th>1</th>\n",
       "      <td>1924</td>\n",
       "      <td>Chamonix</td>\n",
       "      <td>Skating</td>\n",
       "      <td>Figure skating</td>\n",
       "      <td>AUT</td>\n",
       "      <td>individual</td>\n",
       "      <td>W</td>\n",
       "      <td>Gold</td>\n",
       "    </tr>\n",
       "    <tr>\n",
       "      <th>2</th>\n",
       "      <td>1924</td>\n",
       "      <td>Chamonix</td>\n",
       "      <td>Skating</td>\n",
       "      <td>Figure skating</td>\n",
       "      <td>AUT</td>\n",
       "      <td>pairs</td>\n",
       "      <td>X</td>\n",
       "      <td>Gold</td>\n",
       "    </tr>\n",
       "    <tr>\n",
       "      <th>3</th>\n",
       "      <td>1924</td>\n",
       "      <td>Chamonix</td>\n",
       "      <td>Bobsleigh</td>\n",
       "      <td>Bobsleigh</td>\n",
       "      <td>BEL</td>\n",
       "      <td>four-man</td>\n",
       "      <td>M</td>\n",
       "      <td>Bronze</td>\n",
       "    </tr>\n",
       "    <tr>\n",
       "      <th>4</th>\n",
       "      <td>1924</td>\n",
       "      <td>Chamonix</td>\n",
       "      <td>Ice Hockey</td>\n",
       "      <td>Ice Hockey</td>\n",
       "      <td>CAN</td>\n",
       "      <td>ice hockey</td>\n",
       "      <td>M</td>\n",
       "      <td>Gold</td>\n",
       "    </tr>\n",
       "  </tbody>\n",
       "</table>\n",
       "</div>"
      ],
      "text/plain": [
       "   Year      City       Sport      Discipline  NOC       Event Event gender  \\\n",
       "0  1924  Chamonix     Skating  Figure skating  AUT  individual            M   \n",
       "1  1924  Chamonix     Skating  Figure skating  AUT  individual            W   \n",
       "2  1924  Chamonix     Skating  Figure skating  AUT       pairs            X   \n",
       "3  1924  Chamonix   Bobsleigh       Bobsleigh  BEL    four-man            M   \n",
       "4  1924  Chamonix  Ice Hockey      Ice Hockey  CAN  ice hockey            M   \n",
       "\n",
       "    Medal  \n",
       "0  Silver  \n",
       "1    Gold  \n",
       "2    Gold  \n",
       "3  Bronze  \n",
       "4    Gold  "
      ]
     },
     "execution_count": 7,
     "metadata": {},
     "output_type": "execute_result"
    }
   ],
   "source": [
    "medals_data.head()"
   ]
  },
  {
   "cell_type": "code",
   "execution_count": null,
   "id": "85fe7226",
   "metadata": {},
   "outputs": [],
   "source": []
  },
  {
   "cell_type": "code",
   "execution_count": 8,
   "id": "9c41152d",
   "metadata": {},
   "outputs": [],
   "source": [
    "import csv\n",
    "import urllib3"
   ]
  },
  {
   "cell_type": "code",
   "execution_count": null,
   "id": "98f572ba",
   "metadata": {},
   "outputs": [],
   "source": []
  },
  {
   "cell_type": "code",
   "execution_count": null,
   "id": "709a6892",
   "metadata": {},
   "outputs": [],
   "source": []
  },
  {
   "cell_type": "code",
   "execution_count": 9,
   "id": "4e012cdb",
   "metadata": {},
   "outputs": [],
   "source": [
    "import urllib3\n",
    "http = urllib3.PoolManager()\n",
    "r = http.request('GET', medals_url)\n",
    "r.status\n",
    "response = r.data"
   ]
  },
  {
   "cell_type": "code",
   "execution_count": null,
   "id": "9b0c8a96",
   "metadata": {},
   "outputs": [],
   "source": []
  },
  {
   "cell_type": "code",
   "execution_count": null,
   "id": "95eb1ddf",
   "metadata": {},
   "outputs": [],
   "source": []
  },
  {
   "cell_type": "code",
   "execution_count": 10,
   "id": "712b461c",
   "metadata": {},
   "outputs": [],
   "source": [
    "import csv\n",
    "cr = csv.reader(response)"
   ]
  },
  {
   "cell_type": "code",
   "execution_count": null,
   "id": "1474af99",
   "metadata": {},
   "outputs": [],
   "source": []
  },
  {
   "cell_type": "code",
   "execution_count": 11,
   "id": "f2e4d9d1",
   "metadata": {},
   "outputs": [
    {
     "ename": "Error",
     "evalue": "iterator should return strings, not int (did you open the file in text mode?)",
     "output_type": "error",
     "traceback": [
      "\u001b[1;31m---------------------------------------------------------------------------\u001b[0m",
      "\u001b[1;31mError\u001b[0m                                     Traceback (most recent call last)",
      "\u001b[1;32m<ipython-input-11-3d8bf9431c00>\u001b[0m in \u001b[0;36m<module>\u001b[1;34m\u001b[0m\n\u001b[1;32m----> 1\u001b[1;33m \u001b[1;32mfor\u001b[0m \u001b[0mrow\u001b[0m \u001b[1;32min\u001b[0m \u001b[0mcr\u001b[0m\u001b[1;33m:\u001b[0m\u001b[1;33m\u001b[0m\u001b[1;33m\u001b[0m\u001b[0m\n\u001b[0m\u001b[0;32m      2\u001b[0m     \u001b[0mprint\u001b[0m\u001b[1;33m(\u001b[0m\u001b[0mrow\u001b[0m\u001b[1;33m)\u001b[0m\u001b[1;33m\u001b[0m\u001b[1;33m\u001b[0m\u001b[0m\n",
      "\u001b[1;31mError\u001b[0m: iterator should return strings, not int (did you open the file in text mode?)"
     ]
    }
   ],
   "source": [
    "for row in cr:\n",
    "    print(row)"
   ]
  },
  {
   "cell_type": "code",
   "execution_count": null,
   "id": "85cf47b0",
   "metadata": {},
   "outputs": [],
   "source": []
  },
  {
   "cell_type": "code",
   "execution_count": 12,
   "id": "78e90422",
   "metadata": {},
   "outputs": [
    {
     "data": {
      "text/plain": [
       "b\"Year,City,Sport,Discipline,NOC,Event,Event gender,Medal\\n1924,Chamonix,Skating,Figure skating,AUT,individual,M,Silver\\n1924,Chamonix,Skating,Figure skating,AUT,individual,W,Gold\\n1924,Chamonix,Skating,Figure skating,AUT,pairs,X,Gold\\n1924,Chamonix,Bobsleigh,Bobsleigh,BEL,four-man,M,Bronze\\n1924,Chamonix,Ice Hockey,Ice Hockey,CAN,ice hockey,M,Gold\\n1924,Chamonix,Biathlon,Biathlon,FIN,military patrol,M,Silver\\n1924,Chamonix,Skating,Figure skating,FIN,pairs,X,Silver\\n1924,Chamonix,Skating,Speed skating,FIN,10000m,M,Gold\\n1924,Chamonix,Skating,Speed skating,FIN,10000m,M,Silver\\n1924,Chamonix,Skating,Speed skating,FIN,1500m,M,Gold\\n1924,Chamonix,Skating,Speed skating,FIN,5000m,M,Gold\\n1924,Chamonix,Skating,Speed skating,FIN,5000m,M,Silver\\n1924,Chamonix,Skating,Speed skating,FIN,500m,M,Bronze\\n1924,Chamonix,Skating,Speed skating,FIN,combined (4 events),M,Bronze\\n1924,Chamonix,Skating,Speed skating,FIN,combined (4 events),M,Gold\\n1924,Chamonix,Skiing,Cross Country S,FIN,18km,M,Bronze\\n1924,Chamonix,Biathlon,Biathlon,FRA,military patrol,M,Bronze\\n1924,Chamonix,Curling,Curling,FRA,curling,M,Bronze\\n1924,Chamonix,Skating,Figure skating,FRA,pairs,X,Bronze\\n1924,Chamonix,Bobsleigh,Bobsleigh,GBR,four-man,M,Silver\\n1924,Chamonix,Curling,Curling,GBR,curling,M,Gold\\n1924,Chamonix,Ice Hockey,Ice Hockey,GBR,ice hockey,M,Bronze\\n1924,Chamonix,Skating,Figure skating,GBR,individual,W,Bronze\\n1924,Chamonix,Skating,Speed skating,NOR,10000m,M,Bronze\\n1924,Chamonix,Skating,Speed skating,NOR,1500m,M,Bronze\\n1924,Chamonix,Skating,Speed skating,NOR,1500m,M,Silver\\n1924,Chamonix,Skating,Speed skating,NOR,5000m,M,Bronze\\n1924,Chamonix,Skating,Speed skating,NOR,500m,M,Bronze\\n1924,Chamonix,Skating,Speed skating,NOR,500m,M,Silver\\n1924,Chamonix,Skating,Speed skating,NOR,combined (4 events),M,Silver\\n1924,Chamonix,Skiing,Cross Country S,NOR,18km,M,Gold\\n1924,Chamonix,Skiing,Cross Country S,NOR,18km,M,Silver\\n1924,Chamonix,Skiing,Cross Country S,NOR,50km,M,Bronze\\n1924,Chamonix,Skiing,Cross Country S,NOR,50km,M,Gold\\n1924,Chamonix,Skiing,Cross Country S,NOR,50km,M,Silver\\n1924,Chamonix,Skiing,Nordic Combined,NOR,individual,M,Bronze\\n1924,Chamonix,Skiing,Nordic Combined,NOR,individual,M,Gold\\n1924,Chamonix,Skiing,Nordic Combined,NOR,individual,M,Silver\\n1924,Chamonix,Skiing,Ski Jumping,NOR,K90 individual (70m),M,Gold\\n1924,Chamonix,Skiing,Ski Jumping,NOR,K90 individual (70m),M,Silver\\n1924,Chamonix,Biathlon,Biathlon,SUI,military patrol,M,Gold\\n1924,Chamonix,Bobsleigh,Bobsleigh,SUI,four-man,M,Gold\\n1924,Chamonix,Skating,Figure skating,SUI,individual,M,Bronze\\n1924,Chamonix,Curling,Curling,SWE,curling,M,Silver\\n1924,Chamonix,Skating,Figure skating,SWE,individual,M,Gold\\n1924,Chamonix,Ice Hockey,Ice Hockey,USA,ice hockey,M,Silver\\n1924,Chamonix,Skating,Figure skating,USA,individual,W,Silver\\n1924,Chamonix,Skating,Speed skating,USA,500m,M,Gold\\n1924,Chamonix,Skiing,Ski Jumping,USA,K90 individual (70m),M,Bronze\\n1928,St. Moritz,Skating,Figure skating,AUT,individual,M,Silver\\n1928,St. Moritz,Skating,Figure skating,AUT,individual,W,Silver\\n1928,St. Moritz,Skating,Figure skating,AUT,pairs,X,Bronze\\n1928,St. Moritz,Skating,Figure skating,AUT,pairs,X,Silver\\n1928,St. Moritz,Skating,Figure skating,BEL,individual,M,Bronze\\n1928,St. Moritz,Ice Hockey,Ice Hockey,CAN,ice hockey,M,Gold\\n1928,St. Moritz,Skating,Speed skating,FIN,1500m,M,Gold\\n1928,St. Moritz,Skating,Speed skating,FIN,5000m,M,Silver\\n1928,St. Moritz,Skating,Speed skating,FIN,500m,M,Bronze\\n1928,St. Moritz,Skating,Speed skating,FIN,500m,M,Gold\\n1928,St. Moritz,Skating,Figure skating,FRA,pairs,X,Gold\\n1928,St. Moritz,Bobsleigh,Skeleton,GBR,individual,M,Bronze\\n1928,St. Moritz,Bobsleigh,Bobsleigh,GER,five-man,M,Bronze\\n1928,St. Moritz,Skating,Figure skating,NOR,individual,W,Gold\\n1928,St. Moritz,Skating,Speed skating,NOR,1500m,M,Bronze\\n1928,St. Moritz,Skating,Speed skating,NOR,1500m,M,Silver\\n1928,St. Moritz,Skating,Speed skating,NOR,5000m,M,Bronze\\n1928,St. Moritz,Skating,Speed skating,NOR,5000m,M,Gold\\n1928,St. Moritz,Skating,Speed skating,NOR,500m,M,Bronze\\n1928,St. Moritz,Skating,Speed skating,NOR,500m,M,Gold\\n1928,St. Moritz,Skiing,Cross Country S,NOR,18km,M,Bronze\\n1928,St. Moritz,Skiing,Cross Country S,NOR,18km,M,Gold\\n1928,St. Moritz,Skiing,Cross Country S,NOR,18km,M,Silver\\n1928,St. Moritz,Skiing,Nordic Combined,NOR,individual,M,Bronze\\n1928,St. Moritz,Skiing,Nordic Combined,NOR,individual,M,Gold\\n1928,St. Moritz,Skiing,Nordic Combined,NOR,individual,M,Silver\\n1928,St. Moritz,Skiing,Ski Jumping,NOR,K90 individual (70m),M,Gold\\n1928,St. Moritz,Skiing,Ski Jumping,NOR,K90 individual (70m),M,Silver\\n1928,St. Moritz,Ice Hockey,Ice Hockey,SUI,ice hockey,M,Bronze\\n1928,St. Moritz,Ice Hockey,Ice Hockey,SWE,ice hockey,M,Silver\\n1928,St. Moritz,Skating,Figure skating,SWE,individual,M,Gold\\n1928,St. Moritz,Skiing,Cross Country S,SWE,50km,M,Bronze\\n1928,St. Moritz,Skiing,Cross Country S,SWE,50km,M,Gold\\n1928,St. Moritz,Skiing,Cross Country S,SWE,50km,M,Silver\\n1928,St. Moritz,Skiing,Ski Jumping,TCH,K90 individual (70m),M,Bronze\\n1928,St. Moritz,Bobsleigh,Bobsleigh,USA,five-man,M,Gold\\n1928,St. Moritz,Bobsleigh,Bobsleigh,USA,five-man,M,Silver\\n1928,St. Moritz,Bobsleigh,Skeleton,USA,individual,M,Gold\\n1928,St. Moritz,Bobsleigh,Skeleton,USA,individual,M,Silver\\n1928,St. Moritz,Skating,Figure skating,USA,individual,W,Bronze\\n1928,St. Moritz,Skating,Speed skating,USA,500m,M,Bronze\\n1932,Lake Placid,Skating,Figure skating,AUT,individual,M,Gold\\n1932,Lake Placid,Skating,Figure skating,AUT,individual,W,Silver\\n1932,Lake Placid,Ice Hockey,Ice Hockey,CAN,ice hockey,M,Gold\\n1932,Lake Placid,Skating,Figure skating,CAN,individual,M,Bronze\\n1932,Lake Placid,Skating,Speed skating,CAN,10000m,M,Bronze\\n1932,Lake Placid,Skating,Speed skating,CAN,1500m,M,Bronze\\n1932,Lake Placid,Skating,Speed skating,CAN,1500m,M,Silver\\n1932,Lake Placid,Skating,Speed skating,CAN,5000m,M,Bronze\\n1932,Lake Placid,Skating,Speed skating,CAN,500m,M,Bronze\\n1932,Lake Placid,Skiing,Cross Country S,FIN,18km,M,Bronze\\n1932,Lake Placid,Skiing,Cross Country S,FIN,50km,M,Gold\\n1932,Lake Placid,Skiing,Cross Country S,FIN,50km,M,Silver\\n1932,Lake Placid,Skating,Figure skating,FRA,pairs,X,Gold\\n1932,Lake Placid,Bobsleigh,Bobsleigh,GER,four-man,M,Bronze\\n1932,Lake Placid,Ice Hockey,Ice Hockey,GER,ice hockey,M,Bronze\\n1932,Lake Placid,Skating,Figure skating,HUN,pairs,X,Bronze\\n1932,Lake Placid,Skating,Figure skating,NOR,individual,W,Gold\\n1932,Lake Placid,Skating,Speed skating,NOR,10000m,M,Silver\\n1932,Lake Placid,Skating,Speed skating,NOR,500m,M,Silver\\n1932,Lake Placid,Skiing,Cross Country S,NOR,50km,M,Bronze\\n1932,Lake Placid,Skiing,Nordic Combined,NOR,individual,M,Bronze\\n1932,Lake Placid,Skiing,Nordic Combined,NOR,individual,M,Gold\\n1932,Lake Placid,Skiing,Nordic Combined,NOR,individual,M,Silver\\n1932,Lake Placid,Skiing,Ski Jumping,NOR,K90 individual (70m),M,Bronze\\n1932,Lake Placid,Skiing,Ski Jumping,NOR,K90 individual (70m),M,Gold\\n1932,Lake Placid,Skiing,Ski Jumping,NOR,K90 individual (70m),M,Silver\\n1932,Lake Placid,Bobsleigh,Bobsleigh,SUI,two-man,M,Silver\\n1932,Lake Placid,Skating,Figure skating,SWE,individual,M,Silver\\n1932,Lake Placid,Skiing,Cross Country S,SWE,18km,M,Gold\\n1932,Lake Placid,Skiing,Cross Country S,SWE,18km,M,Silver\\n1932,Lake Placid,Bobsleigh,Bobsleigh,USA,four-man,M,Gold\\n1932,Lake Placid,Bobsleigh,Bobsleigh,USA,four-man,M,Silver\\n1932,Lake Placid,Bobsleigh,Bobsleigh,USA,two-man,M,Bronze\\n1932,Lake Placid,Bobsleigh,Bobsleigh,USA,two-man,M,Gold\\n1932,Lake Placid,Ice Hockey,Ice Hockey,USA,ice hockey,M,Silver\\n1932,Lake Placid,Skating,Figure skating,USA,individual,W,Bronze\\n1932,Lake Placid,Skating,Figure skating,USA,pairs,X,Silver\\n1932,Lake Placid,Skating,Speed skating,USA,10000m,M,Gold\\n1932,Lake Placid,Skating,Speed skating,USA,1500m,M,Gold\\n1932,Lake Placid,Skating,Speed skating,USA,5000m,M,Gold\\n1932,Lake Placid,Skating,Speed skating,USA,5000m,M,Silver\\n1932,Lake Placid,Skating,Speed skating,USA,500m,M,Gold\\n1936,Garmisch-Partenkirchen,Skating,Figure skating,AUT,individual,M,Bronze\\n1936,Garmisch-Partenkirchen,Skating,Figure skating,AUT,individual,M,Gold\\n1936,Garmisch-Partenkirchen,Skating,Figure skating,AUT,pairs,X,Silver\\n1936,Garmisch-Partenkirchen,Skating,Speed skating,AUT,10000m,M,Bronze\\n1936,Garmisch-Partenkirchen,Ice Hockey,Ice Hockey,CAN,ice hockey,M,Silver\\n1936,Garmisch-Partenkirchen,Skating,Speed skating,FIN,10000m,M,Silver\\n1936,Garmisch-Partenkirchen,Skating,Speed skating,FIN,1500m,M,Bronze\\n1936,Garmisch-Partenkirchen,Skating,Speed skating,FIN,5000m,M,Bronze\\n1936,Garmisch-Partenkirchen,Skating,Speed skating,FIN,5000m,M,Silver\\n1936,Garmisch-Partenkirchen,Skiing,Cross Country S,FIN,18km,M,Bronze\\n1936,Garmisch-Partenkirchen,Skiing,Cross Country S,FIN,4x10km relay,M,Gold\\n1936,Garmisch-Partenkirchen,Skiing,Alpine Skiing,FRA,alpine combined,M,Bronze\\n1936,Garmisch-Partenkirchen,Bobsleigh,Bobsleigh,GBR,four-man,M,Bronze\\n1936,Garmisch-Partenkirchen,Ice Hockey,Ice Hockey,GBR,ice hockey,M,Gold\\n1936,Garmisch-Partenkirchen,Skating,Figure skating,GBR,individual,W,Silver\\n1936,Garmisch-Partenkirchen,Skating,Figure skating,GER,individual,M,Silver\\n1936,Garmisch-Partenkirchen,Skating,Figure skating,GER,pairs,X,Gold\\n1936,Garmisch-Partenkirchen,Skiing,Alpine Skiing,GER,alpine combined,M,Gold\\n1936,Garmisch-Partenkirchen,Skiing,Alpine Skiing,GER,alpine combined,M,Silver\\n1936,Garmisch-Partenkirchen,Skiing,Alpine Skiing,GER,alpine combined,W,Gold\\n1936,Garmisch-Partenkirchen,Skiing,Alpine Skiing,GER,alpine combined,W,Silver\\n1936,Garmisch-Partenkirchen,Skating,Figure skating,HUN,pairs,X,Bronze\\n1936,Garmisch-Partenkirchen,Skating,Figure skating,NOR,individual,W,Gold\\n1936,Garmisch-Partenkirchen,Skating,Speed skating,NOR,10000m,M,Gold\\n1936,Garmisch-Partenkirchen,Skating,Speed skating,NOR,1500m,M,Gold\\n1936,Garmisch-Partenkirchen,Skating,Speed skating,NOR,1500m,M,Silver\\n1936,Garmisch-Partenkirchen,Skating,Speed skating,NOR,5000m,M,Gold\\n1936,Garmisch-Partenkirchen,Skating,Speed skating,NOR,500m,M,Gold\\n1936,Garmisch-Partenkirchen,Skating,Speed skating,NOR,500m,M,Silver\\n1936,Garmisch-Partenkirchen,Skiing,Alpine Skiing,NOR,alpine combined,W,Bronze\\n1936,Garmisch-Partenkirchen,Skiing,Cross Country S,NOR,18km,M,Silver\\n1936,Garmisch-Partenkirchen,Skiing,Cross Country S,NOR,4x10km relay,M,Silver\\n1936,Garmisch-Partenkirchen,Skiing,Nordic Combined,NOR,individual,M,Bronze\\n1936,Garmisch-Partenkirchen,Skiing,Nordic Combined,NOR,individual,M,Gold\\n1936,Garmisch-Partenkirchen,Skiing,Nordic Combined,NOR,individual,M,Silver\\n1936,Garmisch-Partenkirchen,Skiing,Ski Jumping,NOR,K90 individual (70m),M,Bronze\\n1936,Garmisch-Partenkirchen,Skiing,Ski Jumping,NOR,K90 individual (70m),M,Gold\\n1936,Garmisch-Partenkirchen,Bobsleigh,Bobsleigh,SUI,four-man,M,Gold\\n1936,Garmisch-Partenkirchen,Bobsleigh,Bobsleigh,SUI,four-man,M,Silver\\n1936,Garmisch-Partenkirchen,Bobsleigh,Bobsleigh,SUI,two-man,M,Silver\\n1936,Garmisch-Partenkirchen,Skating,Figure skating,SWE,individual,W,Bronze\\n1936,Garmisch-Partenkirchen,Skiing,Cross Country S,SWE,18km,M,Gold\\n1936,Garmisch-Partenkirchen,Skiing,Cross Country S,SWE,4x10km relay,M,Bronze\\n1936,Garmisch-Partenkirchen,Skiing,Cross Country S,SWE,50km,M,Bronze\\n1936,Garmisch-Partenkirchen,Skiing,Cross Country S,SWE,50km,M,Gold\\n1936,Garmisch-Partenkirchen,Skiing,Cross Country S,SWE,50km,M,Silver\\n1936,Garmisch-Partenkirchen,Skiing,Ski Jumping,SWE,K90 individual (70m),M,Silver\\n1936,Garmisch-Partenkirchen,Bobsleigh,Bobsleigh,USA,two-man,M,Bronze\\n1936,Garmisch-Partenkirchen,Bobsleigh,Bobsleigh,USA,two-man,M,Gold\\n1936,Garmisch-Partenkirchen,Ice Hockey,Ice Hockey,USA,ice hockey,M,Bronze\\n1936,Garmisch-Partenkirchen,Skating,Speed skating,USA,500m,M,Bronze\\n1948,St. Moritz,Skating,Figure skating,AUT,individual,M,Bronze\\n1948,St. Moritz,Skating,Figure skating,AUT,individual,W,Silver\\n1948,St. Moritz,Skiing,Alpine Skiing,AUT,alpine combined,W,Bronze\\n1948,St. Moritz,Skiing,Alpine Skiing,AUT,alpine combined,W,Gold\\n1948,St. Moritz,Skiing,Alpine Skiing,AUT,downhill,M,Silver\\n1948,St. Moritz,Skiing,Alpine Skiing,AUT,downhill,W,Bronze\\n1948,St. Moritz,Skiing,Alpine Skiing,AUT,downhill,W,Silver\\n1948,St. Moritz,Skiing,Alpine Skiing,AUT,slalom,W,Bronze\\n1948,St. Moritz,Bobsleigh,Bobsleigh,BEL,four-man,M,Silver\\n1948,St. Moritz,Skating,Figure skating,BEL,pairs,X,Gold\\n1948,St. Moritz,Ice Hockey,Ice Hockey,CAN,ice hockey,M,Gold\\n1948,St. Moritz,Skating,Figure skating,CAN,individual,W,Gold\\n1948,St. Moritz,Skating,Figure skating,CAN,pairs,X,Bronze\\n1948,St. Moritz,Skating,Speed skating,FIN,10000m,M,Bronze\\n1948,St. Moritz,Skating,Speed skating,FIN,10000m,M,Silver\\n1948,St. Moritz,Skiing,Cross Country S,FIN,4x10km relay,M,Silver\\n1948,St. Moritz,Skiing,Cross Country S,FIN,50km,M,Bronze\\n1948,St. Moritz,Skiing,Nordic Combined,FIN,individual,M,Gold\\n1948,St. Moritz,Skiing,Nordic Combined,FIN,individual,M,Silver\\n1948,St. Moritz,Skiing,Alpine Skiing,FRA,alpine combined,M,Bronze\\n1948,St. Moritz,Skiing,Alpine Skiing,FRA,alpine combined,M,Gold\\n1948,St. Moritz,Skiing,Alpine Skiing,FRA,downhill,M,Gold\\n1948,St. Moritz,Skiing,Alpine Skiing,FRA,slalom,M,Bronze\\n1948,St. Moritz,Skiing,Alpine Skiing,FRA,slalom,M,Silver\\n1948,St. Moritz,Bobsleigh,Skeleton,GBR,individual,M,Bronze\\n1948,St. Moritz,Skating,Figure skating,GBR,individual,W,Bronze\\n1948,St. Moritz,Skating,Figure skating,HUN,pairs,X,Silver\\n1948,St. Moritz,Bobsleigh,Skeleton,ITA,individual,M,Gold\\n1948,St. Moritz,Skating,Speed skating,NOR,1500m,M,Bronze\\n1948,St. Moritz,Skating,Speed skating,NOR,1500m,M,Gold\\n1948,St. Moritz,Skating,Speed skating,NOR,5000m,M,Gold\\n1948,St. Moritz,Skating,Speed skating,NOR,5000m,M,Silver\\n1948,St. Moritz,Skating,Speed skating,NOR,500m,M,Gold\\n1948,St. Moritz,Skating,Speed skating,NOR,500m,M,Silver\\n1948,St. Moritz,Skiing,Cross Country S,NOR,4x10km relay,M,Bronze\\n1948,St. Moritz,Skiing,Ski Jumping,NOR,K90 individual (70m),M,Bronze\\n1948,St. Moritz,Skiing,Ski Jumping,NOR,K90 individual (70m),M,Gold\\n1948,St. Moritz,Skiing,Ski Jumping,NOR,K90 individual (70m),M,Silver\\n1948,St. Moritz,Bobsleigh,Bobsleigh,SUI,two-man,M,Gold\\n1948,St. Moritz,Bobsleigh,Bobsleigh,SUI,two-man,M,Silver\\n1948,St. Moritz,Ice Hockey,Ice Hockey,SUI,ice hockey,M,Bronze\\n1948,St. Moritz,Skating,Figure skating,SUI,individual,M,Silver\\n1948,St. Moritz,Skiing,Alpine Skiing,SUI,alpine combined,M,Silver\\n1948,St. Moritz,Skiing,Alpine Skiing,SUI,downhill,M,Bronze\\n1948,St. Moritz,Skiing,Alpine Skiing,SUI,downhill,M,Bronze\\n1948,St. Moritz,Skiing,Alpine Skiing,SUI,downhill,W,Gold\\n1948,St. Moritz,Skiing,Alpine Skiing,SUI,slalom,M,Gold\\n1948,St. Moritz,Skiing,Alpine Skiing,SUI,slalom,W,Silver\\n1948,St. Moritz,Skating,Speed skating,SWE,10000m,M,Gold\\n1948,St. Moritz,Skating,Speed skating,SWE,1500m,M,Silver\\n1948,St. Moritz,Skating,Speed skating,SWE,5000m,M,Bronze\\n1948,St. Moritz,Skiing,Cross Country S,SWE,18km,M,Bronze\\n1948,St. Moritz,Skiing,Cross Country S,SWE,18km,M,Gold\\n1948,St. Moritz,Skiing,Cross Country S,SWE,18km,M,Silver\\n1948,St. Moritz,Skiing,Cross Country S,SWE,4x10km relay,M,Gold\\n1948,St. Moritz,Skiing,Cross Country S,SWE,50km,M,Gold\\n1948,St. Moritz,Skiing,Cross Country S,SWE,50km,M,Silver\\n1948,St. Moritz,Skiing,Nordic Combined,SWE,individual,M,Bronze\\n1948,St. Moritz,Ice Hockey,Ice Hockey,TCH,ice hockey,M,Silver\\n1948,St. Moritz,Bobsleigh,Bobsleigh,USA,four-man,M,Bronze\\n1948,St. Moritz,Bobsleigh,Bobsleigh,USA,four-man,M,Gold\\n1948,St. Moritz,Bobsleigh,Bobsleigh,USA,two-man,M,Bronze\\n1948,St. Moritz,Bobsleigh,Skeleton,USA,individual,M,Silver\\n1948,St. Moritz,Skating,Figure skating,USA,individual,M,Gold\\n1948,St. Moritz,Skating,Speed skating,USA,500m,M,Silver\\n1948,St. Moritz,Skating,Speed skating,USA,500m,M,Silver\\n1948,St. Moritz,Skiing,Alpine Skiing,USA,alpine combined,W,Silver\\n1948,St. Moritz,Skiing,Alpine Skiing,USA,slalom,W,Gold\\n1952,Oslo,Skating,Figure skating,AUT,individual,M,Silver\\n1952,Oslo,Skiing,Alpine Skiing,AUT,downhill,M,Bronze\\n1952,Oslo,Skiing,Alpine Skiing,AUT,downhill,M,Silver\\n1952,Oslo,Skiing,Alpine Skiing,AUT,downhill,W,Gold\\n1952,Oslo,Skiing,Alpine Skiing,AUT,giant slalom,M,Bronze\\n1952,Oslo,Skiing,Alpine Skiing,AUT,giant slalom,M,Silver\\n1952,Oslo,Skiing,Alpine Skiing,AUT,giant slalom,W,Silver\\n1952,Oslo,Skiing,Alpine Skiing,AUT,slalom,M,Gold\\n1952,Oslo,Ice Hockey,Ice Hockey,CAN,ice hockey,M,Gold\\n1952,Oslo,Skating,Speed skating,CAN,500m,M,Bronze\\n1952,Oslo,Skiing,Cross Country S,FIN,10km,W,Bronze\\n1952,Oslo,Skiing,Cross Country S,FIN,10km,W,Gold\\n1952,Oslo,Skiing,Cross Country S,FIN,10km,W,Silver\\n1952,Oslo,Skiing,Cross Country S,FIN,18km,M,Bronze\\n1952,Oslo,Skiing,Cross Country S,FIN,18km,M,Silver\\n1952,Oslo,Skiing,Cross Country S,FIN,4x10km relay,M,Gold\\n1952,Oslo,Skiing,Cross Country S,FIN,50km,M,Gold\\n1952,Oslo,Skiing,Cross Country S,FIN,50km,M,Silver\\n1952,Oslo,Skiing,Nordic Combined,FIN,individual,M,Silver\\n1952,Oslo,Skating,Figure skating,FRA,individual,W,Bronze\\n1952,Oslo,Bobsleigh,Bobsleigh,FRG,four-man,M,Gold\\n1952,Oslo,Bobsleigh,Bobsleigh,FRG,two-man,M,Gold\\n1952,Oslo,Skating,Figure skating,GBR,individual,W,Gold\\n1952,Oslo,Skating,Figure skating,GER,pairs,X,Gold\\n1952,Oslo,Skiing,Alpine Skiing,GER,downhill,W,Silver\\n1952,Oslo,Skiing,Alpine Skiing,GER,giant slalom,W,Bronze\\n1952,Oslo,Skiing,Alpine Skiing,GER,slalom,W,Bronze\\n1952,Oslo,Skiing,Alpine Skiing,GER,slalom,W,Silver\\n1952,Oslo,Skating,Figure skating,HUN,pairs,X,Bronze\\n1952,Oslo,Skiing,Alpine Skiing,ITA,downhill,M,Gold\\n1952,Oslo,Skiing,Alpine Skiing,ITA,downhill,W,Bronze\\n1952,Oslo,Skating,Speed skating,NED,10000m,M,Silver\\n1952,Oslo,Skating,Speed skating,NED,1500m,M,Silver\\n1952,Oslo,Skating,Speed skating,NED,5000m,M,Silver\\n1952,Oslo,Skating,Speed skating,NOR,10000m,M,Gold\\n1952,Oslo,Skating,Speed skating,NOR,1500m,M,Bronze\\n1952,Oslo,Skating,Speed skating,NOR,1500m,M,Gold\\n1952,Oslo,Skating,Speed skating,NOR,5000m,M,Bronze\\n1952,Oslo,Skating,Speed skating,NOR,5000m,M,Gold\\n1952,Oslo,Skating,Speed skating,NOR,500m,M,Bronze\\n1952,Oslo,Skiing,Alpine Skiing,NOR,giant slalom,M,Gold\\n1952,Oslo,Skiing,Alpine Skiing,NOR,slalom,M,Bronze\\n1952,Oslo,Skiing,Alpine Skiing,NOR,slalom,M,Silver\\n1952,Oslo,Skiing,Cross Country S,NOR,18km,M,Gold\\n1952,Oslo,Skiing,Cross Country S,NOR,4x10km relay,M,Silver\\n1952,Oslo,Skiing,Cross Country S,NOR,50km,M,Bronze\\n1952,Oslo,Skiing,Nordic Combined,NOR,individual,M,Bronze\\n1952,Oslo,Skiing,Nordic Combined,NOR,individual,M,Gold\\n1952,Oslo,Skiing,Ski Jumping,NOR,K90 individual (70m),M,Gold\\n1952,Oslo,Skiing,Ski Jumping,NOR,K90 individual (70m),M,Silver\\n1952,Oslo,Bobsleigh,Bobsleigh,SUI,four-man,M,Bronze\\n1952,Oslo,Bobsleigh,Bobsleigh,SUI,two-man,M,Bronze\\n1952,Oslo,Ice Hockey,Ice Hockey,SWE,ice hockey,M,Bronze\\n1952,Oslo,Skating,Speed skating,SWE,10000m,M,Bronze\\n1952,Oslo,Skiing,Cross Country S,SWE,4x10km relay,M,Bronze\\n1952,Oslo,Skiing,Ski Jumping,SWE,K90 individual (70m),M,Bronze\\n1952,Oslo,Bobsleigh,Bobsleigh,USA,four-man,M,Silver\\n1952,Oslo,Bobsleigh,Bobsleigh,USA,two-man,M,Silver\\n1952,Oslo,Ice Hockey,Ice Hockey,USA,ice hockey,M,Silver\\n1952,Oslo,Skating,Figure skating,USA,individual,M,Bronze\\n1952,Oslo,Skating,Figure skating,USA,individual,M,Gold\\n1952,Oslo,Skating,Figure skating,USA,individual,W,Silver\\n1952,Oslo,Skating,Figure skating,USA,pairs,X,Silver\\n1952,Oslo,Skating,Speed skating,USA,500m,M,Gold\\n1952,Oslo,Skating,Speed skating,USA,500m,M,Silver\\n1952,Oslo,Skiing,Alpine Skiing,USA,giant slalom,W,Gold\\n1952,Oslo,Skiing,Alpine Skiing,USA,slalom,W,Gold\\n1956,Cortina d'Ampezzo,Skating,Figure skating,AUT,individual,W,Bronze\\n1956,Cortina d'Ampezzo,Skating,Figure skating,AUT,pairs,X,Gold\\n1956,Cortina d'Ampezzo,Skiing,Alpine Skiing,AUT,downhill,M,Bronze\\n1956,Cortina d'Ampezzo,Skiing,Alpine Skiing,AUT,downhill,M,Gold\\n1956,Cortina d'Ampezzo,Skiing,Alpine Skiing,AUT,giant slalom,M,Bronze\\n1956,Cortina d'Ampezzo,Skiing,Alpine Skiing,AUT,giant slalom,M,Gold\\n1956,Cortina d'Ampezzo,Skiing,Alpine Skiing,AUT,giant slalom,M,Silver\\n1956,Cortina d'Ampezzo,Skiing,Alpine Skiing,AUT,giant slalom,W,Bronze\\n1956,Cortina d'Ampezzo,Skiing,Alpine Skiing,AUT,giant slalom,W,Silver\\n1956,Cortina d'Ampezzo,Skiing,Alpine Skiing,AUT,slalom,M,Gold\\n1956,Cortina d'Ampezzo,Skiing,Alpine Skiing,AUT,slalom,W,Silver\\n1956,Cortina d'Ampezzo,Ice Hockey,Ice Hockey,CAN,ice hockey,M,Bronze\\n1956,Cortina d'Ampezzo,Skating,Figure skating,CAN,pairs,X,Silver\\n1956,Cortina d'Ampezzo,Skiing,Alpine Skiing,CAN,downhill,W,Bronze\\n1956,Cortina d'Ampezzo,Skiing,Alpine Skiing,EUA,giant slalom,W,Gold\\n1956,Cortina d'Ampezzo,Skiing,Ski Jumping,EUA,K90 individual (70m),M,Bronze\\n1956,Cortina d'Ampezzo,Skating,Speed skating,FIN,1500m,M,Bronze\\n1956,Cortina d'Ampezzo,Skiing,Cross Country S,FIN,30km mass start,M,Gold\\n1956,Cortina d'Ampezzo,Skiing,Cross Country S,FIN,3x5km relay,W,Gold\\n1956,Cortina d'Ampezzo,Skiing,Cross Country S,FIN,4x10km relay,M,Silver\\n1956,Cortina d'Ampezzo,Skiing,Cross Country S,FIN,50km,M,Silver\\n1956,Cortina d'Ampezzo,Skiing,Ski Jumping,FIN,K90 individual (70m),M,Gold\\n1956,Cortina d'Ampezzo,Skiing,Ski Jumping,FIN,K90 individual (70m),M,Silver\\n1956,Cortina d'Ampezzo,Skating,Figure skating,HUN,pairs,X,Bronze\\n1956,Cortina d'Ampezzo,Bobsleigh,Bobsleigh,ITA,four-man,M,Silver\\n1956,Cortina d'Ampezzo,Bobsleigh,Bobsleigh,ITA,two-man,M,Gold\\n1956,Cortina d'Ampezzo,Bobsleigh,Bobsleigh,ITA,two-man,M,Silver\\n1956,Cortina d'Ampezzo,Skiing,Alpine Skiing,JPN,slalom,M,Silver\\n1956,Cortina d'Ampezzo,Skating,Speed skating,NOR,10000m,M,Silver\\n1956,Cortina d'Ampezzo,Skating,Speed skating,NOR,500m,M,Bronze\\n1956,Cortina d'Ampezzo,Skiing,Cross Country S,NOR,15km,M,Gold\\n1956,Cortina d'Ampezzo,Skiing,Nordic Combined,NOR,individual,M,Gold\\n1956,Cortina d'Ampezzo,Skiing,Nordic Combined,POL,individual,M,Bronze\\n1956,Cortina d'Ampezzo,Bobsleigh,Bobsleigh,SUI,four-man,M,Gold\\n1956,Cortina d'Ampezzo,Bobsleigh,Bobsleigh,SUI,two-man,M,Bronze\\n1956,Cortina d'Ampezzo,Skiing,Alpine Skiing,SUI,downhill,M,Silver\\n1956,Cortina d'Ampezzo,Skiing,Alpine Skiing,SUI,downhill,W,Gold\\n1956,Cortina d'Ampezzo,Skiing,Alpine Skiing,SUI,downhill,W,Silver\\n1956,Cortina d'Ampezzo,Skiing,Alpine Skiing,SUI,slalom,W,Gold\\n1956,Cortina d'Ampezzo,Skating,Speed skating,SWE,10000m,M,Gold\\n1956,Cortina d'Ampezzo,Skating,Speed skating,SWE,5000m,M,Silver\\n1956,Cortina d'Ampezzo,Skiing,Alpine Skiing,SWE,slalom,M,Bronze\\n1956,Cortina d'Ampezzo,Skiing,Cross Country S,SWE,10km,W,Bronze\\n1956,Cortina d'Ampezzo,Skiing,Cross Country S,SWE,15km,M,Silver\\n1956,Cortina d'Ampezzo,Skiing,Cross Country S,SWE,30km mass start,M,Silver\\n1956,Cortina d'Ampezzo,Skiing,Cross Country S,SWE,3x5km relay,W,Bronze\\n1956,Cortina d'Ampezzo,Skiing,Cross Country S,SWE,4x10km relay,M,Bronze\\n1956,Cortina d'Ampezzo,Skiing,Cross Country S,SWE,50km,M,Gold\\n1956,Cortina d'Ampezzo,Skiing,Nordic Combined,SWE,individual,M,Silver\\n1956,Cortina d'Ampezzo,Ice Hockey,Ice Hockey,URS,ice hockey,M,Gold\\n1956,Cortina d'Ampezzo,Skating,Speed skating,URS,10000m,M,Bronze\\n1956,Cortina d'Ampezzo,Skating,Speed skating,URS,1500m,M,Gold\\n1956,Cortina d'Ampezzo,Skating,Speed skating,URS,1500m,M,Gold\\n1956,Cortina d'Ampezzo,Skating,Speed skating,URS,5000m,M,Bronze\\n1956,Cortina d'Ampezzo,Skating,Speed skating,URS,5000m,M,Gold\\n1956,Cortina d'Ampezzo,Skating,Speed skating,URS,500m,M,Gold\\n1956,Cortina d'Ampezzo,Skating,Speed skating,URS,500m,M,Silver\\n1956,Cortina d'Ampezzo,Skiing,Alpine Skiing,URS,slalom,W,Bronze\\n1956,Cortina d'Ampezzo,Skiing,Cross Country S,URS,10km,W,Gold\\n1956,Cortina d'Ampezzo,Skiing,Cross Country S,URS,10km,W,Silver\\n1956,Cortina d'Ampezzo,Skiing,Cross Country S,URS,15km,M,Bronze\\n1956,Cortina d'Ampezzo,Skiing,Cross Country S,URS,30km mass start,M,Bronze\\n1956,Cortina d'Ampezzo,Skiing,Cross Country S,URS,3x5km relay,W,Silver\\n1956,Cortina d'Ampezzo,Skiing,Cross Country S,URS,4x10km relay,M,Gold\\n1956,Cortina d'Ampezzo,Skiing,Cross Country S,URS,50km,M,Bronze\\n1956,Cortina d'Ampezzo,Bobsleigh,Bobsleigh,USA,four-man,M,Bronze\\n1956,Cortina d'Ampezzo,Ice Hockey,Ice Hockey,USA,ice hockey,M,Silver\\n1956,Cortina d'Ampezzo,Skating,Figure skating,USA,individual,M,Bronze\\n1956,Cortina d'Ampezzo,Skating,Figure skating,USA,individual,M,Gold\\n1956,Cortina d'Ampezzo,Skating,Figure skating,USA,individual,M,Silver\\n1956,Cortina d'Ampezzo,Skating,Figure skating,USA,individual,W,Gold\\n1956,Cortina d'Ampezzo,Skating,Figure skating,USA,individual,W,Silver\\n1960,Squaw Valley,Skiing,Alpine Skiing,AUT,downhill,W,Bronze\\n1960,Squaw Valley,Skiing,Alpine Skiing,AUT,giant slalom,M,Bronze\\n1960,Squaw Valley,Skiing,Alpine Skiing,AUT,giant slalom,M,Silver\\n1960,Squaw Valley,Skiing,Alpine Skiing,AUT,slalom,M,Gold\\n1960,Squaw Valley,Skiing,Alpine Skiing,AUT,slalom,M,Silver\\n1960,Squaw Valley,Skiing,Ski Jumping,AUT,K90 individual (70m),M,Bronze\\n1960,Squaw Valley,Ice Hockey,Ice Hockey,CAN,ice hockey,M,Silver\\n1960,Squaw Valley,Skating,Figure skating,CAN,individual,M,Bronze\\n1960,Squaw Valley,Skating,Figure skating,CAN,pairs,X,Gold\\n1960,Squaw Valley,Skiing,Alpine Skiing,CAN,slalom,W,Gold\\n1960,Squaw Valley,Skating,Figure skating,EUA,pairs,X,Silver\\n1960,Squaw Valley,Skating,Speed skating,EUA,1000m,W,Silver\\n1960,Squaw Valley,Skating,Speed skating,EUA,500m,W,Gold\\n1960,Squaw Valley,Skiing,Alpine Skiing,EUA,downhill,M,Silver\\n1960,Squaw Valley,Skiing,Alpine Skiing,EUA,downhill,W,Gold\\n1960,Squaw Valley,Skiing,Alpine Skiing,EUA,slalom,W,Bronze\\n1960,Squaw Valley,Skiing,Nordic Combined,EUA,individual,M,Gold\\n1960,Squaw Valley,Skiing,Ski Jumping,EUA,K90 individual (70m),M,Gold\\n1960,Squaw Valley,Biathlon,Biathlon,FIN,20km,M,Silver\\n1960,Squaw Valley,Skating,Speed skating,FIN,3000m,W,Bronze\\n1960,Squaw Valley,Skiing,Cross Country S,FIN,15km,M,Bronze\\n1960,Squaw Valley,Skiing,Cross Country S,FIN,3x5km relay,W,Bronze\\n1960,Squaw Valley,Skiing,Cross Country S,FIN,4x10km relay,M,Gold\\n1960,Squaw Valley,Skiing,Cross Country S,FIN,50km,M,Gold\\n1960,Squaw Valley,Skiing,Cross Country S,FIN,50km,M,Silver\\n1960,Squaw Valley,Skiing,Ski Jumping,FIN,K90 individual (70m),M,Silver\\n1960,Squaw Valley,Skiing,Alpine Skiing,FRA,downhill,M,Bronze\\n1960,Squaw Valley,Skiing,Alpine Skiing,FRA,downhill,M,Gold\\n1960,Squaw Valley,Skiing,Alpine Skiing,FRA,slalom,M,Bronze\\n1960,Squaw Valley,Skiing,Alpine Skiing,ITA,giant slalom,W,Bronze\\n1960,Squaw Valley,Skating,Figure skating,NED,individual,W,Silver\\n1960,Squaw Valley,Skating,Speed skating,NED,5000m,M,Bronze\\n1960,Squaw Valley,Skating,Speed skating,NOR,10000m,M,Gold\\n1960,Squaw Valley,Skating,Speed skating,NOR,1500m,M,Gold\\n1960,Squaw Valley,Skating,Speed skating,NOR,5000m,M,Silver\\n1960,Squaw Valley,Skiing,Cross Country S,NOR,15km,M,Gold\\n1960,Squaw Valley,Skiing,Cross Country S,NOR,4x10km relay,M,Silver\\n1960,Squaw Valley,Skiing,Nordic Combined,NOR,individual,M,Silver\\n1960,Squaw Valley,Skating,Speed skating,POL,1500m,W,Bronze\\n1960,Squaw Valley,Skating,Speed skating,POL,1500m,W,Silver\\n1960,Squaw Valley,Skiing,Alpine Skiing,SUI,giant slalom,M,Gold\\n1960,Squaw Valley,Skiing,Alpine Skiing,SUI,giant slalom,W,Gold\\n1960,Squaw Valley,Biathlon,Biathlon,SWE,20km,M,Gold\\n1960,Squaw Valley,Skating,Speed skating,SWE,10000m,M,Bronze\\n1960,Squaw Valley,Skiing,Cross Country S,SWE,15km,M,Silver\\n1960,Squaw Valley,Skiing,Cross Country S,SWE,30km mass start,M,Gold\\n1960,Squaw Valley,Skiing,Cross Country S,SWE,30km mass start,M,Silver\\n1960,Squaw Valley,Skiing,Cross Country S,SWE,3x5km relay,W,Gold\\n1960,Squaw Valley,Skiing,Cross Country S,SWE,50km,M,Bronze\\n1960,Squaw Valley,Skating,Figure skating,TCH,individual,M,Silver\\n1960,Squaw Valley,Biathlon,Biathlon,URS,20km,M,Bronze\\n1960,Squaw Valley,Ice Hockey,Ice Hockey,URS,ice hockey,M,Bronze\\n1960,Squaw Valley,Skating,Speed skating,URS,10000m,M,Silver\\n1960,Squaw Valley,Skating,Speed skating,URS,1000m,W,Bronze\\n1960,Squaw Valley,Skating,Speed skating,URS,1000m,W,Gold\\n1960,Squaw Valley,Skating,Speed skating,URS,1500m,M,Bronze\\n1960,Squaw Valley,Skating,Speed skating,URS,1500m,M,Gold\\n1960,Squaw Valley,Skating,Speed skating,URS,1500m,W,Gold\\n1960,Squaw Valley,Skating,Speed skating,URS,3000m,W,Gold\\n1960,Squaw Valley,Skating,Speed skating,URS,3000m,W,Silver\\n1960,Squaw Valley,Skating,Speed skating,URS,5000m,M,Gold\\n1960,Squaw Valley,Skating,Speed skating,URS,500m,M,Bronze\\n1960,Squaw Valley,Skating,Speed skating,URS,500m,M,Gold\\n1960,Squaw Valley,Skating,Speed skating,URS,500m,W,Silver\\n1960,Squaw Valley,Skiing,Cross Country S,URS,10km,W,Bronze\\n1960,Squaw Valley,Skiing,Cross Country S,URS,10km,W,Gold\\n1960,Squaw Valley,Skiing,Cross Country S,URS,10km,W,Silver\\n1960,Squaw Valley,Skiing,Cross Country S,URS,30km mass start,M,Bronze\\n1960,Squaw Valley,Skiing,Cross Country S,URS,3x5km relay,W,Silver\\n1960,Squaw Valley,Skiing,Cross Country S,URS,4x10km relay,M,Bronze\\n1960,Squaw Valley,Skiing,Nordic Combined,URS,individual,M,Bronze\\n1960,Squaw Valley,Ice Hockey,Ice Hockey,USA,ice hockey,M,Gold\\n1960,Squaw Valley,Skating,Figure skating,USA,individual,M,Gold\\n1960,Squaw Valley,Skating,Figure skating,USA,individual,W,Bronze\\n1960,Squaw Valley,Skating,Figure skating,USA,individual,W,Gold\\n1960,Squaw Valley,Skating,Figure skating,USA,pairs,X,Bronze\\n1960,Squaw Valley,Skating,Speed skating,USA,500m,M,Silver\\n1960,Squaw Valley,Skating,Speed skating,USA,500m,W,Bronze\\n1960,Squaw Valley,Skiing,Alpine Skiing,USA,downhill,W,Silver\\n1960,Squaw Valley,Skiing,Alpine Skiing,USA,giant slalom,W,Silver\\n1960,Squaw Valley,Skiing,Alpine Skiing,USA,slalom,W,Silver\\n1964,Innsbruck,Bobsleigh,Bobsleigh,AUT,four-man,M,Silver\\n1964,Innsbruck,Luge,Luge,AUT,doubles,X,Gold\\n1964,Innsbruck,Luge,Luge,AUT,doubles,X,Silver\\n1964,Innsbruck,Luge,Luge,AUT,singles,W,Bronze\\n1964,Innsbruck,Skating,Figure skating,AUT,individual,W,Silver\\n1964,Innsbruck,Skiing,Alpine Skiing,AUT,downhill,M,Gold\\n1964,Innsbruck,Skiing,Alpine Skiing,AUT,downhill,W,Bronze\\n1964,Innsbruck,Skiing,Alpine Skiing,AUT,downhill,W,Gold\\n1964,Innsbruck,Skiing,Alpine Skiing,AUT,downhill,W,Silver\\n1964,Innsbruck,Skiing,Alpine Skiing,AUT,giant slalom,M,Bronze\\n1964,Innsbruck,Skiing,Alpine Skiing,AUT,giant slalom,M,Silver\\n1964,Innsbruck,Skiing,Alpine Skiing,AUT,slalom,M,Gold\\n1964,Innsbruck,Bobsleigh,Bobsleigh,CAN,four-man,M,Gold\\n1964,Innsbruck,Skating,Figure skating,CAN,individual,W,Bronze\\n1964,Innsbruck,Skating,Figure skating,CAN,pairs,X,Bronze\\n1964,Innsbruck,Luge,Luge,EUA,singles,M,Bronze\\n1964,Innsbruck,Luge,Luge,EUA,singles,M,Gold\\n1964,Innsbruck,Luge,Luge,EUA,singles,M,Silver\\n1964,Innsbruck,Luge,Luge,EUA,singles,W,Gold\\n1964,Innsbruck,Luge,Luge,EUA,singles,W,Silver\\n1964,Innsbruck,Skating,Figure skating,EUA,individual,M,Gold\\n1964,Innsbruck,Skating,Figure skating,EUA,pairs,X,Silver\\n1964,Innsbruck,Skiing,Alpine Skiing,EUA,downhill,M,Bronze\\n1964,Innsbruck,Skiing,Nordic Combined,EUA,individual,M,Bronze\\n1964,Innsbruck,Skating,Speed skating,FIN,1000m,W,Bronze\\n1964,Innsbruck,Skating,Speed skating,FIN,1500m,W,Silver\\n1964,Innsbruck,Skiing,Cross Country S,FIN,15km,M,Gold\\n1964,Innsbruck,Skiing,Cross Country S,FIN,30km mass start,M,Gold\\n1964,Innsbruck,Skiing,Cross Country S,FIN,3x5km relay,W,Bronze\\n1964,Innsbruck,Skiing,Cross Country S,FIN,4x10km relay,M,Silver\\n1964,Innsbruck,Skiing,Cross Country S,FIN,50km,M,Bronze\\n1964,Innsbruck,Skiing,Cross Country S,FIN,5km,W,Silver\\n1964,Innsbruck,Skiing,Ski Jumping,FIN,K120 individual (90m),M,Silver\\n1964,Innsbruck,Skiing,Ski Jumping,FIN,K90 individual (70m),M,Gold\\n1964,Innsbruck,Skating,Figure skating,FRA,individual,M,Silver\\n1964,Innsbruck,Skiing,Alpine Skiing,FRA,downhill,M,Silver\\n1964,Innsbruck,Skiing,Alpine Skiing,FRA,giant slalom,M,Gold\\n1964,Innsbruck,Skiing,Alpine Skiing,FRA,giant slalom,W,Gold\\n1964,Innsbruck,Skiing,Alpine Skiing,FRA,giant slalom,W,Silver\\n1964,Innsbruck,Skiing,Alpine Skiing,FRA,slalom,W,Gold\\n1964,Innsbruck,Skiing,Alpine Skiing,FRA,slalom,W,Silver\\n1964,Innsbruck,Bobsleigh,Bobsleigh,GBR,two-man,M,Gold\\n1964,Innsbruck,Bobsleigh,Bobsleigh,ITA,four-man,M,Bronze\\n1964,Innsbruck,Bobsleigh,Bobsleigh,ITA,two-man,M,Bronze\\n1964,Innsbruck,Bobsleigh,Bobsleigh,ITA,two-man,M,Silver\\n1964,Innsbruck,Luge,Luge,ITA,doubles,X,Bronze\\n1964,Innsbruck,Skating,Figure skating,NED,individual,W,Gold\\n1964,Innsbruck,Skating,Speed skating,NED,1500m,M,Silver\\n1964,Innsbruck,Biathlon,Biathlon,NOR,20km,M,Bronze\\n1964,Innsbruck,Skating,Speed skating,NOR,10000m,M,Bronze\\n1964,Innsbruck,Skating,Speed skating,NOR,10000m,M,Silver\\n1964,Innsbruck,Skating,Speed skating,NOR,1500m,M,Bronze\\n1964,Innsbruck,Skating,Speed skating,NOR,5000m,M,Bronze\\n1964,Innsbruck,Skating,Speed skating,NOR,5000m,M,Gold\\n1964,Innsbruck,Skating,Speed skating,NOR,5000m,M,Silver\\n1964,Innsbruck,Skating,Speed skating,NOR,500m,M,Silver\\n1964,Innsbruck,Skiing,Cross Country S,NOR,15km,M,Silver\\n1964,Innsbruck,Skiing,Cross Country S,NOR,30km mass start,M,Silver\\n1964,Innsbruck,Skiing,Nordic Combined,NOR,individual,M,Gold\\n1964,Innsbruck,Skiing,Ski Jumping,NOR,K120 individual (90m),M,Bronze\\n1964,Innsbruck,Skiing,Ski Jumping,NOR,K120 individual (90m),M,Gold\\n1964,Innsbruck,Skiing,Ski Jumping,NOR,K90 individual (70m),M,Bronze\\n1964,Innsbruck,Skiing,Ski Jumping,NOR,K90 individual (70m),M,Silver\\n1964,Innsbruck,Skating,Speed skating,PRK,3000m,W,Silver\\n1964,Innsbruck,Ice Hockey,Ice Hockey,SWE,ice hockey,M,Silver\\n1964,Innsbruck,Skating,Speed skating,SWE,10000m,M,Gold\\n1964,Innsbruck,Skiing,Cross Country S,SWE,15km,M,Bronze\\n1964,Innsbruck,Skiing,Cross Country S,SWE,3x5km relay,W,Silver\\n1964,Innsbruck,Skiing,Cross Country S,SWE,4x10km relay,M,Gold\\n1964,Innsbruck,Skiing,Cross Country S,SWE,50km,M,Gold\\n1964,Innsbruck,Skiing,Cross Country S,SWE,50km,M,Silver\\n1964,Innsbruck,Ice Hockey,Ice Hockey,TCH,ice hockey,M,Bronze\\n1964,Innsbruck,Biathlon,Biathlon,URS,20km,M,Gold\\n1964,Innsbruck,Biathlon,Biathlon,URS,20km,M,Silver\\n1964,Innsbruck,Ice Hockey,Ice Hockey,URS,ice hockey,M,Gold\\n1964,Innsbruck,Skating,Figure skating,URS,pairs,X,Gold\\n1964,Innsbruck,Skating,Speed skating,URS,1000m,W,Gold\\n1964,Innsbruck,Skating,Speed skating,URS,1000m,W,Silver\\n1964,Innsbruck,Skating,Speed skating,URS,1500m,M,Gold\\n1964,Innsbruck,Skating,Speed skating,URS,1500m,W,Bronze\\n1964,Innsbruck,Skating,Speed skating,URS,1500m,W,Gold\\n1964,Innsbruck,Skating,Speed skating,URS,3000m,W,Gold\\n1964,Innsbruck,Skating,Speed skating,URS,3000m,W,Silver\\n1964,Innsbruck,Skating,Speed skating,URS,500m,M,Silver\\n1964,Innsbruck,Skating,Speed skating,URS,500m,M,Silver\\n1964,Innsbruck,Skating,Speed skating,URS,500m,W,Bronze\\n1964,Innsbruck,Skating,Speed skating,URS,500m,W,Gold\\n1964,Innsbruck,Skating,Speed skating,URS,500m,W,Silver\\n1964,Innsbruck,Skiing,Cross Country S,URS,10km,W,Bronze\\n1964,Innsbruck,Skiing,Cross Country S,URS,10km,W,Gold\\n1964,Innsbruck,Skiing,Cross Country S,URS,10km,W,Silver\\n1964,Innsbruck,Skiing,Cross Country S,URS,30km mass start,M,Bronze\\n1964,Innsbruck,Skiing,Cross Country S,URS,3x5km relay,W,Gold\\n1964,Innsbruck,Skiing,Cross Country S,URS,4x10km relay,M,Bronze\\n1964,Innsbruck,Skiing,Cross Country S,URS,5km,W,Bronze\\n1964,Innsbruck,Skiing,Cross Country S,URS,5km,W,Gold\\n1964,Innsbruck,Skiing,Nordic Combined,URS,individual,M,Silver\\n1964,Innsbruck,Skating,Figure skating,USA,individual,M,Bronze\\n1964,Innsbruck,Skating,Speed skating,USA,500m,M,Gold\\n1964,Innsbruck,Skiing,Alpine Skiing,USA,giant slalom,W,Silver\\n1964,Innsbruck,Skiing,Alpine Skiing,USA,slalom,M,Bronze\\n1964,Innsbruck,Skiing,Alpine Skiing,USA,slalom,M,Silver\\n1964,Innsbruck,Skiing,Alpine Skiing,USA,slalom,W,Bronze\\n1968,Grenoble,Bobsleigh,Bobsleigh,AUT,four-man,M,Silver\\n1968,Grenoble,Luge,Luge,AUT,doubles,X,Silver\\n1968,Grenoble,Luge,Luge,AUT,singles,M,Gold\\n1968,Grenoble,Skating,Figure skating,AUT,individual,M,Gold\\n1968,Grenoble,Skiing,Alpine Skiing,AUT,downhill,W,Bronze\\n1968,Grenoble,Skiing,Alpine Skiing,AUT,downhill,W,Gold\\n1968,Grenoble,Skiing,Alpine Skiing,AUT,giant slalom,M,Bronze\\n1968,Grenoble,Skiing,Alpine Skiing,AUT,slalom,M,Bronze\\n1968,Grenoble,Skiing,Alpine Skiing,AUT,slalom,M,Silver\\n1968,Grenoble,Skiing,Ski Jumping,AUT,K90 individual (70m),M,Bronze\\n1968,Grenoble,Skiing,Ski Jumping,AUT,K90 individual (70m),M,Silver\\n1968,Grenoble,Ice Hockey,Ice Hockey,CAN,ice hockey,M,Bronze\\n1968,Grenoble,Skiing,Alpine Skiing,CAN,giant slalom,W,Gold\\n1968,Grenoble,Skiing,Alpine Skiing,CAN,slalom,W,Silver\\n1968,Grenoble,Skating,Speed skating,FIN,1500m,W,Gold\\n1968,Grenoble,Skating,Speed skating,FIN,3000m,W,Silver\\n1968,Grenoble,Skiing,Cross Country S,FIN,15km,M,Silver\\n1968,Grenoble,Skiing,Cross Country S,FIN,30km mass start,M,Bronze\\n1968,Grenoble,Skiing,Cross Country S,FIN,4x10km relay,M,Bronze\\n1968,Grenoble,Skating,Figure skating,FRA,individual,M,Bronze\\n1968,Grenoble,Skiing,Alpine Skiing,FRA,downhill,M,Gold\\n1968,Grenoble,Skiing,Alpine Skiing,FRA,downhill,M,Silver\\n1968,Grenoble,Skiing,Alpine Skiing,FRA,downhill,W,Silver\\n1968,Grenoble,Skiing,Alpine Skiing,FRA,giant slalom,M,Gold\\n1968,Grenoble,Skiing,Alpine Skiing,FRA,giant slalom,W,Silver\\n1968,Grenoble,Skiing,Alpine Skiing,FRA,slalom,M,Gold\\n1968,Grenoble,Skiing,Alpine Skiing,FRA,slalom,W,Bronze\\n1968,Grenoble,Skiing,Alpine Skiing,FRA,slalom,W,Gold\\n1968,Grenoble,Bobsleigh,Bobsleigh,FRG,two-man,M,Silver\\n1968,Grenoble,Luge,Luge,FRG,doubles,X,Bronze\\n1968,Grenoble,Luge,Luge,FRG,singles,W,Bronze\\n1968,Grenoble,Luge,Luge,FRG,singles,W,Silver\\n1968,Grenoble,Skating,Figure skating,FRG,pairs,X,Bronze\\n1968,Grenoble,Skating,Speed skating,FRG,500m,M,Gold\\n1968,Grenoble,Skiing,Nordic Combined,FRG,individual,M,Gold\\n1968,Grenoble,Luge,Luge,GDR,doubles,X,Gold\\n1968,Grenoble,Luge,Luge,GDR,singles,M,Bronze\\n1968,Grenoble,Luge,Luge,GDR,singles,M,Silver\\n1968,Grenoble,Skating,Figure skating,GDR,individual,W,Silver\\n1968,Grenoble,Skiing,Nordic Combined,GDR,individual,M,Bronze\\n1968,Grenoble,Bobsleigh,Bobsleigh,ITA,four-man,M,Gold\\n1968,Grenoble,Bobsleigh,Bobsleigh,ITA,two-man,M,Gold\\n1968,Grenoble,Luge,Luge,ITA,singles,W,Gold\\n1968,Grenoble,Skiing,Cross Country S,ITA,30km mass start,M,Gold\\n1968,Grenoble,Skating,Speed skating,NED,1000m,W,Gold\\n1968,Grenoble,Skating,Speed skating,NED,1500m,M,Gold\\n1968,Grenoble,Skating,Speed skating,NED,1500m,M,Silver\\n1968,Grenoble,Skating,Speed skating,NED,1500m,W,Bronze\\n1968,Grenoble,Skating,Speed skating,NED,1500m,W,Silver\\n1968,Grenoble,Skating,Speed skating,NED,3000m,W,Bronze\\n1968,Grenoble,Skating,Speed skating,NED,3000m,W,Gold\\n1968,Grenoble,Skating,Speed skating,NED,5000m,M,Bronze\\n1968,Grenoble,Skating,Speed skating,NED,5000m,M,Silver\\n1968,Grenoble,Biathlon,Biathlon,NOR,20km,M,Gold\\n1968,Grenoble,Biathlon,Biathlon,NOR,4x7.5km relay,M,Silver\\n1968,Grenoble,Skating,Speed skating,NOR,10000m,M,Silver\\n1968,Grenoble,Skating,Speed skating,NOR,1500m,M,Silver\\n1968,Grenoble,Skating,Speed skating,NOR,5000m,M,Gold\\n1968,Grenoble,Skating,Speed skating,NOR,500m,M,Silver\\n1968,Grenoble,Skiing,Cross Country S,NOR,10km,W,Bronze\\n1968,Grenoble,Skiing,Cross Country S,NOR,10km,W,Silver\\n1968,Grenoble,Skiing,Cross Country S,NOR,15km,M,Gold\\n1968,Grenoble,Skiing,Cross Country S,NOR,30km mass start,M,Silver\\n1968,Grenoble,Skiing,Cross Country S,NOR,3x5km relay,W,Gold\\n1968,Grenoble,Skiing,Cross Country S,NOR,4x10km relay,M,Gold\\n1968,Grenoble,Skiing,Cross Country S,NOR,50km,M,Gold\\n1968,Grenoble,Skiing,Ski Jumping,NOR,K120 individual (90m),M,Bronze\\n1968,Grenoble,Bobsleigh,Bobsleigh,ROU,two-man,M,Bronze\\n1968,Grenoble,Bobsleigh,Bobsleigh,SUI,four-man,M,Bronze\\n1968,Grenoble,Skiing,Alpine Skiing,SUI,downhill,M,Bronze\\n1968,Grenoble,Skiing,Alpine Skiing,SUI,giant slalom,M,Silver\\n1968,Grenoble,Skiing,Alpine Skiing,SUI,giant slalom,W,Bronze\\n1968,Grenoble,Skiing,Cross Country S,SUI,50km,M,Bronze\\n1968,Grenoble,Skiing,Nordic Combined,SUI,individual,M,Silver\\n1968,Grenoble,Biathlon,Biathlon,SWE,4x7.5km relay,M,Bronze\\n1968,Grenoble,Skating,Speed skating,SWE,10000m,M,Bronze\\n1968,Grenoble,Skating,Speed skating,SWE,10000m,M,Gold\\n1968,Grenoble,Skiing,Cross Country S,SWE,10km,W,Gold\\n1968,Grenoble,Skiing,Cross Country S,SWE,15km,M,Bronze\\n1968,Grenoble,Skiing,Cross Country S,SWE,3x5km relay,W,Silver\\n1968,Grenoble,Skiing,Cross Country S,SWE,4x10km relay,M,Silver\\n1968,Grenoble,Skiing,Cross Country S,SWE,5km,W,Gold\\n1968,Grenoble,Ice Hockey,Ice Hockey,TCH,ice hockey,M,Silver\\n1968,Grenoble,Skating,Figure skating,TCH,individual,W,Bronze\\n1968,Grenoble,Skiing,Ski Jumping,TCH,K120 individual (90m),M,Silver\\n1968,Grenoble,Skiing,Ski Jumping,TCH,K90 individual (70m),M,Gold\\n1968,Grenoble,Biathlon,Biathlon,URS,20km,M,Bronze\\n1968,Grenoble,Biathlon,Biathlon,URS,20km,M,Silver\\n1968,Grenoble,Biathlon,Biathlon,URS,4x7.5km relay,M,Gold\\n1968,Grenoble,Ice Hockey,Ice Hockey,URS,ice hockey,M,Gold\\n1968,Grenoble,Skating,Figure skating,URS,pairs,X,Gold\\n1968,Grenoble,Skating,Figure skating,URS,pairs,X,Silver\\n1968,Grenoble,Skating,Speed skating,URS,1000m,W,Silver\\n1968,Grenoble,Skating,Speed skating,URS,500m,W,Gold\\n1968,Grenoble,Skiing,Cross Country S,URS,3x5km relay,W,Bronze\\n1968,Grenoble,Skiing,Cross Country S,URS,50km,M,Silver\\n1968,Grenoble,Skiing,Cross Country S,URS,5km,W,Bronze\\n1968,Grenoble,Skiing,Cross Country S,URS,5km,W,Silver\\n1968,Grenoble,Skiing,Ski Jumping,URS,K120 individual (90m),M,Gold\\n1968,Grenoble,Skating,Figure skating,USA,individual,M,Silver\\n1968,Grenoble,Skating,Figure skating,USA,individual,W,Gold\\n1968,Grenoble,Skating,Speed skating,USA,1000m,W,Bronze\\n1968,Grenoble,Skating,Speed skating,USA,500m,M,Silver\\n1968,Grenoble,Skating,Speed skating,USA,500m,W,Silver\\n1968,Grenoble,Skating,Speed skating,USA,500m,W,Silver\\n1968,Grenoble,Skating,Speed skating,USA,500m,W,Silver\\n1972,Sapporo,Skating,Figure skating,AUT,individual,W,Gold\\n1972,Sapporo,Skiing,Alpine Skiing,AUT,downhill,M,Bronze\\n1972,Sapporo,Skiing,Alpine Skiing,AUT,downhill,W,Silver\\n1972,Sapporo,Skiing,Alpine Skiing,AUT,giant slalom,W,Bronze\\n1972,Sapporo,Skiing,Alpine Skiing,AUT,giant slalom,W,Silver\\n1972,Sapporo,Skating,Figure skating,CAN,individual,W,Silver\\n1972,Sapporo,Skiing,Alpine Skiing,ESP,slalom,M,Gold\\n1972,Sapporo,Biathlon,Biathlon,FIN,4x7.5km relay,M,Silver\\n1972,Sapporo,Skiing,Cross Country S,FIN,10km,W,Bronze\\n1972,Sapporo,Skiing,Cross Country S,FIN,3x5km relay,W,Silver\\n1972,Sapporo,Skiing,Cross Country S,FIN,5km,W,Silver\\n1972,Sapporo,Skiing,Nordic Combined,FIN,individual,M,Silver\\n1972,Sapporo,Skating,Figure skating,FRA,individual,M,Bronze\\n1972,Sapporo,Skiing,Alpine Skiing,FRA,slalom,W,Bronze\\n1972,Sapporo,Skiing,Alpine Skiing,FRA,slalom,W,Silver\\n1972,Sapporo,Bobsleigh,Bobsleigh,FRG,four-man,M,Bronze\\n1972,Sapporo,Bobsleigh,Bobsleigh,FRG,two-man,M,Gold\\n1972,Sapporo,Bobsleigh,Bobsleigh,FRG,two-man,M,Silver\\n1972,Sapporo,Skating,Speed skating,FRG,1000m,W,Gold\\n1972,Sapporo,Skating,Speed skating,FRG,500m,M,Gold\\n1972,Sapporo,Biathlon,Biathlon,GDR,20km,M,Silver\\n1972,Sapporo,Biathlon,Biathlon,GDR,4x7.5km relay,M,Bronze\\n1972,Sapporo,Luge,Luge,GDR,doubles,X,Bronze\\n1972,Sapporo,Luge,Luge,GDR,doubles,X,Gold\\n1972,Sapporo,Luge,Luge,GDR,singles,M,Bronze\\n1972,Sapporo,Luge,Luge,GDR,singles,M,Gold\\n1972,Sapporo,Luge,Luge,GDR,singles,M,Silver\\n1972,Sapporo,Luge,Luge,GDR,singles,W,Bronze\\n1972,Sapporo,Luge,Luge,GDR,singles,W,Gold\\n1972,Sapporo,Luge,Luge,GDR,singles,W,Silver\\n1972,Sapporo,Skating,Figure skating,GDR,pairs,X,Bronze\\n1972,Sapporo,Skiing,Nordic Combined,GDR,individual,M,Bronze\\n1972,Sapporo,Skiing,Nordic Combined,GDR,individual,M,Gold\\n1972,Sapporo,Skiing,Ski Jumping,GDR,K120 individual (90m),M,Bronze\\n1972,Sapporo,Bobsleigh,Bobsleigh,ITA,four-man,M,Silver\\n1972,Sapporo,Luge,Luge,ITA,doubles,X,Gold\\n1972,Sapporo,Skiing,Alpine Skiing,ITA,giant slalom,M,Gold\\n1972,Sapporo,Skiing,Alpine Skiing,ITA,slalom,M,Bronze\\n1972,Sapporo,Skiing,Alpine Skiing,ITA,slalom,M,Silver\\n1972,Sapporo,Skiing,Ski Jumping,JPN,K90 individual (70m),M,Bronze\\n1972,Sapporo,Skiing,Ski Jumping,JPN,K90 individual (70m),M,Gold\\n1972,Sapporo,Skiing,Ski Jumping,JPN,K90 individual (70m),M,Silver\\n1972,Sapporo,Skating,Speed skating,NED,10000m,M,Gold\\n1972,Sapporo,Skating,Speed skating,NED,10000m,M,Silver\\n1972,Sapporo,Skating,Speed skating,NED,1000m,W,Silver\\n1972,Sapporo,Skating,Speed skating,NED,1500m,M,Gold\\n1972,Sapporo,Skating,Speed skating,NED,1500m,W,Bronze\\n1972,Sapporo,Skating,Speed skating,NED,1500m,W,Silver\\n1972,Sapporo,Skating,Speed skating,NED,3000m,W,Bronze\\n1972,Sapporo,Skating,Speed skating,NED,3000m,W,Gold\\n1972,Sapporo,Skating,Speed skating,NED,5000m,M,Gold\\n1972,Sapporo,Biathlon,Biathlon,NOR,20km,M,Gold\\n1972,Sapporo,Skating,Speed skating,NOR,10000m,M,Bronze\\n1972,Sapporo,Skating,Speed skating,NOR,1500m,M,Silver\\n1972,Sapporo,Skating,Speed skating,NOR,5000m,M,Bronze\\n1972,Sapporo,Skating,Speed skating,NOR,5000m,M,Silver\\n1972,Sapporo,Skiing,Cross Country S,NOR,15km,M,Bronze\\n1972,Sapporo,Skiing,Cross Country S,NOR,30km mass start,M,Bronze\\n1972,Sapporo,Skiing,Cross Country S,NOR,30km mass start,M,Silver\\n1972,Sapporo,Skiing,Cross Country S,NOR,3x5km relay,W,Bronze\\n1972,Sapporo,Skiing,Cross Country S,NOR,4x10km relay,M,Silver\\n1972,Sapporo,Skiing,Cross Country S,NOR,50km,M,Gold\\n1972,Sapporo,Skiing,Cross Country S,NOR,50km,M,Silver\\n1972,Sapporo,Skiing,Ski Jumping,POL,K120 individual (90m),M,Gold\\n1972,Sapporo,Bobsleigh,Bobsleigh,SUI,four-man,M,Gold\\n1972,Sapporo,Bobsleigh,Bobsleigh,SUI,two-man,M,Bronze\\n1972,Sapporo,Skiing,Alpine Skiing,SUI,downhill,M,Gold\\n1972,Sapporo,Skiing,Alpine Skiing,SUI,downhill,M,Silver\\n1972,Sapporo,Skiing,Alpine Skiing,SUI,downhill,W,Gold\\n1972,Sapporo,Skiing,Alpine Skiing,SUI,giant slalom,M,Bronze\\n1972,Sapporo,Skiing,Alpine Skiing,SUI,giant slalom,M,Silver\\n1972,Sapporo,Skiing,Alpine Skiing,SUI,giant slalom,W,Gold\\n1972,Sapporo,Skiing,Cross Country S,SUI,4x10km relay,M,Bronze\\n1972,Sapporo,Skiing,Ski Jumping,SUI,K120 individual (90m),M,Silver\\n1972,Sapporo,Biathlon,Biathlon,SWE,20km,M,Bronze\\n1972,Sapporo,Skating,Speed skating,SWE,1500m,M,Bronze\\n1972,Sapporo,Skating,Speed skating,SWE,500m,M,Silver\\n1972,Sapporo,Skiing,Cross Country S,SWE,15km,M,Gold\\n1972,Sapporo,Ice Hockey,Ice Hockey,TCH,ice hockey,M,Bronze\\n1972,Sapporo,Skating,Figure skating,TCH,individual,M,Gold\\n1972,Sapporo,Skiing,Cross Country S,TCH,5km,W,Bronze\\n1972,Sapporo,Biathlon,Biathlon,URS,4x7.5km relay,M,Gold\\n1972,Sapporo,Ice Hockey,Ice Hockey,URS,ice hockey,M,Gold\\n1972,Sapporo,Skating,Figure skating,URS,individual,M,Silver\\n1972,Sapporo,Skating,Figure skating,URS,pairs,X,Gold\\n1972,Sapporo,Skating,Figure skating,URS,pairs,X,Silver\\n1972,Sapporo,Skating,Speed skating,URS,500m,M,Bronze\\n1972,Sapporo,Skating,Speed skating,URS,500m,W,Bronze\\n1972,Sapporo,Skating,Speed skating,URS,500m,W,Silver\\n1972,Sapporo,Skiing,Cross Country S,URS,10km,W,Gold\\n1972,Sapporo,Skiing,Cross Country S,URS,10km,W,Silver\\n1972,Sapporo,Skiing,Cross Country S,URS,15km,M,Silver\\n1972,Sapporo,Skiing,Cross Country S,URS,30km mass start,M,Gold\\n1972,Sapporo,Skiing,Cross Country S,URS,3x5km relay,W,Gold\\n1972,Sapporo,Skiing,Cross Country S,URS,4x10km relay,M,Gold\\n1972,Sapporo,Skiing,Cross Country S,URS,50km,M,Bronze\\n1972,Sapporo,Skiing,Cross Country S,URS,5km,W,Gold\\n1972,Sapporo,Ice Hockey,Ice Hockey,USA,ice hockey,M,Silver\\n1972,Sapporo,Skating,Figure skating,USA,individual,W,Bronze\\n1972,Sapporo,Skating,Speed skating,USA,1000m,W,Bronze\\n1972,Sapporo,Skating,Speed skating,USA,1500m,W,Gold\\n1972,Sapporo,Skating,Speed skating,USA,3000m,W,Silver\\n1972,Sapporo,Skating,Speed skating,USA,500m,W,Gold\\n1972,Sapporo,Skiing,Alpine Skiing,USA,downhill,W,Bronze\\n1972,Sapporo,Skiing,Alpine Skiing,USA,slalom,W,Gold\\n1976,Innsbruck,Luge,Luge,AUT,doubles,X,Bronze\\n1976,Innsbruck,Skiing,Alpine Skiing,AUT,downhill,M,Gold\\n1976,Innsbruck,Skiing,Alpine Skiing,AUT,downhill,W,Silver\\n1976,Innsbruck,Skiing,Ski Jumping,AUT,K120 individual (90m),M,Gold\\n1976,Innsbruck,Skiing,Ski Jumping,AUT,K120 individual (90m),M,Silver\\n1976,Innsbruck,Skiing,Ski Jumping,AUT,K90 individual (70m),M,Bronze\\n1976,Innsbruck,Skating,Figure skating,CAN,individual,M,Bronze\\n1976,Innsbruck,Skating,Speed skating,CAN,500m,W,Silver\\n1976,Innsbruck,Skiing,Alpine Skiing,CAN,giant slalom,W,Gold\\n1976,Innsbruck,Biathlon,Biathlon,FIN,20km,M,Silver\\n1976,Innsbruck,Biathlon,Biathlon,FIN,4x7.5km relay,M,Silver\\n1976,Innsbruck,Skiing,Cross Country S,FIN,10km,W,Silver\\n1976,Innsbruck,Skiing,Cross Country S,FIN,15km,M,Bronze\\n1976,Innsbruck,Skiing,Cross Country S,FIN,4x10km relay,M,Gold\\n1976,Innsbruck,Skiing,Cross Country S,FIN,4x5km relay,W,Silver\\n1976,Innsbruck,Skiing,Cross Country S,FIN,5km,W,Gold\\n1976,Innsbruck,Skiing,Alpine Skiing,FRA,giant slalom,W,Bronze\\n1976,Innsbruck,Bobsleigh,Bobsleigh,FRG,four-man,M,Bronze\\n1976,Innsbruck,Bobsleigh,Bobsleigh,FRG,two-man,M,Silver\\n1976,Innsbruck,Ice Hockey,Ice Hockey,FRG,ice hockey,M,Bronze\\n1976,Innsbruck,Luge,Luge,FRG,doubles,X,Silver\\n1976,Innsbruck,Luge,Luge,FRG,singles,M,Silver\\n1976,Innsbruck,Luge,Luge,FRG,singles,W,Bronze\\n1976,Innsbruck,Skiing,Alpine Skiing,FRG,downhill,W,Gold\\n1976,Innsbruck,Skiing,Alpine Skiing,FRG,giant slalom,W,Silver\\n1976,Innsbruck,Skiing,Alpine Skiing,FRG,slalom,W,Gold\\n1976,Innsbruck,Skiing,Nordic Combined,FRG,individual,M,Silver\\n1976,Innsbruck,Skating,Figure skating,GBR,individual,M,Gold\\n1976,Innsbruck,Biathlon,Biathlon,GDR,4x7.5km relay,M,Bronze\\n1976,Innsbruck,Bobsleigh,Bobsleigh,GDR,four-man,M,Gold\\n1976,Innsbruck,Bobsleigh,Bobsleigh,GDR,two-man,M,Gold\\n1976,Innsbruck,Luge,Luge,GDR,doubles,X,Gold\\n1976,Innsbruck,Luge,Luge,GDR,singles,M,Bronze\\n1976,Innsbruck,Luge,Luge,GDR,singles,M,Gold\\n1976,Innsbruck,Luge,Luge,GDR,singles,W,Gold\\n1976,Innsbruck,Luge,Luge,GDR,singles,W,Silver\\n1976,Innsbruck,Skating,Figure skating,GDR,individual,W,Bronze\\n1976,Innsbruck,Skating,Figure skating,GDR,pairs,X,Bronze\\n1976,Innsbruck,Skating,Figure skating,GDR,pairs,X,Silver\\n1976,Innsbruck,Skating,Speed skating,GDR,3000m,W,Silver\\n1976,Innsbruck,Skiing,Cross Country S,GDR,4x5km relay,W,Bronze\\n1976,Innsbruck,Skiing,Cross Country S,GDR,50km,M,Silver\\n1976,Innsbruck,Skiing,Nordic Combined,GDR,individual,M,Bronze\\n1976,Innsbruck,Skiing,Nordic Combined,GDR,individual,M,Gold\\n1976,Innsbruck,Skiing,Ski Jumping,GDR,K120 individual (90m),M,Bronze\\n1976,Innsbruck,Skiing,Ski Jumping,GDR,K90 individual (70m),M,Gold\\n1976,Innsbruck,Skiing,Ski Jumping,GDR,K90 individual (70m),M,Silver\\n1976,Innsbruck,Skiing,Alpine Skiing,ITA,downhill,M,Bronze\\n1976,Innsbruck,Skiing,Alpine Skiing,ITA,slalom,M,Gold\\n1976,Innsbruck,Skiing,Alpine Skiing,ITA,slalom,M,Silver\\n1976,Innsbruck,Skiing,Alpine Skiing,ITA,slalom,W,Silver\\n1976,Innsbruck,Skiing,Alpine Skiing,LIE,slalom,M,Bronze\\n1976,Innsbruck,Skiing,Alpine Skiing,LIE,slalom,W,Bronze\\n1976,Innsbruck,Skating,Figure skating,NED,individual,W,Silver\\n1976,Innsbruck,Skating,Speed skating,NED,10000m,M,Bronze\\n1976,Innsbruck,Skating,Speed skating,NED,10000m,M,Gold\\n1976,Innsbruck,Skating,Speed skating,NED,1500m,M,Bronze\\n1976,Innsbruck,Skating,Speed skating,NED,5000m,M,Bronze\\n1976,Innsbruck,Skating,Speed skating,NED,5000m,M,Silver\\n1976,Innsbruck,Skating,Speed skating,NOR,10000m,M,Silver\\n1976,Innsbruck,Skating,Speed skating,NOR,1000m,M,Silver\\n1976,Innsbruck,Skating,Speed skating,NOR,1500m,M,Gold\\n1976,Innsbruck,Skating,Speed skating,NOR,3000m,W,Bronze\\n1976,Innsbruck,Skating,Speed skating,NOR,5000m,M,Gold\\n1976,Innsbruck,Skiing,Cross Country S,NOR,4x10km relay,M,Silver\\n1976,Innsbruck,Skiing,Cross Country S,NOR,50km,M,Gold\\n1976,Innsbruck,Bobsleigh,Bobsleigh,SUI,four-man,M,Silver\\n1976,Innsbruck,Bobsleigh,Bobsleigh,SUI,two-man,M,Bronze\\n1976,Innsbruck,Skiing,Alpine Skiing,SUI,downhill,M,Silver\\n1976,Innsbruck,Skiing,Alpine Skiing,SUI,giant slalom,M,Gold\\n1976,Innsbruck,Skiing,Alpine Skiing,SUI,giant slalom,M,Silver\\n1976,Innsbruck,Skiing,Alpine Skiing,SWE,giant slalom,M,Bronze\\n1976,Innsbruck,Skiing,Cross Country S,SWE,50km,M,Bronze\\n1976,Innsbruck,Ice Hockey,Ice Hockey,TCH,ice hockey,M,Silver\\n1976,Innsbruck,Biathlon,Biathlon,URS,20km,M,Bronze\\n1976,Innsbruck,Biathlon,Biathlon,URS,20km,M,Gold\\n1976,Innsbruck,Biathlon,Biathlon,URS,4x7.5km relay,M,Gold\\n1976,Innsbruck,Ice Hockey,Ice Hockey,URS,ice hockey,M,Gold\\n1976,Innsbruck,Skating,Figure skating,URS,ice dancing,X,Gold\\n1976,Innsbruck,Skating,Figure skating,URS,ice dancing,X,Silver\\n1976,Innsbruck,Skating,Figure skating,URS,individual,M,Silver\\n1976,Innsbruck,Skating,Figure skating,URS,pairs,X,Gold\\n1976,Innsbruck,Skating,Speed skating,URS,1000m,M,Bronze\\n1976,Innsbruck,Skating,Speed skating,URS,1000m,W,Gold\\n1976,Innsbruck,Skating,Speed skating,URS,1500m,M,Silver\\n1976,Innsbruck,Skating,Speed skating,URS,1500m,W,Bronze\\n1976,Innsbruck,Skating,Speed skating,URS,1500m,W,Gold\\n1976,Innsbruck,Skating,Speed skating,URS,3000m,W,Gold\\n1976,Innsbruck,Skating,Speed skating,URS,500m,M,Gold\\n1976,Innsbruck,Skating,Speed skating,URS,500m,M,Silver\\n1976,Innsbruck,Skating,Speed skating,URS,500m,W,Bronze\\n1976,Innsbruck,Skiing,Cross Country S,URS,10km,W,Bronze\\n1976,Innsbruck,Skiing,Cross Country S,URS,10km,W,Gold\\n1976,Innsbruck,Skiing,Cross Country S,URS,15km,M,Gold\\n1976,Innsbruck,Skiing,Cross Country S,URS,15km,M,Silver\\n1976,Innsbruck,Skiing,Cross Country S,URS,30km mass start,M,Bronze\\n1976,Innsbruck,Skiing,Cross Country S,URS,30km mass start,M,Gold\\n1976,Innsbruck,Skiing,Cross Country S,URS,4x10km relay,M,Bronze\\n1976,Innsbruck,Skiing,Cross Country S,URS,4x5km relay,W,Gold\\n1976,Innsbruck,Skiing,Cross Country S,URS,5km,W,Bronze\\n1976,Innsbruck,Skiing,Cross Country S,URS,5km,W,Silver\\n1976,Innsbruck,Skating,Figure skating,USA,ice dancing,X,Bronze\\n1976,Innsbruck,Skating,Figure skating,USA,individual,W,Gold\\n1976,Innsbruck,Skating,Speed skating,USA,1000m,M,Gold\\n1976,Innsbruck,Skating,Speed skating,USA,1000m,W,Bronze\\n1976,Innsbruck,Skating,Speed skating,USA,1000m,W,Silver\\n1976,Innsbruck,Skating,Speed skating,USA,1500m,W,Silver\\n1976,Innsbruck,Skating,Speed skating,USA,500m,M,Bronze\\n1976,Innsbruck,Skating,Speed skating,USA,500m,W,Gold\\n1976,Innsbruck,Skiing,Alpine Skiing,USA,downhill,W,Bronze\\n1976,Innsbruck,Skiing,Cross Country S,USA,30km mass start,M,Silver\\n1980,Lake Placid,Luge,Luge,AUT,doubles,X,Bronze\\n1980,Lake Placid,Skiing,Alpine Skiing,AUT,downhill,M,Gold\\n1980,Lake Placid,Skiing,Alpine Skiing,AUT,downhill,M,Silver\\n1980,Lake Placid,Skiing,Alpine Skiing,AUT,downhill,W,Gold\\n1980,Lake Placid,Skiing,Alpine Skiing,AUT,giant slalom,M,Bronze\\n1980,Lake Placid,Skiing,Ski Jumping,AUT,K120 individual (90m),M,Silver\\n1980,Lake Placid,Skiing,Ski Jumping,AUT,K90 individual (70m),M,Gold\\n1980,Lake Placid,Skiing,Cross Country S,BUL,30km mass start,M,Bronze\\n1980,Lake Placid,Skating,Speed skating,CAN,1000m,M,Silver\\n1980,Lake Placid,Skiing,Alpine Skiing,CAN,downhill,M,Bronze\\n1980,Lake Placid,Skiing,Cross Country S,FIN,10km,W,Bronze\\n1980,Lake Placid,Skiing,Cross Country S,FIN,10km,W,Silver\\n1980,Lake Placid,Skiing,Cross Country S,FIN,15km,M,Silver\\n1980,Lake Placid,Skiing,Cross Country S,FIN,4x10km relay,M,Bronze\\n1980,Lake Placid,Skiing,Cross Country S,FIN,50km,M,Silver\\n1980,Lake Placid,Skiing,Cross Country S,FIN,5km,W,Silver\\n1980,Lake Placid,Skiing,Nordic Combined,FIN,individual,M,Silver\\n1980,Lake Placid,Skiing,Ski Jumping,FIN,K120 individual (90m),M,Bronze\\n1980,Lake Placid,Skiing,Ski Jumping,FIN,K120 individual (90m),M,Gold\\n1980,Lake Placid,Skiing,Alpine Skiing,FRA,giant slalom,W,Bronze\\n1980,Lake Placid,Biathlon,Biathlon,FRG,4x7.5km relay,M,Bronze\\n1980,Lake Placid,Luge,Luge,FRG,singles,M,Bronze\\n1980,Lake Placid,Skating,Figure skating,FRG,individual,W,Bronze\\n1980,Lake Placid,Skiing,Alpine Skiing,FRG,giant slalom,W,Silver\\n1980,Lake Placid,Skiing,Alpine Skiing,FRG,slalom,W,Silver\\n1980,Lake Placid,Skating,Figure skating,GBR,individual,M,Gold\\n1980,Lake Placid,Biathlon,Biathlon,GDR,10km,M,Gold\\n1980,Lake Placid,Biathlon,Biathlon,GDR,20km,M,Bronze\\n1980,Lake Placid,Biathlon,Biathlon,GDR,20km,M,Silver\\n1980,Lake Placid,Biathlon,Biathlon,GDR,4x7.5km relay,M,Silver\\n1980,Lake Placid,Bobsleigh,Bobsleigh,GDR,four-man,M,Bronze\\n1980,Lake Placid,Bobsleigh,Bobsleigh,GDR,four-man,M,Gold\\n1980,Lake Placid,Bobsleigh,Bobsleigh,GDR,two-man,M,Bronze\\n1980,Lake Placid,Bobsleigh,Bobsleigh,GDR,two-man,M,Silver\\n1980,Lake Placid,Luge,Luge,GDR,doubles,X,Gold\\n1980,Lake Placid,Luge,Luge,GDR,singles,M,Gold\\n1980,Lake Placid,Luge,Luge,GDR,singles,W,Silver\\n1980,Lake Placid,Skating,Figure skating,GDR,individual,M,Silver\\n1980,Lake Placid,Skating,Figure skating,GDR,individual,W,Gold\\n1980,Lake Placid,Skating,Figure skating,GDR,pairs,X,Bronze\\n1980,Lake Placid,Skating,Speed skating,GDR,1000m,W,Bronze\\n1980,Lake Placid,Skating,Speed skating,GDR,1500m,W,Bronze\\n1980,Lake Placid,Skating,Speed skating,GDR,3000m,W,Silver\\n1980,Lake Placid,Skating,Speed skating,GDR,500m,W,Gold\\n1980,Lake Placid,Skiing,Cross Country S,GDR,10km,W,Gold\\n1980,Lake Placid,Skiing,Cross Country S,GDR,4x5km relay,W,Gold\\n1980,Lake Placid,Skiing,Nordic Combined,GDR,individual,M,Bronze\\n1980,Lake Placid,Skiing,Nordic Combined,GDR,individual,M,Gold\\n1980,Lake Placid,Skiing,Ski Jumping,GDR,K90 individual (70m),M,Silver\\n1980,Lake Placid,Skating,Figure skating,HUN,ice dancing,X,Silver\\n1980,Lake Placid,Luge,Luge,ITA,doubles,X,Silver\\n1980,Lake Placid,Luge,Luge,ITA,singles,M,Silver\\n1980,Lake Placid,Skiing,Ski Jumping,JPN,K90 individual (70m),M,Silver\\n1980,Lake Placid,Skiing,Alpine Skiing,LIE,downhill,W,Silver\\n1980,Lake Placid,Skiing,Alpine Skiing,LIE,giant slalom,M,Silver\\n1980,Lake Placid,Skiing,Alpine Skiing,LIE,giant slalom,W,Gold\\n1980,Lake Placid,Skiing,Alpine Skiing,LIE,slalom,W,Gold\\n1980,Lake Placid,Skating,Speed skating,NED,10000m,M,Silver\\n1980,Lake Placid,Skating,Speed skating,NED,1500m,W,Gold\\n1980,Lake Placid,Skating,Speed skating,NED,1500m,W,Silver\\n1980,Lake Placid,Skating,Speed skating,NED,500m,M,Bronze\\n1980,Lake Placid,Skating,Speed skating,NOR,10000m,M,Bronze\\n1980,Lake Placid,Skating,Speed skating,NOR,1000m,M,Bronze\\n1980,Lake Placid,Skating,Speed skating,NOR,1500m,M,Bronze\\n1980,Lake Placid,Skating,Speed skating,NOR,1500m,M,Silver\\n1980,Lake Placid,Skating,Speed skating,NOR,3000m,W,Gold\\n1980,Lake Placid,Skating,Speed skating,NOR,5000m,M,Bronze\\n1980,Lake Placid,Skating,Speed skating,NOR,5000m,M,Silver\\n1980,Lake Placid,Skiing,Cross Country S,NOR,15km,M,Bronze\\n1980,Lake Placid,Skiing,Cross Country S,NOR,4x10km relay,M,Silver\\n1980,Lake Placid,Skiing,Cross Country S,NOR,4x5km relay,W,Bronze\\n1980,Lake Placid,Bobsleigh,Bobsleigh,SUI,four-man,M,Silver\\n1980,Lake Placid,Bobsleigh,Bobsleigh,SUI,two-man,M,Gold\\n1980,Lake Placid,Skiing,Alpine Skiing,SUI,downhill,W,Bronze\\n1980,Lake Placid,Skiing,Alpine Skiing,SUI,slalom,M,Bronze\\n1980,Lake Placid,Skiing,Alpine Skiing,SUI,slalom,W,Bronze\\n1980,Lake Placid,Ice Hockey,Ice Hockey,SWE,ice hockey,M,Bronze\\n1980,Lake Placid,Skiing,Alpine Skiing,SWE,giant slalom,M,Gold\\n1980,Lake Placid,Skiing,Alpine Skiing,SWE,slalom,M,Gold\\n1980,Lake Placid,Skiing,Cross Country S,SWE,15km,M,Gold\\n1980,Lake Placid,Skiing,Cross Country S,TCH,5km,W,Bronze\\n1980,Lake Placid,Biathlon,Biathlon,URS,10km,M,Bronze\\n1980,Lake Placid,Biathlon,Biathlon,URS,10km,M,Silver\\n1980,Lake Placid,Biathlon,Biathlon,URS,20km,M,Gold\\n1980,Lake Placid,Biathlon,Biathlon,URS,4x7.5km relay,M,Gold\\n1980,Lake Placid,Ice Hockey,Ice Hockey,URS,ice hockey,M,Silver\\n1980,Lake Placid,Luge,Luge,URS,singles,W,Bronze\\n1980,Lake Placid,Luge,Luge,URS,singles,W,Gold\\n1980,Lake Placid,Skating,Figure skating,URS,ice dancing,X,Bronze\\n1980,Lake Placid,Skating,Figure skating,URS,ice dancing,X,Gold\\n1980,Lake Placid,Skating,Figure skating,URS,pairs,X,Gold\\n1980,Lake Placid,Skating,Figure skating,URS,pairs,X,Silver\\n1980,Lake Placid,Skating,Speed skating,URS,1000m,M,Bronze\\n1980,Lake Placid,Skating,Speed skating,URS,1000m,W,Gold\\n1980,Lake Placid,Skating,Speed skating,URS,500m,M,Silver\\n1980,Lake Placid,Skating,Speed skating,URS,500m,W,Bronze\\n1980,Lake Placid,Skiing,Cross Country S,URS,30km mass start,M,Gold\\n1980,Lake Placid,Skiing,Cross Country S,URS,30km mass start,M,Silver\\n1980,Lake Placid,Skiing,Cross Country S,URS,4x10km relay,M,Gold\\n1980,Lake Placid,Skiing,Cross Country S,URS,4x5km relay,W,Silver\\n1980,Lake Placid,Skiing,Cross Country S,URS,50km,M,Bronze\\n1980,Lake Placid,Skiing,Cross Country S,URS,50km,M,Gold\\n1980,Lake Placid,Skiing,Cross Country S,URS,5km,W,Gold\\n1980,Lake Placid,Ice Hockey,Ice Hockey,USA,ice hockey,M,Gold\\n1980,Lake Placid,Skating,Figure skating,USA,individual,M,Bronze\\n1980,Lake Placid,Skating,Figure skating,USA,individual,W,Silver\\n1980,Lake Placid,Skating,Speed skating,USA,10000m,M,Gold\\n1980,Lake Placid,Skating,Speed skating,USA,1000m,M,Gold\\n1980,Lake Placid,Skating,Speed skating,USA,1000m,W,Silver\\n1980,Lake Placid,Skating,Speed skating,USA,1500m,M,Gold\\n1980,Lake Placid,Skating,Speed skating,USA,3000m,W,Bronze\\n1980,Lake Placid,Skating,Speed skating,USA,5000m,M,Gold\\n1980,Lake Placid,Skating,Speed skating,USA,500m,M,Gold\\n1980,Lake Placid,Skating,Speed skating,USA,500m,W,Silver\\n1980,Lake Placid,Skiing,Alpine Skiing,USA,slalom,M,Silver\\n1984,Sarajevo,Skiing,Alpine Skiing,AUT,downhill,M,Bronze\\n1984,Sarajevo,Skating,Figure skating,CAN,individual,M,Silver\\n1984,Sarajevo,Skating,Speed skating,CAN,1000m,M,Gold\\n1984,Sarajevo,Skating,Speed skating,CAN,1500m,M,Gold\\n1984,Sarajevo,Skating,Speed skating,CAN,500m,M,Bronze\\n1984,Sarajevo,Skiing,Cross Country S,FIN,10km,W,Gold\\n1984,Sarajevo,Skiing,Cross Country S,FIN,15km,M,Bronze\\n1984,Sarajevo,Skiing,Cross Country S,FIN,15km,M,Silver\\n1984,Sarajevo,Skiing,Cross Country S,FIN,20km,W,Gold\\n1984,Sarajevo,Skiing,Cross Country S,FIN,4x10km relay,M,Bronze\\n1984,Sarajevo,Skiing,Cross Country S,FIN,4x5km relay,W,Bronze\\n1984,Sarajevo,Skiing,Cross Country S,FIN,50km,M,Bronze\\n1984,Sarajevo,Skiing,Cross Country S,FIN,5km,W,Gold\\n1984,Sarajevo,Skiing,Nordic Combined,FIN,individual,M,Bronze\\n1984,Sarajevo,Skiing,Nordic Combined,FIN,individual,M,Silver\\n1984,Sarajevo,Skiing,Ski Jumping,FIN,K120 individual (90m),M,Gold\\n1984,Sarajevo,Skiing,Ski Jumping,FIN,K90 individual (70m),M,Bronze\\n1984,Sarajevo,Skiing,Ski Jumping,FIN,K90 individual (70m),M,Silver\\n1984,Sarajevo,Skiing,Alpine Skiing,FRA,giant slalom,W,Bronze\\n1984,Sarajevo,Skiing,Alpine Skiing,FRA,slalom,M,Bronze\\n1984,Sarajevo,Skiing,Alpine Skiing,FRA,slalom,W,Silver\\n1984,Sarajevo,Biathlon,Biathlon,FRG,10km,M,Silver\\n1984,Sarajevo,Biathlon,Biathlon,FRG,20km,M,Gold\\n1984,Sarajevo,Biathlon,Biathlon,FRG,4x7.5km relay,M,Bronze\\n1984,Sarajevo,Luge,Luge,FRG,doubles,X,Gold\\n1984,Sarajevo,Skating,Figure skating,GBR,ice dancing,X,Gold\\n1984,Sarajevo,Biathlon,Biathlon,GDR,10km,M,Bronze\\n1984,Sarajevo,Biathlon,Biathlon,GDR,20km,M,Silver\\n1984,Sarajevo,Bobsleigh,Bobsleigh,GDR,four-man,M,Gold\\n1984,Sarajevo,Bobsleigh,Bobsleigh,GDR,four-man,M,Silver\\n1984,Sarajevo,Bobsleigh,Bobsleigh,GDR,two-man,M,Gold\\n1984,Sarajevo,Bobsleigh,Bobsleigh,GDR,two-man,M,Silver\\n1984,Sarajevo,Luge,Luge,GDR,doubles,X,Bronze\\n1984,Sarajevo,Luge,Luge,GDR,singles,W,Bronze\\n1984,Sarajevo,Luge,Luge,GDR,singles,W,Gold\\n1984,Sarajevo,Luge,Luge,GDR,singles,W,Silver\\n1984,Sarajevo,Skating,Figure skating,GDR,individual,W,Gold\\n1984,Sarajevo,Skating,Speed skating,GDR,10000m,M,Bronze\\n1984,Sarajevo,Skating,Speed skating,GDR,1000m,W,Gold\\n1984,Sarajevo,Skating,Speed skating,GDR,1000m,W,Silver\\n1984,Sarajevo,Skating,Speed skating,GDR,1500m,W,Gold\\n1984,Sarajevo,Skating,Speed skating,GDR,1500m,W,Silver\\n1984,Sarajevo,Skating,Speed skating,GDR,3000m,W,Bronze\\n1984,Sarajevo,Skating,Speed skating,GDR,3000m,W,Gold\\n1984,Sarajevo,Skating,Speed skating,GDR,3000m,W,Silver\\n1984,Sarajevo,Skating,Speed skating,GDR,5000m,M,Bronze\\n1984,Sarajevo,Skating,Speed skating,GDR,500m,W,Gold\\n1984,Sarajevo,Skating,Speed skating,GDR,500m,W,Silver\\n1984,Sarajevo,Skiing,Ski Jumping,GDR,K120 individual (90m),M,Silver\\n1984,Sarajevo,Skiing,Ski Jumping,GDR,K90 individual (70m),M,Gold\\n1984,Sarajevo,Luge,Luge,ITA,singles,M,Gold\\n1984,Sarajevo,Skiing,Alpine Skiing,ITA,slalom,W,Gold\\n1984,Sarajevo,Skating,Speed skating,JPN,500m,M,Silver\\n1984,Sarajevo,Skiing,Alpine Skiing,LIE,giant slalom,M,Bronze\\n1984,Sarajevo,Skiing,Alpine Skiing,LIE,slalom,W,Bronze\\n1984,Sarajevo,Biathlon,Biathlon,NOR,10km,M,Gold\\n1984,Sarajevo,Biathlon,Biathlon,NOR,20km,M,Bronze\\n1984,Sarajevo,Biathlon,Biathlon,NOR,4x7.5km relay,M,Silver\\n1984,Sarajevo,Skating,Speed skating,NOR,1000m,M,Bronze\\n1984,Sarajevo,Skiing,Cross Country S,NOR,10km,W,Bronze\\n1984,Sarajevo,Skiing,Cross Country S,NOR,20km,W,Bronze\\n1984,Sarajevo,Skiing,Cross Country S,NOR,4x5km relay,W,Gold\\n1984,Sarajevo,Skiing,Cross Country S,NOR,5km,W,Silver\\n1984,Sarajevo,Skiing,Nordic Combined,NOR,individual,M,Gold\\n1984,Sarajevo,Bobsleigh,Bobsleigh,SUI,four-man,M,Bronze\\n1984,Sarajevo,Skiing,Alpine Skiing,SUI,downhill,M,Silver\\n1984,Sarajevo,Skiing,Alpine Skiing,SUI,downhill,W,Gold\\n1984,Sarajevo,Skiing,Alpine Skiing,SUI,downhill,W,Silver\\n1984,Sarajevo,Skiing,Alpine Skiing,SUI,giant slalom,M,Gold\\n1984,Sarajevo,Ice Hockey,Ice Hockey,SWE,ice hockey,M,Bronze\\n1984,Sarajevo,Skating,Speed skating,SWE,10000m,M,Silver\\n1984,Sarajevo,Skating,Speed skating,SWE,5000m,M,Gold\\n1984,Sarajevo,Skiing,Cross Country S,SWE,15km,M,Gold\\n1984,Sarajevo,Skiing,Cross Country S,SWE,30km mass start,M,Bronze\\n1984,Sarajevo,Skiing,Cross Country S,SWE,4x10km relay,M,Gold\\n1984,Sarajevo,Skiing,Cross Country S,SWE,50km,M,Gold\\n1984,Sarajevo,Skiing,Cross Country S,SWE,50km,M,Silver\\n1984,Sarajevo,Ice Hockey,Ice Hockey,TCH,ice hockey,M,Silver\\n1984,Sarajevo,Skating,Figure skating,TCH,individual,M,Bronze\\n1984,Sarajevo,Skiing,Alpine Skiing,TCH,downhill,W,Bronze\\n1984,Sarajevo,Skiing,Cross Country S,TCH,4x5km relay,W,Silver\\n1984,Sarajevo,Skiing,Cross Country S,TCH,5km,W,Bronze\\n1984,Sarajevo,Skiing,Ski Jumping,TCH,K120 individual (90m),M,Bronze\\n1984,Sarajevo,Biathlon,Biathlon,URS,4x7.5km relay,M,Gold\\n1984,Sarajevo,Bobsleigh,Bobsleigh,URS,two-man,M,Bronze\\n1984,Sarajevo,Ice Hockey,Ice Hockey,URS,ice hockey,M,Gold\\n1984,Sarajevo,Luge,Luge,URS,doubles,X,Silver\\n1984,Sarajevo,Luge,Luge,URS,singles,M,Bronze\\n1984,Sarajevo,Luge,Luge,URS,singles,M,Silver\\n1984,Sarajevo,Skating,Figure skating,URS,ice dancing,X,Bronze\\n1984,Sarajevo,Skating,Figure skating,URS,ice dancing,X,Silver\\n1984,Sarajevo,Skating,Figure skating,URS,individual,W,Bronze\\n1984,Sarajevo,Skating,Figure skating,URS,pairs,X,Bronze\\n1984,Sarajevo,Skating,Figure skating,URS,pairs,X,Gold\\n1984,Sarajevo,Skating,Speed skating,URS,10000m,M,Gold\\n1984,Sarajevo,Skating,Speed skating,URS,1000m,M,Silver\\n1984,Sarajevo,Skating,Speed skating,URS,1000m,W,Bronze\\n1984,Sarajevo,Skating,Speed skating,URS,1500m,M,Bronze\\n1984,Sarajevo,Skating,Speed skating,URS,1500m,M,Silver\\n1984,Sarajevo,Skating,Speed skating,URS,1500m,W,Bronze\\n1984,Sarajevo,Skating,Speed skating,URS,5000m,M,Silver\\n1984,Sarajevo,Skating,Speed skating,URS,500m,M,Gold\\n1984,Sarajevo,Skating,Speed skating,URS,500m,W,Bronze\\n1984,Sarajevo,Skiing,Cross Country S,URS,10km,W,Silver\\n1984,Sarajevo,Skiing,Cross Country S,URS,20km,W,Silver\\n1984,Sarajevo,Skiing,Cross Country S,URS,30km mass start,M,Gold\\n1984,Sarajevo,Skiing,Cross Country S,URS,30km mass start,M,Silver\\n1984,Sarajevo,Skiing,Cross Country S,URS,4x10km relay,M,Silver\\n1984,Sarajevo,Skating,Figure skating,USA,individual,M,Gold\\n1984,Sarajevo,Skating,Figure skating,USA,individual,W,Silver\\n1984,Sarajevo,Skating,Figure skating,USA,pairs,X,Silver\\n1984,Sarajevo,Skiing,Alpine Skiing,USA,downhill,M,Gold\\n1984,Sarajevo,Skiing,Alpine Skiing,USA,giant slalom,W,Gold\\n1984,Sarajevo,Skiing,Alpine Skiing,USA,giant slalom,W,Silver\\n1984,Sarajevo,Skiing,Alpine Skiing,USA,slalom,M,Gold\\n1984,Sarajevo,Skiing,Alpine Skiing,USA,slalom,M,Silver\\n1984,Sarajevo,Skiing,Alpine Skiing,YUG,giant slalom,M,Silver\\n1988,Calgary,Skating,Speed skating,AUT,10000m,M,Silver\\n1988,Calgary,Skating,Speed skating,AUT,1500m,M,Bronze\\n1988,Calgary,Skiing,Alpine Skiing,AUT,alpine combined,M,Gold\\n1988,Calgary,Skiing,Alpine Skiing,AUT,alpine combined,M,Silver\\n1988,Calgary,Skiing,Alpine Skiing,AUT,alpine combined,W,Gold\\n1988,Calgary,Skiing,Alpine Skiing,AUT,giant slalom,M,Silver\\n1988,Calgary,Skiing,Alpine Skiing,AUT,super-G,M,Silver\\n1988,Calgary,Skiing,Alpine Skiing,AUT,super-G,W,Gold\\n1988,Calgary,Skiing,Nordic Combined,AUT,individual,M,Silver\\n1988,Calgary,Skiing,Nordic Combined,AUT,Team,M,Bronze\\n1988,Calgary,Skating,Figure skating,CAN,ice dancing,X,Bronze\\n1988,Calgary,Skating,Figure skating,CAN,individual,M,Silver\\n1988,Calgary,Skating,Figure skating,CAN,individual,W,Silver\\n1988,Calgary,Skiing,Alpine Skiing,CAN,downhill,W,Bronze\\n1988,Calgary,Skiing,Alpine Skiing,CAN,super-G,W,Bronze\\n1988,Calgary,Ice Hockey,Ice Hockey,FIN,ice hockey,M,Silver\\n1988,Calgary,Skiing,Cross Country S,FIN,10km,W,Bronze\\n1988,Calgary,Skiing,Cross Country S,FIN,4x5km relay,W,Bronze\\n1988,Calgary,Skiing,Cross Country S,FIN,5km,W,Gold\\n1988,Calgary,Skiing,Ski Jumping,FIN,K120 individual (90m),M,Gold\\n1988,Calgary,Skiing,Ski Jumping,FIN,K120 team (90m),M,Gold\\n1988,Calgary,Skiing,Ski Jumping,FIN,K90 individual (70m),M,Gold\\n1988,Calgary,Skiing,Alpine Skiing,FRA,downhill,M,Bronze\\n1988,Calgary,Skiing,Alpine Skiing,FRA,super-G,M,Gold\\n1988,Calgary,Biathlon,Biathlon,FRG,4x7.5km relay,M,Silver\\n1988,Calgary,Luge,Luge,FRG,doubles,X,Bronze\\n1988,Calgary,Luge,Luge,FRG,singles,M,Silver\\n1988,Calgary,Skiing,Alpine Skiing,FRG,downhill,W,Gold\\n1988,Calgary,Skiing,Alpine Skiing,FRG,giant slalom,W,Silver\\n1988,Calgary,Skiing,Alpine Skiing,FRG,slalom,M,Silver\\n1988,Calgary,Skiing,Alpine Skiing,FRG,slalom,W,Bronze\\n1988,Calgary,Skiing,Nordic Combined,FRG,Team,M,Gold\\n1988,Calgary,Biathlon,Biathlon,GDR,10km,M,Gold\\n1988,Calgary,Biathlon,Biathlon,GDR,20km,M,Gold\\n1988,Calgary,Bobsleigh,Bobsleigh,GDR,four-man,M,Silver\\n1988,Calgary,Bobsleigh,Bobsleigh,GDR,two-man,M,Bronze\\n1988,Calgary,Bobsleigh,Bobsleigh,GDR,two-man,M,Silver\\n1988,Calgary,Luge,Luge,GDR,doubles,X,Gold\\n1988,Calgary,Luge,Luge,GDR,doubles,X,Silver\\n1988,Calgary,Luge,Luge,GDR,singles,M,Gold\\n1988,Calgary,Luge,Luge,GDR,singles,W,Bronze\\n1988,Calgary,Luge,Luge,GDR,singles,W,Gold\\n1988,Calgary,Luge,Luge,GDR,singles,W,Silver\\n1988,Calgary,Skating,Figure skating,GDR,individual,W,Gold\\n1988,Calgary,Skating,Speed skating,GDR,1000m,M,Silver\\n1988,Calgary,Skating,Speed skating,GDR,1000m,W,Gold\\n1988,Calgary,Skating,Speed skating,GDR,1000m,W,Silver\\n1988,Calgary,Skating,Speed skating,GDR,1500m,M,Gold\\n1988,Calgary,Skating,Speed skating,GDR,1500m,W,Bronze\\n1988,Calgary,Skating,Speed skating,GDR,1500m,W,Silver\\n1988,Calgary,Skating,Speed skating,GDR,3000m,W,Bronze\\n1988,Calgary,Skating,Speed skating,GDR,3000m,W,Silver\\n1988,Calgary,Skating,Speed skating,GDR,5000m,W,Bronze\\n1988,Calgary,Skating,Speed skating,GDR,5000m,W,Silver\\n1988,Calgary,Skating,Speed skating,GDR,500m,M,Gold\\n1988,Calgary,Skating,Speed skating,GDR,500m,W,Bronze\\n1988,Calgary,Skating,Speed skating,GDR,500m,W,Silver\\n1988,Calgary,Biathlon,Biathlon,ITA,20km,M,Bronze\\n1988,Calgary,Biathlon,Biathlon,ITA,4x7.5km relay,M,Bronze\\n1988,Calgary,Skiing,Alpine Skiing,ITA,giant slalom,M,Gold\\n1988,Calgary,Skiing,Alpine Skiing,ITA,slalom,M,Gold\\n1988,Calgary,Skiing,Cross Country S,ITA,50km,M,Silver\\n1988,Calgary,Skating,Speed skating,JPN,500m,M,Bronze\\n1988,Calgary,Skiing,Alpine Skiing,LIE,slalom,M,Bronze\\n1988,Calgary,Skating,Speed skating,NED,10000m,M,Bronze\\n1988,Calgary,Skating,Speed skating,NED,1500m,W,Gold\\n1988,Calgary,Skating,Speed skating,NED,3000m,W,Gold\\n1988,Calgary,Skating,Speed skating,NED,5000m,M,Bronze\\n1988,Calgary,Skating,Speed skating,NED,5000m,M,Silver\\n1988,Calgary,Skating,Speed skating,NED,5000m,W,Gold\\n1988,Calgary,Skating,Speed skating,NED,500m,M,Silver\\n1988,Calgary,Skiing,Cross Country S,NOR,15km,M,Silver\\n1988,Calgary,Skiing,Cross Country S,NOR,30km mass start,M,Bronze\\n1988,Calgary,Skiing,Cross Country S,NOR,4x5km relay,W,Silver\\n1988,Calgary,Skiing,Ski Jumping,NOR,K120 individual (90m),M,Silver\\n1988,Calgary,Skiing,Ski Jumping,NOR,K120 team (90m),M,Bronze\\n1988,Calgary,Bobsleigh,Bobsleigh,SUI,four-man,M,Gold\\n1988,Calgary,Skiing,Alpine Skiing,SUI,alpine combined,M,Bronze\\n1988,Calgary,Skiing,Alpine Skiing,SUI,alpine combined,W,Bronze\\n1988,Calgary,Skiing,Alpine Skiing,SUI,alpine combined,W,Silver\\n1988,Calgary,Skiing,Alpine Skiing,SUI,downhill,M,Gold\\n1988,Calgary,Skiing,Alpine Skiing,SUI,downhill,M,Silver\\n1988,Calgary,Skiing,Alpine Skiing,SUI,downhill,W,Silver\\n1988,Calgary,Skiing,Alpine Skiing,SUI,giant slalom,M,Bronze\\n1988,Calgary,Skiing,Alpine Skiing,SUI,giant slalom,W,Bronze\\n1988,Calgary,Skiing,Alpine Skiing,SUI,giant slalom,W,Gold\\n1988,Calgary,Skiing,Alpine Skiing,SUI,slalom,W,Gold\\n1988,Calgary,Skiing,Alpine Skiing,SUI,super-G,W,Silver\\n1988,Calgary,Skiing,Cross Country S,SUI,50km,M,Bronze\\n1988,Calgary,Skiing,Nordic Combined,SUI,individual,M,Gold\\n1988,Calgary,Skiing,Nordic Combined,SUI,Team,M,Silver\\n1988,Calgary,Ice Hockey,Ice Hockey,SWE,ice hockey,M,Bronze\\n1988,Calgary,Skating,Speed skating,SWE,10000m,M,Gold\\n1988,Calgary,Skating,Speed skating,SWE,5000m,M,Gold\\n1988,Calgary,Skiing,Alpine Skiing,SWE,super-G,M,Bronze\\n1988,Calgary,Skiing,Cross Country S,SWE,4x10km relay,M,Gold\\n1988,Calgary,Skiing,Cross Country S,SWE,50km,M,Gold\\n1988,Calgary,Skiing,Cross Country S,TCH,4x10km relay,M,Bronze\\n1988,Calgary,Skiing,Ski Jumping,TCH,K90 individual (70m),M,Bronze\\n1988,Calgary,Skiing,Ski Jumping,TCH,K90 individual (70m),M,Silver\\n1988,Calgary,Biathlon,Biathlon,URS,10km,M,Bronze\\n1988,Calgary,Biathlon,Biathlon,URS,10km,M,Silver\\n1988,Calgary,Biathlon,Biathlon,URS,20km,M,Silver\\n1988,Calgary,Biathlon,Biathlon,URS,4x7.5km relay,M,Gold\\n1988,Calgary,Bobsleigh,Bobsleigh,URS,four-man,M,Bronze\\n1988,Calgary,Bobsleigh,Bobsleigh,URS,two-man,M,Gold\\n1988,Calgary,Ice Hockey,Ice Hockey,URS,ice hockey,M,Gold\\n1988,Calgary,Luge,Luge,URS,singles,M,Bronze\\n1988,Calgary,Skating,Figure skating,URS,ice dancing,X,Gold\\n1988,Calgary,Skating,Figure skating,URS,ice dancing,X,Silver\\n1988,Calgary,Skating,Figure skating,URS,individual,M,Bronze\\n1988,Calgary,Skating,Figure skating,URS,pairs,X,Gold\\n1988,Calgary,Skating,Figure skating,URS,pairs,X,Silver\\n1988,Calgary,Skating,Speed skating,URS,1000m,M,Bronze\\n1988,Calgary,Skating,Speed skating,URS,1000m,M,Gold\\n1988,Calgary,Skiing,Cross Country S,URS,10km,W,Gold\\n1988,Calgary,Skiing,Cross Country S,URS,10km,W,Silver\\n1988,Calgary,Skiing,Cross Country S,URS,15km,M,Bronze\\n1988,Calgary,Skiing,Cross Country S,URS,15km,M,Gold\\n1988,Calgary,Skiing,Cross Country S,URS,20km,W,Bronze\\n1988,Calgary,Skiing,Cross Country S,URS,20km,W,Gold\\n1988,Calgary,Skiing,Cross Country S,URS,20km,W,Silver\\n1988,Calgary,Skiing,Cross Country S,URS,30km mass start,M,Gold\\n1988,Calgary,Skiing,Cross Country S,URS,30km mass start,M,Silver\\n1988,Calgary,Skiing,Cross Country S,URS,4x10km relay,M,Silver\\n1988,Calgary,Skiing,Cross Country S,URS,4x5km relay,W,Gold\\n1988,Calgary,Skiing,Cross Country S,URS,5km,W,Bronze\\n1988,Calgary,Skiing,Cross Country S,URS,5km,W,Silver\\n1988,Calgary,Skiing,Nordic Combined,URS,individual,M,Bronze\\n1988,Calgary,Skating,Figure skating,USA,individual,M,Gold\\n1988,Calgary,Skating,Figure skating,USA,individual,W,Bronze\\n1988,Calgary,Skating,Figure skating,USA,pairs,X,Bronze\\n1988,Calgary,Skating,Speed skating,USA,1000m,W,Bronze\\n1988,Calgary,Skating,Speed skating,USA,1500m,M,Silver\\n1988,Calgary,Skating,Speed skating,USA,500m,W,Gold\\n1988,Calgary,Skiing,Alpine Skiing,YUG,slalom,W,Silver\\n1988,Calgary,Skiing,Ski Jumping,YUG,K120 individual (90m),M,Bronze\\n1988,Calgary,Skiing,Ski Jumping,YUG,K120 team (90m),M,Silver\\n1992,Albertville,Bobsleigh,Bobsleigh,AUT,four-man,M,Gold\\n1992,Albertville,Luge,Luge,AUT,singles,M,Bronze\\n1992,Albertville,Luge,Luge,AUT,singles,M,Silver\\n1992,Albertville,Luge,Luge,AUT,singles,W,Gold\\n1992,Albertville,Luge,Luge,AUT,singles,W,Silver\\n1992,Albertville,Skating,Speed skating,AUT,3000m,W,Bronze\\n1992,Albertville,Skiing,Alpine Skiing,AUT,alpine combined,W,Gold\\n1992,Albertville,Skiing,Alpine Skiing,AUT,alpine combined,W,Silver\\n1992,Albertville,Skiing,Alpine Skiing,AUT,downhill,M,Bronze\\n1992,Albertville,Skiing,Alpine Skiing,AUT,downhill,M,Gold\\n1992,Albertville,Skiing,Alpine Skiing,AUT,downhill,W,Bronze\\n1992,Albertville,Skiing,Alpine Skiing,AUT,giant slalom,W,Silver\\n1992,Albertville,Skiing,Alpine Skiing,AUT,slalom,M,Bronze\\n1992,Albertville,Skiing,Alpine Skiing,AUT,slalom,W,Gold\\n1992,Albertville,Skiing,Nordic Combined,AUT,individual,M,Bronze\\n1992,Albertville,Skiing,Nordic Combined,AUT,Team,M,Bronze\\n1992,Albertville,Skiing,Ski Jumping,AUT,K120 individual (90m),M,Bronze\\n1992,Albertville,Skiing,Ski Jumping,AUT,K120 individual (90m),M,Silver\\n1992,Albertville,Skiing,Ski Jumping,AUT,K120 team (90m),M,Silver\\n1992,Albertville,Skiing,Ski Jumping,AUT,K90 individual (70m),M,Gold\\n1992,Albertville,Skiing,Ski Jumping,AUT,K90 individual (70m),M,Silver\\n1992,Albertville,Biathlon,Biathlon,CAN,15km,W,Bronze\\n1992,Albertville,Ice Hockey,Ice Hockey,CAN,ice hockey,M,Silver\\n1992,Albertville,Skating,Figure skating,CAN,pairs,X,Bronze\\n1992,Albertville,Skating,Short Track S.,CAN,1000m,M,Silver\\n1992,Albertville,Skating,Short Track S.,CAN,3000m relay,W,Gold\\n1992,Albertville,Skating,Short Track S.,CAN,5000m relay,M,Silver\\n1992,Albertville,Skiing,Alpine Skiing,CAN,downhill,W,Gold\\n1992,Albertville,Skating,Short Track S.,CHN,500m,W,Silver\\n1992,Albertville,Skating,Speed skating,CHN,1000m,W,Silver\\n1992,Albertville,Skating,Speed skating,CHN,500m,W,Silver\\n1992,Albertville,Skiing,Alpine Skiing,ESP,slalom,W,Bronze\\n1992,Albertville,Biathlon,Biathlon,EUN,15km,W,Silver\\n1992,Albertville,Biathlon,Biathlon,EUN,20km,M,Gold\\n1992,Albertville,Biathlon,Biathlon,EUN,3x7.5km relay,W,Bronze\\n1992,Albertville,Biathlon,Biathlon,EUN,4x7.5km relay,M,Silver\\n1992,Albertville,Biathlon,Biathlon,EUN,7.5km,W,Bronze\\n1992,Albertville,Biathlon,Biathlon,EUN,7.5km,W,Gold\\n1992,Albertville,Ice Hockey,Ice Hockey,EUN,ice hockey,M,Gold\\n1992,Albertville,Skating,Figure skating,EUN,ice dancing,X,Bronze\\n1992,Albertville,Skating,Figure skating,EUN,ice dancing,X,Gold\\n1992,Albertville,Skating,Figure skating,EUN,individual,M,Gold\\n1992,Albertville,Skating,Figure skating,EUN,pairs,X,Gold\\n1992,Albertville,Skating,Figure skating,EUN,pairs,X,Silver\\n1992,Albertville,Skating,Short Track S.,EUN,3000m relay,W,Bronze\\n1992,Albertville,Skiing,Cross Country S,EUN,15km mass start,W,Bronze\\n1992,Albertville,Skiing,Cross Country S,EUN,15km mass start,W,Gold\\n1992,Albertville,Skiing,Cross Country S,EUN,30km,W,Bronze\\n1992,Albertville,Skiing,Cross Country S,EUN,30km,W,Silver\\n1992,Albertville,Skiing,Cross Country S,EUN,4x5km relay,W,Gold\\n1992,Albertville,Skiing,Cross Country S,EUN,5km,W,Bronze\\n1992,Albertville,Skiing,Cross Country S,EUN,5km,W,Silver\\n1992,Albertville,Skiing,Cross Country S,EUN,Combined 5km + 10km pursuit,W,Bronze\\n1992,Albertville,Skiing,Cross Country S,EUN,Combined 5km + 10km pursuit,W,Gold\\n1992,Albertville,Skiing,Freestyle Ski.,EUN,moguls,W,Silver\\n1992,Albertville,Biathlon,Biathlon,FIN,10km,M,Bronze\\n1992,Albertville,Skiing,Cross Country S,FIN,15km mass start,W,Silver\\n1992,Albertville,Skiing,Cross Country S,FIN,4x10km relay,M,Bronze\\n1992,Albertville,Skiing,Cross Country S,FIN,5km,W,Gold\\n1992,Albertville,Skiing,Ski Jumping,FIN,K120 individual (90m),M,Gold\\n1992,Albertville,Skiing,Ski Jumping,FIN,K120 team (90m),M,Gold\\n1992,Albertville,Skiing,Ski Jumping,FIN,K90 individual (70m),M,Bronze\\n1992,Albertville,Biathlon,Biathlon,FRA,3x7.5km relay,W,Gold\\n1992,Albertville,Skating,Figure skating,FRA,ice dancing,X,Silver\\n1992,Albertville,Skiing,Alpine Skiing,FRA,alpine combined,W,Bronze\\n1992,Albertville,Skiing,Alpine Skiing,FRA,downhill,M,Silver\\n1992,Albertville,Skiing,Alpine Skiing,FRA,super-G,W,Silver\\n1992,Albertville,Skiing,Freestyle Ski.,FRA,moguls,M,Gold\\n1992,Albertville,Skiing,Freestyle Ski.,FRA,moguls,M,Silver\\n1992,Albertville,Skiing,Nordic Combined,FRA,individual,M,Gold\\n1992,Albertville,Skiing,Nordic Combined,FRA,individual,M,Silver\\n1992,Albertville,Biathlon,Biathlon,GER,10km,M,Gold\\n1992,Albertville,Biathlon,Biathlon,GER,10km,M,Silver\\n1992,Albertville,Biathlon,Biathlon,GER,15km,W,Gold\\n1992,Albertville,Biathlon,Biathlon,GER,20km,M,Silver\\n1992,Albertville,Biathlon,Biathlon,GER,3x7.5km relay,W,Silver\\n1992,Albertville,Biathlon,Biathlon,GER,4x7.5km relay,M,Gold\\n1992,Albertville,Biathlon,Biathlon,GER,7.5km,W,Silver\\n1992,Albertville,Bobsleigh,Bobsleigh,GER,four-man,M,Silver\\n1992,Albertville,Bobsleigh,Bobsleigh,GER,two-man,M,Bronze\\n1992,Albertville,Bobsleigh,Bobsleigh,GER,two-man,M,Silver\\n1992,Albertville,Luge,Luge,GER,doubles,X,Gold\\n1992,Albertville,Luge,Luge,GER,doubles,X,Silver\\n1992,Albertville,Luge,Luge,GER,singles,M,Gold\\n1992,Albertville,Luge,Luge,GER,singles,W,Bronze\\n1992,Albertville,Skating,Speed skating,GER,1000m,M,Gold\\n1992,Albertville,Skating,Speed skating,GER,1000m,W,Bronze\\n1992,Albertville,Skating,Speed skating,GER,1500m,W,Gold\\n1992,Albertville,Skating,Speed skating,GER,1500m,W,Silver\\n1992,Albertville,Skating,Speed skating,GER,3000m,W,Gold\\n1992,Albertville,Skating,Speed skating,GER,3000m,W,Silver\\n1992,Albertville,Skating,Speed skating,GER,5000m,W,Bronze\\n1992,Albertville,Skating,Speed skating,GER,5000m,W,Gold\\n1992,Albertville,Skating,Speed skating,GER,5000m,W,Silver\\n1992,Albertville,Skating,Speed skating,GER,500m,M,Gold\\n1992,Albertville,Skating,Speed skating,GER,500m,W,Bronze\\n1992,Albertville,Skiing,Alpine Skiing,GER,super-G,W,Bronze\\n1992,Albertville,Luge,Luge,ITA,doubles,X,Bronze\\n1992,Albertville,Skiing,Alpine Skiing,ITA,alpine combined,M,Gold\\n1992,Albertville,Skiing,Alpine Skiing,ITA,alpine combined,M,Silver\\n1992,Albertville,Skiing,Alpine Skiing,ITA,giant slalom,M,Gold\\n1992,Albertville,Skiing,Alpine Skiing,ITA,slalom,M,Silver\\n1992,Albertville,Skiing,Alpine Skiing,ITA,super-G,W,Gold\\n1992,Albertville,Skiing,Cross Country S,ITA,10km pursuit,M,Silver\\n1992,Albertville,Skiing,Cross Country S,ITA,30km,W,Gold\\n1992,Albertville,Skiing,Cross Country S,ITA,4x10km relay,M,Silver\\n1992,Albertville,Skiing,Cross Country S,ITA,4x5km relay,W,Bronze\\n1992,Albertville,Skiing,Cross Country S,ITA,50km,M,Bronze\\n1992,Albertville,Skiing,Cross Country S,ITA,50km,M,Silver\\n1992,Albertville,Skiing,Cross Country S,ITA,Combined 10km + 15km pursuit,M,Bronze\\n1992,Albertville,Skiing,Cross Country S,ITA,Combined 5km + 10km pursuit,W,Silver\\n1992,Albertville,Skating,Figure skating,JPN,individual,W,Silver\\n1992,Albertville,Skating,Short Track S.,JPN,5000m relay,M,Bronze\\n1992,Albertville,Skating,Speed skating,JPN,1000m,M,Bronze\\n1992,Albertville,Skating,Speed skating,JPN,1500m,W,Bronze\\n1992,Albertville,Skating,Speed skating,JPN,500m,M,Bronze\\n1992,Albertville,Skating,Speed skating,JPN,500m,M,Silver\\n1992,Albertville,Skiing,Nordic Combined,JPN,Team,M,Gold\\n1992,Albertville,Skating,Short Track S.,KOR,1000m,M,Bronze\\n1992,Albertville,Skating,Short Track S.,KOR,1000m,M,Gold\\n1992,Albertville,Skating,Short Track S.,KOR,5000m relay,M,Gold\\n1992,Albertville,Skating,Speed skating,KOR,1000m,M,Silver\\n1992,Albertville,Skiing,Alpine Skiing,LUX,giant slalom,M,Silver\\n1992,Albertville,Skiing,Alpine Skiing,LUX,super-G,M,Silver\\n1992,Albertville,Skating,Speed skating,NED,10000m,M,Gold\\n1992,Albertville,Skating,Speed skating,NED,1500m,M,Bronze\\n1992,Albertville,Skating,Speed skating,NED,5000m,M,Bronze\\n1992,Albertville,Skating,Speed skating,NED,5000m,M,Silver\\n1992,Albertville,Skating,Speed skating,NOR,10000m,M,Bronze\\n1992,Albertville,Skating,Speed skating,NOR,10000m,M,Silver\\n1992,Albertville,Skating,Speed skating,NOR,1500m,M,Gold\\n1992,Albertville,Skating,Speed skating,NOR,1500m,M,Silver\\n1992,Albertville,Skating,Speed skating,NOR,5000m,M,Gold\\n1992,Albertville,Skiing,Alpine Skiing,NOR,giant slalom,M,Bronze\\n1992,Albertville,Skiing,Alpine Skiing,NOR,slalom,M,Gold\\n1992,Albertville,Skiing,Alpine Skiing,NOR,super-G,M,Bronze\\n1992,Albertville,Skiing,Alpine Skiing,NOR,super-G,M,Gold\\n1992,Albertville,Skiing,Cross Country S,NOR,10km pursuit,M,Gold\\n1992,Albertville,Skiing,Cross Country S,NOR,30km mass start,M,Bronze\\n1992,Albertville,Skiing,Cross Country S,NOR,30km mass start,M,Gold\\n1992,Albertville,Skiing,Cross Country S,NOR,30km mass start,M,Silver\\n1992,Albertville,Skiing,Cross Country S,NOR,4x10km relay,M,Gold\\n1992,Albertville,Skiing,Cross Country S,NOR,4x5km relay,W,Silver\\n1992,Albertville,Skiing,Cross Country S,NOR,50km,M,Gold\\n1992,Albertville,Skiing,Cross Country S,NOR,Combined 10km + 15km pursuit,M,Gold\\n1992,Albertville,Skiing,Cross Country S,NOR,Combined 10km + 15km pursuit,M,Silver\\n1992,Albertville,Skiing,Freestyle Ski.,NOR,moguls,W,Bronze\\n1992,Albertville,Skiing,Nordic Combined,NOR,Team,M,Silver\\n1992,Albertville,Skiing,Alpine Skiing,NZL,slalom,W,Silver\\n1992,Albertville,Skating,Short Track S.,PRK,500m,W,Bronze\\n1992,Albertville,Bobsleigh,Bobsleigh,SUI,four-man,M,Bronze\\n1992,Albertville,Bobsleigh,Bobsleigh,SUI,two-man,M,Gold\\n1992,Albertville,Skiing,Alpine Skiing,SUI,alpine combined,M,Bronze\\n1992,Albertville,Biathlon,Biathlon,SWE,20km,M,Bronze\\n1992,Albertville,Biathlon,Biathlon,SWE,4x7.5km relay,M,Bronze\\n1992,Albertville,Skiing,Alpine Skiing,SWE,giant slalom,W,Gold\\n1992,Albertville,Skiing,Cross Country S,SWE,10km pursuit,M,Bronze\\n1992,Albertville,Ice Hockey,Ice Hockey,TCH,ice hockey,M,Bronze\\n1992,Albertville,Skating,Figure skating,TCH,individual,M,Bronze\\n1992,Albertville,Skiing,Ski Jumping,TCH,K120 team (90m),M,Bronze\\n1992,Albertville,Skating,Figure skating,USA,individual,M,Silver\\n1992,Albertville,Skating,Figure skating,USA,individual,W,Bronze\\n1992,Albertville,Skating,Figure skating,USA,individual,W,Gold\\n1992,Albertville,Skating,Short Track S.,USA,3000m relay,W,Silver\\n1992,Albertville,Skating,Short Track S.,USA,500m,W,Gold\\n1992,Albertville,Skating,Speed skating,USA,1000m,W,Gold\\n1992,Albertville,Skating,Speed skating,USA,500m,W,Gold\\n1992,Albertville,Skiing,Alpine Skiing,USA,downhill,W,Silver\\n1992,Albertville,Skiing,Alpine Skiing,USA,giant slalom,W,Silver\\n1992,Albertville,Skiing,Freestyle Ski.,USA,moguls,M,Bronze\\n1992,Albertville,Skiing,Freestyle Ski.,USA,moguls,W,Gold\\n1994,Lillehammer,Skating,Short Track S.,AUS,5000m relay,M,Bronze\\n1994,Lillehammer,Luge,Luge,AUT,singles,M,Silver\\n1994,Lillehammer,Luge,Luge,AUT,singles,W,Bronze\\n1994,Lillehammer,Skating,Speed skating,AUT,1500m,W,Gold\\n1994,Lillehammer,Skating,Speed skating,AUT,3000m,W,Silver\\n1994,Lillehammer,Skiing,Alpine Skiing,AUT,giant slalom,M,Bronze\\n1994,Lillehammer,Skiing,Alpine Skiing,AUT,slalom,M,Gold\\n1994,Lillehammer,Skiing,Alpine Skiing,AUT,slalom,W,Silver\\n1994,Lillehammer,Skiing,Ski Jumping,AUT,K120 individual (90m),M,Bronze\\n1994,Lillehammer,Skiing,Ski Jumping,AUT,K120 team (90m),M,Bronze\\n1994,Lillehammer,Biathlon,Biathlon,BLR,7.5km,W,Silver\\n1994,Lillehammer,Skating,Speed skating,BLR,1000m,M,Silver\\n1994,Lillehammer,Biathlon,Biathlon,CAN,15km,W,Gold\\n1994,Lillehammer,Biathlon,Biathlon,CAN,7.5km,W,Gold\\n1994,Lillehammer,Ice Hockey,Ice Hockey,CAN,ice hockey,M,Silver\\n1994,Lillehammer,Skating,Figure skating,CAN,individual,M,Silver\\n1994,Lillehammer,Skating,Figure skating,CAN,pairs,X,Bronze\\n1994,Lillehammer,Skating,Short Track S.,CAN,1000m,M,Bronze\\n1994,Lillehammer,Skating,Short Track S.,CAN,1000m,W,Silver\\n1994,Lillehammer,Skating,Short Track S.,CAN,3000m relay,W,Silver\\n1994,Lillehammer,Skating,Speed skating,CAN,500m,W,Silver\\n1994,Lillehammer,Skiing,Alpine Skiing,CAN,downhill,M,Bronze\\n1994,Lillehammer,Skiing,Freestyle Ski.,CAN,aerials,M,Bronze\\n1994,Lillehammer,Skiing,Freestyle Ski.,CAN,aerials,M,Silver\\n1994,Lillehammer,Skiing,Freestyle Ski.,CAN,moguls,M,Gold\\n1994,Lillehammer,Skating,Figure skating,CHN,individual,W,Bronze\\n1994,Lillehammer,Skating,Short Track S.,CHN,500m,W,Silver\\n1994,Lillehammer,Skating,Speed skating,CHN,1000m,W,Bronze\\n1994,Lillehammer,Ice Hockey,Ice Hockey,FIN,ice hockey,M,Bronze\\n1994,Lillehammer,Skiing,Cross Country S,FIN,30km,W,Bronze\\n1994,Lillehammer,Skiing,Cross Country S,FIN,30km mass start,M,Bronze\\n1994,Lillehammer,Skiing,Cross Country S,FIN,4x10km relay,M,Bronze\\n1994,Lillehammer,Skiing,Cross Country S,FIN,50km,M,Silver\\n1994,Lillehammer,Skiing,Cross Country S,FIN,5km,W,Bronze\\n1994,Lillehammer,Biathlon,Biathlon,FRA,15km,W,Silver\\n1994,Lillehammer,Biathlon,Biathlon,FRA,4x7.5km relay,M,Bronze\\n1994,Lillehammer,Biathlon,Biathlon,FRA,4x7.5km relay,W,Bronze\\n1994,Lillehammer,Skating,Figure skating,FRA,individual,M,Bronze\\n1994,Lillehammer,Skiing,Freestyle Ski.,FRA,moguls,M,Bronze\\n1994,Lillehammer,Skating,Figure skating,GBR,ice dancing,X,Bronze\\n1994,Lillehammer,Skating,Short Track S.,GBR,500m,M,Bronze\\n1994,Lillehammer,Biathlon,Biathlon,GER,10km,M,Silver\\n1994,Lillehammer,Biathlon,Biathlon,GER,15km,W,Bronze\\n1994,Lillehammer,Biathlon,Biathlon,GER,20km,M,Bronze\\n1994,Lillehammer,Biathlon,Biathlon,GER,20km,M,Silver\\n1994,Lillehammer,Biathlon,Biathlon,GER,4x7.5km relay,M,Gold\\n1994,Lillehammer,Biathlon,Biathlon,GER,4x7.5km relay,W,Silver\\n1994,Lillehammer,Bobsleigh,Bobsleigh,GER,four-man,M,Bronze\\n1994,Lillehammer,Bobsleigh,Bobsleigh,GER,four-man,M,Gold\\n1994,Lillehammer,Luge,Luge,GER,doubles,X,Bronze\\n1994,Lillehammer,Luge,Luge,GER,singles,M,Gold\\n1994,Lillehammer,Luge,Luge,GER,singles,W,Silver\\n1994,Lillehammer,Skating,Speed skating,GER,1000m,W,Silver\\n1994,Lillehammer,Skating,Speed skating,GER,1500m,W,Bronze\\n1994,Lillehammer,Skating,Speed skating,GER,3000m,W,Bronze\\n1994,Lillehammer,Skating,Speed skating,GER,5000m,W,Gold\\n1994,Lillehammer,Skating,Speed skating,GER,5000m,W,Silver\\n1994,Lillehammer,Skating,Speed skating,GER,500m,W,Bronze\\n1994,Lillehammer,Skiing,Alpine Skiing,GER,downhill,W,Gold\\n1994,Lillehammer,Skiing,Alpine Skiing,GER,giant slalom,M,Gold\\n1994,Lillehammer,Skiing,Alpine Skiing,GER,giant slalom,W,Silver\\n1994,Lillehammer,Skiing,Alpine Skiing,GER,super-G,M,Gold\\n1994,Lillehammer,Skiing,Ski Jumping,GER,K120 individual (90m),M,Gold\\n1994,Lillehammer,Skiing,Ski Jumping,GER,K120 team (90m),M,Gold\\n1994,Lillehammer,Skiing,Ski Jumping,GER,K90 individual (70m),M,Bronze\\n1994,Lillehammer,Bobsleigh,Bobsleigh,ITA,two-man,M,Bronze\\n1994,Lillehammer,Luge,Luge,ITA,doubles,X,Gold\\n1994,Lillehammer,Luge,Luge,ITA,doubles,X,Silver\\n1994,Lillehammer,Luge,Luge,ITA,singles,M,Bronze\\n1994,Lillehammer,Luge,Luge,ITA,singles,W,Gold\\n1994,Lillehammer,Skating,Short Track S.,ITA,5000m relay,M,Gold\\n1994,Lillehammer,Skating,Short Track S.,ITA,500m,M,Silver\\n1994,Lillehammer,Skiing,Alpine Skiing,ITA,downhill,W,Bronze\\n1994,Lillehammer,Skiing,Alpine Skiing,ITA,giant slalom,W,Gold\\n1994,Lillehammer,Skiing,Alpine Skiing,ITA,slalom,M,Silver\\n1994,Lillehammer,Skiing,Alpine Skiing,ITA,super-G,W,Bronze\\n1994,Lillehammer,Skiing,Cross Country S,ITA,10km pursuit,M,Bronze\\n1994,Lillehammer,Skiing,Cross Country S,ITA,15km mass start,W,Gold\\n1994,Lillehammer,Skiing,Cross Country S,ITA,30km,W,Gold\\n1994,Lillehammer,Skiing,Cross Country S,ITA,4x10km relay,M,Gold\\n1994,Lillehammer,Skiing,Cross Country S,ITA,4x5km relay,W,Bronze\\n1994,Lillehammer,Skiing,Cross Country S,ITA,5km,W,Silver\\n1994,Lillehammer,Skiing,Cross Country S,ITA,Combined 10km + 15km pursuit,M,Bronze\\n1994,Lillehammer,Skiing,Cross Country S,ITA,Combined 5km + 10km pursuit,W,Bronze\\n1994,Lillehammer,Skiing,Cross Country S,ITA,Combined 5km + 10km pursuit,W,Silver\\n1994,Lillehammer,Skating,Speed skating,JPN,5000m,W,Bronze\\n1994,Lillehammer,Skating,Speed skating,JPN,500m,M,Bronze\\n1994,Lillehammer,Skiing,Nordic Combined,JPN,individual,M,Silver\\n1994,Lillehammer,Skiing,Nordic Combined,JPN,Team,M,Gold\\n1994,Lillehammer,Skiing,Ski Jumping,JPN,K120 team (90m),M,Silver\\n1994,Lillehammer,Skiing,Cross Country S,KAZ,10km pursuit,M,Silver\\n1994,Lillehammer,Skiing,Cross Country S,KAZ,50km,M,Gold\\n1994,Lillehammer,Skiing,Cross Country S,KAZ,Combined 10km + 15km pursuit,M,Silver\\n1994,Lillehammer,Skating,Short Track S.,KOR,1000m,M,Gold\\n1994,Lillehammer,Skating,Short Track S.,KOR,1000m,M,Silver\\n1994,Lillehammer,Skating,Short Track S.,KOR,1000m,W,Bronze\\n1994,Lillehammer,Skating,Short Track S.,KOR,1000m,W,Gold\\n1994,Lillehammer,Skating,Short Track S.,KOR,3000m relay,W,Gold\\n1994,Lillehammer,Skating,Short Track S.,KOR,500m,M,Gold\\n1994,Lillehammer,Skating,Speed skating,NED,10000m,M,Bronze\\n1994,Lillehammer,Skating,Speed skating,NED,1500m,M,Bronze\\n1994,Lillehammer,Skating,Speed skating,NED,1500m,M,Silver\\n1994,Lillehammer,Skating,Speed skating,NED,5000m,M,Bronze\\n1994,Lillehammer,Skating,Speed skating,NOR,10000m,M,Gold\\n1994,Lillehammer,Skating,Speed skating,NOR,10000m,M,Silver\\n1994,Lillehammer,Skating,Speed skating,NOR,1500m,M,Gold\\n1994,Lillehammer,Skating,Speed skating,NOR,5000m,M,Gold\\n1994,Lillehammer,Skating,Speed skating,NOR,5000m,M,Silver\\n1994,Lillehammer,Skiing,Alpine Skiing,NOR,alpine combined,M,Bronze\\n1994,Lillehammer,Skiing,Alpine Skiing,NOR,alpine combined,M,Gold\\n1994,Lillehammer,Skiing,Alpine Skiing,NOR,alpine combined,M,Silver\\n1994,Lillehammer,Skiing,Alpine Skiing,NOR,downhill,M,Silver\\n1994,Lillehammer,Skiing,Alpine Skiing,NOR,super-G,M,Bronze\\n1994,Lillehammer,Skiing,Cross Country S,NOR,10km pursuit,M,Gold\\n1994,Lillehammer,Skiing,Cross Country S,NOR,30km,W,Silver\\n1994,Lillehammer,Skiing,Cross Country S,NOR,30km mass start,M,Gold\\n1994,Lillehammer,Skiing,Cross Country S,NOR,30km mass start,M,Silver\\n1994,Lillehammer,Skiing,Cross Country S,NOR,4x10km relay,M,Silver\\n1994,Lillehammer,Skiing,Cross Country S,NOR,4x5km relay,W,Silver\\n1994,Lillehammer,Skiing,Cross Country S,NOR,50km,M,Bronze\\n1994,Lillehammer,Skiing,Cross Country S,NOR,Combined 10km + 15km pursuit,M,Gold\\n1994,Lillehammer,Skiing,Freestyle Ski.,NOR,aerials,W,Bronze\\n1994,Lillehammer,Skiing,Freestyle Ski.,NOR,moguls,W,Gold\\n1994,Lillehammer,Skiing,Nordic Combined,NOR,individual,M,Bronze\\n1994,Lillehammer,Skiing,Nordic Combined,NOR,individual,M,Gold\\n1994,Lillehammer,Skiing,Nordic Combined,NOR,Team,M,Silver\\n1994,Lillehammer,Skiing,Ski Jumping,NOR,K120 individual (90m),M,Silver\\n1994,Lillehammer,Skiing,Ski Jumping,NOR,K90 individual (70m),M,Gold\\n1994,Lillehammer,Skiing,Ski Jumping,NOR,K90 individual (70m),M,Silver\\n1994,Lillehammer,Biathlon,Biathlon,RUS,10km,M,Bronze\\n1994,Lillehammer,Biathlon,Biathlon,RUS,10km,M,Gold\\n1994,Lillehammer,Biathlon,Biathlon,RUS,20km,M,Gold\\n1994,Lillehammer,Biathlon,Biathlon,RUS,4x7.5km relay,M,Silver\\n1994,Lillehammer,Biathlon,Biathlon,RUS,4x7.5km relay,W,Gold\\n1994,Lillehammer,Skating,Figure skating,RUS,ice dancing,X,Gold\\n1994,Lillehammer,Skating,Figure skating,RUS,ice dancing,X,Silver\\n1994,Lillehammer,Skating,Figure skating,RUS,individual,M,Gold\\n1994,Lillehammer,Skating,Figure skating,RUS,pairs,X,Gold\\n1994,Lillehammer,Skating,Figure skating,RUS,pairs,X,Silver\\n1994,Lillehammer,Skating,Speed skating,RUS,1000m,M,Bronze\\n1994,Lillehammer,Skating,Speed skating,RUS,1500m,W,Silver\\n1994,Lillehammer,Skating,Speed skating,RUS,3000m,W,Gold\\n1994,Lillehammer,Skating,Speed skating,RUS,500m,M,Gold\\n1994,Lillehammer,Skating,Speed skating,RUS,500m,M,Silver\\n1994,Lillehammer,Skiing,Alpine Skiing,RUS,super-G,W,Silver\\n1994,Lillehammer,Skiing,Cross Country S,RUS,15km mass start,W,Bronze\\n1994,Lillehammer,Skiing,Cross Country S,RUS,15km mass start,W,Silver\\n1994,Lillehammer,Skiing,Cross Country S,RUS,4x5km relay,W,Gold\\n1994,Lillehammer,Skiing,Cross Country S,RUS,5km,W,Gold\\n1994,Lillehammer,Skiing,Cross Country S,RUS,Combined 5km + 10km pursuit,W,Gold\\n1994,Lillehammer,Skiing,Freestyle Ski.,RUS,moguls,M,Silver\\n1994,Lillehammer,Skiing,Freestyle Ski.,RUS,moguls,W,Bronze\\n1994,Lillehammer,Skiing,Alpine Skiing,SLO,alpine combined,W,Bronze\\n1994,Lillehammer,Skiing,Alpine Skiing,SLO,slalom,M,Bronze\\n1994,Lillehammer,Skiing,Alpine Skiing,SLO,slalom,W,Bronze\\n1994,Lillehammer,Bobsleigh,Bobsleigh,SUI,four-man,M,Silver\\n1994,Lillehammer,Bobsleigh,Bobsleigh,SUI,two-man,M,Gold\\n1994,Lillehammer,Bobsleigh,Bobsleigh,SUI,two-man,M,Silver\\n1994,Lillehammer,Skiing,Alpine Skiing,SUI,alpine combined,W,Silver\\n1994,Lillehammer,Skiing,Alpine Skiing,SUI,giant slalom,M,Silver\\n1994,Lillehammer,Skiing,Alpine Skiing,SUI,giant slalom,W,Bronze\\n1994,Lillehammer,Skiing,Alpine Skiing,SUI,slalom,W,Gold\\n1994,Lillehammer,Skiing,Freestyle Ski.,SUI,aerials,M,Gold\\n1994,Lillehammer,Skiing,Nordic Combined,SUI,Team,M,Bronze\\n1994,Lillehammer,Ice Hockey,Ice Hockey,SWE,ice hockey,M,Gold\\n1994,Lillehammer,Skiing,Alpine Skiing,SWE,alpine combined,W,Gold\\n1994,Lillehammer,Skiing,Freestyle Ski.,SWE,aerials,W,Silver\\n1994,Lillehammer,Biathlon,Biathlon,UKR,7.5km,W,Bronze\\n1994,Lillehammer,Skating,Figure skating,UKR,individual,W,Gold\\n1994,Lillehammer,Skating,Figure skating,USA,individual,W,Silver\\n1994,Lillehammer,Skating,Short Track S.,USA,3000m relay,W,Bronze\\n1994,Lillehammer,Skating,Short Track S.,USA,5000m relay,M,Silver\\n1994,Lillehammer,Skating,Short Track S.,USA,500m,W,Bronze\\n1994,Lillehammer,Skating,Short Track S.,USA,500m,W,Gold\\n1994,Lillehammer,Skating,Speed skating,USA,1000m,M,Gold\\n1994,Lillehammer,Skating,Speed skating,USA,1000m,W,Gold\\n1994,Lillehammer,Skating,Speed skating,USA,500m,W,Gold\\n1994,Lillehammer,Skiing,Alpine Skiing,USA,downhill,M,Gold\\n1994,Lillehammer,Skiing,Alpine Skiing,USA,downhill,W,Silver\\n1994,Lillehammer,Skiing,Alpine Skiing,USA,super-G,M,Silver\\n1994,Lillehammer,Skiing,Alpine Skiing,USA,super-G,W,Gold\\n1994,Lillehammer,Skiing,Freestyle Ski.,USA,moguls,W,Silver\\n1994,Lillehammer,Skiing,Freestyle Ski.,UZB,aerials,W,Gold\\n1998,Nagano,Skiing,Alpine Skiing,AUS,slalom,W,Bronze\\n1998,Nagano,Luge,Luge,AUT,singles,W,Bronze\\n1998,Nagano,Skiing,Alpine Skiing,AUT,alpine combined,M,Bronze\\n1998,Nagano,Skiing,Alpine Skiing,AUT,alpine combined,M,Gold\\n1998,Nagano,Skiing,Alpine Skiing,AUT,downhill,M,Bronze\\n1998,Nagano,Skiing,Alpine Skiing,AUT,giant slalom,M,Gold\\n1998,Nagano,Skiing,Alpine Skiing,AUT,giant slalom,M,Silver\\n1998,Nagano,Skiing,Alpine Skiing,AUT,giant slalom,W,Silver\\n1998,Nagano,Skiing,Alpine Skiing,AUT,slalom,M,Bronze\\n1998,Nagano,Skiing,Alpine Skiing,AUT,super-G,M,Gold\\n1998,Nagano,Skiing,Alpine Skiing,AUT,super-G,M,Silver\\n1998,Nagano,Skiing,Alpine Skiing,AUT,super-G,W,Bronze\\n1998,Nagano,Skiing,Alpine Skiing,AUT,super-G,W,Silver\\n1998,Nagano,Skiing,Cross Country S,AUT,10km pursuit,M,Silver\\n1998,Nagano,Skiing,Cross Country S,AUT,50km,M,Bronze\\n1998,Nagano,Skiing,Ski Jumping,AUT,K120 team (90m),M,Bronze\\n1998,Nagano,Skiing,Ski Jumping,AUT,K90 individual (70m),M,Bronze\\n1998,Nagano,Skiing,Snowboard,AUT,giant-slalom,W,Bronze\\n1998,Nagano,Skating,Speed skating,BEL,5000m,M,Bronze\\n1998,Nagano,Biathlon,Biathlon,BLR,20km,M,Bronze\\n1998,Nagano,Skiing,Freestyle Ski.,BLR,aerials,M,Bronze\\n1998,Nagano,Biathlon,Biathlon,BUL,15km,W,Gold\\n1998,Nagano,Bobsleigh,Bobsleigh,CAN,two-man,M,Gold\\n1998,Nagano,Curling,Curling,CAN,curling,M,Silver\\n1998,Nagano,Curling,Curling,CAN,curling,W,Gold\\n1998,Nagano,Ice Hockey,Ice Hockey,CAN,ice hockey,W,Silver\\n1998,Nagano,Skating,Figure skating,CAN,individual,M,Silver\\n1998,Nagano,Skating,Short Track S.,CAN,1000m,M,Bronze\\n1998,Nagano,Skating,Short Track S.,CAN,3000m relay,W,Bronze\\n1998,Nagano,Skating,Short Track S.,CAN,5000m relay,M,Gold\\n1998,Nagano,Skating,Short Track S.,CAN,500m,W,Gold\\n1998,Nagano,Skating,Speed skating,CAN,1000m,W,Bronze\\n1998,Nagano,Skating,Speed skating,CAN,500m,M,Bronze\\n1998,Nagano,Skating,Speed skating,CAN,500m,M,Silver\\n1998,Nagano,Skating,Speed skating,CAN,500m,W,Gold\\n1998,Nagano,Skating,Speed skating,CAN,500m,W,Silver\\n1998,Nagano,Skiing,Snowboard,CAN,giant-slalom,M,Gold\\n1998,Nagano,Skating,Figure skating,CHN,individual,W,Bronze\\n1998,Nagano,Skating,Short Track S.,CHN,1000m,M,Silver\\n1998,Nagano,Skating,Short Track S.,CHN,1000m,W,Silver\\n1998,Nagano,Skating,Short Track S.,CHN,3000m relay,W,Silver\\n1998,Nagano,Skating,Short Track S.,CHN,5000m relay,M,Bronze\\n1998,Nagano,Skating,Short Track S.,CHN,500m,M,Silver\\n1998,Nagano,Skating,Short Track S.,CHN,500m,W,Silver\\n1998,Nagano,Skiing,Freestyle Ski.,CHN,aerials,W,Silver\\n1998,Nagano,Ice Hockey,Ice Hockey,CZE,ice hockey,M,Gold\\n1998,Nagano,Skiing,Cross Country S,CZE,5km,W,Silver\\n1998,Nagano,Skiing,Cross Country S,CZE,Combined 5km + 10km pursuit,W,Bronze\\n1998,Nagano,Curling,Curling,DEN,curling,W,Silver\\n1998,Nagano,Biathlon,Biathlon,FIN,10km,M,Bronze\\n1998,Nagano,Ice Hockey,Ice Hockey,FIN,ice hockey,M,Bronze\\n1998,Nagano,Ice Hockey,Ice Hockey,FIN,ice hockey,W,Bronze\\n1998,Nagano,Skiing,Cross Country S,FIN,10km pursuit,M,Bronze\\n1998,Nagano,Skiing,Cross Country S,FIN,30km mass start,M,Gold\\n1998,Nagano,Skiing,Cross Country S,FIN,4x10km relay,M,Bronze\\n1998,Nagano,Skiing,Freestyle Ski.,FIN,moguls,M,Bronze\\n1998,Nagano,Skiing,Freestyle Ski.,FIN,moguls,M,Silver\\n1998,Nagano,Skiing,Nordic Combined,FIN,individual,M,Silver\\n1998,Nagano,Skiing,Nordic Combined,FIN,Team,M,Silver\\n1998,Nagano,Skiing,Ski Jumping,FIN,K120 individual (90m),M,Silver\\n1998,Nagano,Skiing,Ski Jumping,FIN,K90 individual (70m),M,Gold\\n1998,Nagano,Bobsleigh,Bobsleigh,FRA,four-man,M,Bronze\\n1998,Nagano,Skating,Figure skating,FRA,ice dancing,X,Bronze\\n1998,Nagano,Skating,Figure skating,FRA,individual,M,Bronze\\n1998,Nagano,Skiing,Alpine Skiing,FRA,downhill,M,Gold\\n1998,Nagano,Skiing,Alpine Skiing,FRA,downhill,W,Bronze\\n1998,Nagano,Skiing,Freestyle Ski.,FRA,aerials,M,Silver\\n1998,Nagano,Skiing,Nordic Combined,FRA,Team,M,Bronze\\n1998,Nagano,Skiing,Snowboard,FRA,giant-slalom,W,Gold\\n1998,Nagano,Bobsleigh,Bobsleigh,GBR,four-man,M,Bronze\\n1998,Nagano,Biathlon,Biathlon,GER,15km,W,Bronze\\n1998,Nagano,Biathlon,Biathlon,GER,4x7.5km relay,M,Gold\\n1998,Nagano,Biathlon,Biathlon,GER,4x7.5km relay,W,Gold\\n1998,Nagano,Biathlon,Biathlon,GER,7.5km,W,Bronze\\n1998,Nagano,Biathlon,Biathlon,GER,7.5km,W,Silver\\n1998,Nagano,Bobsleigh,Bobsleigh,GER,four-man,M,Gold\\n1998,Nagano,Bobsleigh,Bobsleigh,GER,two-man,M,Bronze\\n1998,Nagano,Luge,Luge,GER,doubles,X,Gold\\n1998,Nagano,Luge,Luge,GER,singles,M,Bronze\\n1998,Nagano,Luge,Luge,GER,singles,M,Gold\\n1998,Nagano,Luge,Luge,GER,singles,W,Gold\\n1998,Nagano,Luge,Luge,GER,singles,W,Silver\\n1998,Nagano,Skating,Figure skating,GER,pairs,X,Bronze\\n1998,Nagano,Skating,Speed skating,GER,1500m,W,Silver\\n1998,Nagano,Skating,Speed skating,GER,3000m,W,Bronze\\n1998,Nagano,Skating,Speed skating,GER,3000m,W,Gold\\n1998,Nagano,Skating,Speed skating,GER,3000m,W,Silver\\n1998,Nagano,Skating,Speed skating,GER,5000m,W,Gold\\n1998,Nagano,Skating,Speed skating,GER,5000m,W,Silver\\n1998,Nagano,Skiing,Alpine Skiing,GER,alpine combined,W,Bronze\\n1998,Nagano,Skiing,Alpine Skiing,GER,alpine combined,W,Gold\\n1998,Nagano,Skiing,Alpine Skiing,GER,alpine combined,W,Silver\\n1998,Nagano,Skiing,Alpine Skiing,GER,downhill,W,Gold\\n1998,Nagano,Skiing,Alpine Skiing,GER,giant slalom,W,Bronze\\n1998,Nagano,Skiing,Alpine Skiing,GER,slalom,W,Gold\\n1998,Nagano,Skiing,Freestyle Ski.,GER,moguls,W,Silver\\n1998,Nagano,Skiing,Ski Jumping,GER,K120 team (90m),M,Silver\\n1998,Nagano,Skiing,Snowboard,GER,giant-slalom,W,Silver\\n1998,Nagano,Skiing,Snowboard,GER,Half-pipe,W,Gold\\n1998,Nagano,Biathlon,Biathlon,ITA,20km,M,Silver\\n1998,Nagano,Bobsleigh,Bobsleigh,ITA,two-man,M,Gold\\n1998,Nagano,Luge,Luge,ITA,singles,M,Silver\\n1998,Nagano,Skiing,Alpine Skiing,ITA,giant slalom,W,Gold\\n1998,Nagano,Skiing,Alpine Skiing,ITA,slalom,W,Silver\\n1998,Nagano,Skiing,Cross Country S,ITA,30km,W,Silver\\n1998,Nagano,Skiing,Cross Country S,ITA,30km mass start,M,Bronze\\n1998,Nagano,Skiing,Cross Country S,ITA,4x10km relay,M,Silver\\n1998,Nagano,Skiing,Cross Country S,ITA,4x5km relay,W,Bronze\\n1998,Nagano,Skiing,Snowboard,ITA,giant-slalom,M,Silver\\n1998,Nagano,Skating,Short Track S.,JPN,500m,M,Bronze\\n1998,Nagano,Skating,Short Track S.,JPN,500m,M,Gold\\n1998,Nagano,Skating,Speed skating,JPN,1000m,M,Bronze\\n1998,Nagano,Skating,Speed skating,JPN,500m,M,Gold\\n1998,Nagano,Skating,Speed skating,JPN,500m,W,Bronze\\n1998,Nagano,Skiing,Freestyle Ski.,JPN,moguls,W,Gold\\n1998,Nagano,Skiing,Ski Jumping,JPN,K120 individual (90m),M,Bronze\\n1998,Nagano,Skiing,Ski Jumping,JPN,K120 individual (90m),M,Gold\\n1998,Nagano,Skiing,Ski Jumping,JPN,K120 team (90m),M,Gold\\n1998,Nagano,Skiing,Ski Jumping,JPN,K90 individual (70m),M,Silver\\n1998,Nagano,Skating,Speed skating,KAZ,5000m,W,Bronze\\n1998,Nagano,Skiing,Cross Country S,KAZ,Combined 10km + 15km pursuit,M,Bronze\\n1998,Nagano,Skating,Short Track S.,KOR,1000m,M,Gold\\n1998,Nagano,Skating,Short Track S.,KOR,1000m,W,Bronze\\n1998,Nagano,Skating,Short Track S.,KOR,1000m,W,Gold\\n1998,Nagano,Skating,Short Track S.,KOR,3000m relay,W,Gold\\n1998,Nagano,Skating,Short Track S.,KOR,5000m relay,M,Silver\\n1998,Nagano,Skating,Short Track S.,KOR,500m,W,Bronze\\n1998,Nagano,Skating,Speed skating,NED,10000m,M,Bronze\\n1998,Nagano,Skating,Speed skating,NED,10000m,M,Gold\\n1998,Nagano,Skating,Speed skating,NED,10000m,M,Silver\\n1998,Nagano,Skating,Speed skating,NED,1000m,M,Gold\\n1998,Nagano,Skating,Speed skating,NED,1000m,M,Silver\\n1998,Nagano,Skating,Speed skating,NED,1000m,W,Gold\\n1998,Nagano,Skating,Speed skating,NED,1500m,M,Bronze\\n1998,Nagano,Skating,Speed skating,NED,1500m,M,Silver\\n1998,Nagano,Skating,Speed skating,NED,1500m,W,Gold\\n1998,Nagano,Skating,Speed skating,NED,5000m,M,Gold\\n1998,Nagano,Skating,Speed skating,NED,5000m,M,Silver\\n1998,Nagano,Biathlon,Biathlon,NOR,10km,M,Gold\\n1998,Nagano,Biathlon,Biathlon,NOR,10km,M,Silver\\n1998,Nagano,Biathlon,Biathlon,NOR,20km,M,Gold\\n1998,Nagano,Biathlon,Biathlon,NOR,4x7.5km relay,M,Silver\\n1998,Nagano,Biathlon,Biathlon,NOR,4x7.5km relay,W,Bronze\\n1998,Nagano,Curling,Curling,NOR,curling,M,Bronze\\n1998,Nagano,Skating,Speed skating,NOR,1500m,M,Gold\\n1998,Nagano,Skiing,Alpine Skiing,NOR,alpine combined,M,Silver\\n1998,Nagano,Skiing,Alpine Skiing,NOR,downhill,M,Silver\\n1998,Nagano,Skiing,Alpine Skiing,NOR,slalom,M,Gold\\n1998,Nagano,Skiing,Alpine Skiing,NOR,slalom,M,Silver\\n1998,Nagano,Skiing,Cross Country S,NOR,10km pursuit,M,Gold\\n1998,Nagano,Skiing,Cross Country S,NOR,15km mass start,W,Bronze\\n1998,Nagano,Skiing,Cross Country S,NOR,30km mass start,M,Silver\\n1998,Nagano,Skiing,Cross Country S,NOR,4x10km relay,M,Gold\\n1998,Nagano,Skiing,Cross Country S,NOR,4x5km relay,W,Silver\\n1998,Nagano,Skiing,Cross Country S,NOR,50km,M,Gold\\n1998,Nagano,Skiing,Cross Country S,NOR,5km,W,Bronze\\n1998,Nagano,Skiing,Cross Country S,NOR,Combined 10km + 15km pursuit,M,Gold\\n1998,Nagano,Skiing,Cross Country S,NOR,Combined 10km + 15km pursuit,M,Silver\\n1998,Nagano,Skiing,Freestyle Ski.,NOR,moguls,W,Bronze\\n1998,Nagano,Skiing,Nordic Combined,NOR,individual,M,Gold\\n1998,Nagano,Skiing,Nordic Combined,NOR,Team,M,Gold\\n1998,Nagano,Skiing,Snowboard,NOR,Half-pipe,M,Silver\\n1998,Nagano,Skiing,Snowboard,NOR,Half-pipe,W,Silver\\n1998,Nagano,Biathlon,Biathlon,RUS,4x7.5km relay,M,Bronze\\n1998,Nagano,Biathlon,Biathlon,RUS,4x7.5km relay,W,Silver\\n1998,Nagano,Biathlon,Biathlon,RUS,7.5km,W,Gold\\n1998,Nagano,Ice Hockey,Ice Hockey,RUS,ice hockey,M,Silver\\n1998,Nagano,Skating,Figure skating,RUS,ice dancing,X,Gold\\n1998,Nagano,Skating,Figure skating,RUS,ice dancing,X,Silver\\n1998,Nagano,Skating,Figure skating,RUS,individual,M,Gold\\n1998,Nagano,Skating,Figure skating,RUS,pairs,X,Gold\\n1998,Nagano,Skating,Figure skating,RUS,pairs,X,Silver\\n1998,Nagano,Skiing,Cross Country S,RUS,15km mass start,W,Gold\\n1998,Nagano,Skiing,Cross Country S,RUS,15km mass start,W,Silver\\n1998,Nagano,Skiing,Cross Country S,RUS,30km,W,Bronze\\n1998,Nagano,Skiing,Cross Country S,RUS,30km,W,Gold\\n1998,Nagano,Skiing,Cross Country S,RUS,4x5km relay,W,Gold\\n1998,Nagano,Skiing,Cross Country S,RUS,5km,W,Gold\\n1998,Nagano,Skiing,Cross Country S,RUS,Combined 5km + 10km pursuit,W,Gold\\n1998,Nagano,Skiing,Cross Country S,RUS,Combined 5km + 10km pursuit,W,Silver\\n1998,Nagano,Skiing,Nordic Combined,RUS,individual,M,Bronze\\n1998,Nagano,Bobsleigh,Bobsleigh,SUI,four-man,M,Silver\\n1998,Nagano,Curling,Curling,SUI,curling,M,Gold\\n1998,Nagano,Skiing,Alpine Skiing,SUI,giant slalom,M,Bronze\\n1998,Nagano,Skiing,Alpine Skiing,SUI,super-G,M,Silver\\n1998,Nagano,Skiing,Freestyle Ski.,SUI,aerials,W,Bronze\\n1998,Nagano,Skiing,Snowboard,SUI,giant-slalom,M,Bronze\\n1998,Nagano,Skiing,Snowboard,SUI,Half-pipe,M,Gold\\n1998,Nagano,Curling,Curling,SWE,curling,W,Bronze\\n1998,Nagano,Skiing,Alpine Skiing,SWE,downhill,W,Silver\\n1998,Nagano,Skiing,Cross Country S,SWE,50km,M,Silver\\n1998,Nagano,Biathlon,Biathlon,UKR,15km,W,Silver\\n1998,Nagano,Ice Hockey,Ice Hockey,USA,ice hockey,W,Gold\\n1998,Nagano,Luge,Luge,USA,doubles,X,Bronze\\n1998,Nagano,Luge,Luge,USA,doubles,X,Silver\\n1998,Nagano,Skating,Figure skating,USA,individual,W,Gold\\n1998,Nagano,Skating,Figure skating,USA,individual,W,Silver\\n1998,Nagano,Skating,Speed skating,USA,1000m,W,Silver\\n1998,Nagano,Skating,Speed skating,USA,1500m,W,Bronze\\n1998,Nagano,Skiing,Alpine Skiing,USA,super-G,W,Gold\\n1998,Nagano,Skiing,Freestyle Ski.,USA,aerials,M,Gold\\n1998,Nagano,Skiing,Freestyle Ski.,USA,aerials,W,Gold\\n1998,Nagano,Skiing,Freestyle Ski.,USA,moguls,M,Gold\\n1998,Nagano,Skiing,Snowboard,USA,Half-pipe,M,Bronze\\n1998,Nagano,Skiing,Snowboard,USA,Half-pipe,W,Bronze\\n2002,Salt Lake City,Skating,Short Track S.,AUS,1000m,M,Gold\\n2002,Salt Lake City,Skiing,Freestyle Ski.,AUS,aerials,W,Gold\\n2002,Salt Lake City,Biathlon,Biathlon,AUT,10km,M,Bronze\\n2002,Salt Lake City,Bobsleigh,Skeleton,AUT,individual,M,Silver\\n2002,Salt Lake City,Luge,Luge,AUT,singles,M,Bronze\\n2002,Salt Lake City,Skiing,Alpine Skiing,AUT,alpine combined,M,Bronze\\n2002,Salt Lake City,Skiing,Alpine Skiing,AUT,alpine combined,W,Silver\\n2002,Salt Lake City,Skiing,Alpine Skiing,AUT,downhill,M,Bronze\\n2002,Salt Lake City,Skiing,Alpine Skiing,AUT,downhill,M,Gold\\n2002,Salt Lake City,Skiing,Alpine Skiing,AUT,downhill,W,Bronze\\n2002,Salt Lake City,Skiing,Alpine Skiing,AUT,giant slalom,M,Gold\\n2002,Salt Lake City,Skiing,Alpine Skiing,AUT,slalom,M,Bronze\\n2002,Salt Lake City,Skiing,Alpine Skiing,AUT,super-G,M,Bronze\\n2002,Salt Lake City,Skiing,Alpine Skiing,AUT,super-G,M,Silver\\n2002,Salt Lake City,Skiing,Cross Country S,AUT,30km mass start,M,Gold\\n2002,Salt Lake City,Skiing,Cross Country S,AUT,30km mass start,M,Silver\\n2002,Salt Lake City,Skiing,Nordic Combined,AUT,individual,M,Bronze\\n2002,Salt Lake City,Skiing,Nordic Combined,AUT,sprint,M,Bronze\\n2002,Salt Lake City,Skiing,Nordic Combined,AUT,Team,M,Bronze\\n2002,Salt Lake City,Skiing,Freestyle Ski.,BLR,aerials,M,Bronze\\n2002,Salt Lake City,Biathlon,Biathlon,BUL,10km pursuit,W,Bronze\\n2002,Salt Lake City,Skating,Short Track S.,BUL,1500m,W,Bronze\\n2002,Salt Lake City,Skating,Short Track S.,BUL,500m,W,Silver\\n2002,Salt Lake City,Curling,Curling,CAN,curling,M,Silver\\n2002,Salt Lake City,Curling,Curling,CAN,curling,W,Bronze\\n2002,Salt Lake City,Ice Hockey,Ice Hockey,CAN,ice hockey,M,Gold\\n2002,Salt Lake City,Ice Hockey,Ice Hockey,CAN,ice hockey,W,Gold\\n2002,Salt Lake City,Skating,Figure skating,CAN,pairs,X,Gold\\n2002,Salt Lake City,Skating,Short Track S.,CAN,1000m,M,Bronze\\n2002,Salt Lake City,Skating,Short Track S.,CAN,1500m,M,Bronze\\n2002,Salt Lake City,Skating,Short Track S.,CAN,3000m relay,W,Bronze\\n2002,Salt Lake City,Skating,Short Track S.,CAN,5000m relay,M,Gold\\n2002,Salt Lake City,Skating,Short Track S.,CAN,500m,M,Gold\\n2002,Salt Lake City,Skating,Short Track S.,CAN,500m,M,Silver\\n2002,Salt Lake City,Skating,Speed skating,CAN,3000m,W,Bronze\\n2002,Salt Lake City,Skating,Speed skating,CAN,5000m,W,Bronze\\n2002,Salt Lake City,Skating,Speed skating,CAN,500m,W,Gold\\n2002,Salt Lake City,Skiing,Cross Country S,CAN,5km pursuit,W,Gold\\n2002,Salt Lake City,Skiing,Freestyle Ski.,CAN,aerials,W,Bronze\\n2002,Salt Lake City,Skiing,Freestyle Ski.,CAN,aerials,W,Silver\\n2002,Salt Lake City,Skating,Figure skating,CHN,pairs,X,Bronze\\n2002,Salt Lake City,Skating,Short Track S.,CHN,1000m,W,Bronze\\n2002,Salt Lake City,Skating,Short Track S.,CHN,1000m,W,Gold\\n2002,Salt Lake City,Skating,Short Track S.,CHN,1500m,M,Silver\\n2002,Salt Lake City,Skating,Short Track S.,CHN,3000m relay,W,Silver\\n2002,Salt Lake City,Skating,Short Track S.,CHN,5000m relay,M,Bronze\\n2002,Salt Lake City,Skating,Short Track S.,CHN,500m,W,Bronze\\n2002,Salt Lake City,Skating,Short Track S.,CHN,500m,W,Gold\\n2002,Salt Lake City,Skiing,Alpine Skiing,CRO,alpine combined,W,Gold\\n2002,Salt Lake City,Skiing,Alpine Skiing,CRO,giant slalom,W,Gold\\n2002,Salt Lake City,Skiing,Alpine Skiing,CRO,slalom,W,Gold\\n2002,Salt Lake City,Skiing,Alpine Skiing,CRO,super-G,W,Silver\\n2002,Salt Lake City,Skiing,Cross Country S,CZE,15km mass start,W,Silver\\n2002,Salt Lake City,Skiing,Cross Country S,CZE,5km pursuit,W,Silver\\n2002,Salt Lake City,Skiing,Freestyle Ski.,CZE,aerials,M,Gold\\n2002,Salt Lake City,Skiing,Cross Country S,EST,15km,M,Bronze\\n2002,Salt Lake City,Skiing,Cross Country S,EST,15km,M,Gold\\n2002,Salt Lake City,Skiing,Cross Country S,EST,50km,M,Silver\\n2002,Salt Lake City,Skiing,Freestyle Ski.,FIN,moguls,M,Gold\\n2002,Salt Lake City,Skiing,Nordic Combined,FIN,individual,M,Gold\\n2002,Salt Lake City,Skiing,Nordic Combined,FIN,individual,M,Silver\\n2002,Salt Lake City,Skiing,Nordic Combined,FIN,sprint,M,Gold\\n2002,Salt Lake City,Skiing,Nordic Combined,FIN,Team,M,Gold\\n2002,Salt Lake City,Skiing,Ski Jumping,FIN,K120 individual (90m),M,Bronze\\n2002,Salt Lake City,Skiing,Ski Jumping,FIN,K120 team (90m),M,Silver\\n2002,Salt Lake City,Biathlon,Biathlon,FRA,12.5km pursuit,M,Silver\\n2002,Salt Lake City,Biathlon,Biathlon,FRA,4x7.5km relay,M,Bronze\\n2002,Salt Lake City,Skating,Figure skating,FRA,ice dancing,X,Gold\\n2002,Salt Lake City,Skiing,Alpine Skiing,FRA,downhill,W,Gold\\n2002,Salt Lake City,Skiing,Alpine Skiing,FRA,slalom,M,Gold\\n2002,Salt Lake City,Skiing,Alpine Skiing,FRA,slalom,M,Silver\\n2002,Salt Lake City,Skiing,Alpine Skiing,FRA,slalom,W,Silver\\n2002,Salt Lake City,Skiing,Freestyle Ski.,FRA,moguls,M,Bronze\\n2002,Salt Lake City,Skiing,Snowboard,FRA,Giant parallel slalom,W,Gold\\n2002,Salt Lake City,Skiing,Snowboard,FRA,Giant parallel slalom,W,Silver\\n2002,Salt Lake City,Skiing,Snowboard,FRA,Half-pipe,W,Silver\\n2002,Salt Lake City,Bobsleigh,Skeleton,GBR,individual,W,Bronze\\n2002,Salt Lake City,Curling,Curling,GBR,curling,W,Gold\\n2002,Salt Lake City,Biathlon,Biathlon,GER,10km,M,Silver\\n2002,Salt Lake City,Biathlon,Biathlon,GER,10km pursuit,W,Silver\\n2002,Salt Lake City,Biathlon,Biathlon,GER,12.5km pursuit,M,Bronze\\n2002,Salt Lake City,Biathlon,Biathlon,GER,15km,W,Gold\\n2002,Salt Lake City,Biathlon,Biathlon,GER,20km,M,Silver\\n2002,Salt Lake City,Biathlon,Biathlon,GER,4x7.5km relay,M,Silver\\n2002,Salt Lake City,Biathlon,Biathlon,GER,4x7.5km relay,W,Gold\\n2002,Salt Lake City,Biathlon,Biathlon,GER,7.5km,W,Gold\\n2002,Salt Lake City,Biathlon,Biathlon,GER,7.5km,W,Silver\\n2002,Salt Lake City,Bobsleigh,Bobsleigh,GER,four-man,M,Gold\\n2002,Salt Lake City,Bobsleigh,Bobsleigh,GER,two-man,M,Gold\\n2002,Salt Lake City,Bobsleigh,Bobsleigh,GER,two-man,W,Bronze\\n2002,Salt Lake City,Bobsleigh,Bobsleigh,GER,two-man,W,Silver\\n2002,Salt Lake City,Luge,Luge,GER,doubles,X,Gold\\n2002,Salt Lake City,Luge,Luge,GER,singles,M,Silver\\n2002,Salt Lake City,Luge,Luge,GER,singles,W,Bronze\\n2002,Salt Lake City,Luge,Luge,GER,singles,W,Gold\\n2002,Salt Lake City,Luge,Luge,GER,singles,W,Silver\\n2002,Salt Lake City,Skating,Speed skating,GER,1000m,W,Silver\\n2002,Salt Lake City,Skating,Speed skating,GER,1500m,W,Gold\\n2002,Salt Lake City,Skating,Speed skating,GER,1500m,W,Silver\\n2002,Salt Lake City,Skating,Speed skating,GER,3000m,W,Gold\\n2002,Salt Lake City,Skating,Speed skating,GER,5000m,M,Bronze\\n2002,Salt Lake City,Skating,Speed skating,GER,5000m,W,Gold\\n2002,Salt Lake City,Skating,Speed skating,GER,500m,W,Bronze\\n2002,Salt Lake City,Skating,Speed skating,GER,500m,W,Silver\\n2002,Salt Lake City,Skiing,Alpine Skiing,GER,alpine combined,W,Bronze\\n2002,Salt Lake City,Skiing,Cross Country S,GER,4x10km relay,M,Bronze\\n2002,Salt Lake City,Skiing,Cross Country S,GER,4x5km relay,W,Gold\\n2002,Salt Lake City,Skiing,Cross Country S,GER,5km pursuit,W,Bronze\\n2002,Salt Lake City,Skiing,Cross Country S,GER,Sprint 1.5km,M,Silver\\n2002,Salt Lake City,Skiing,Cross Country S,GER,Sprint 1.5km,W,Silver\\n2002,Salt Lake City,Skiing,Nordic Combined,GER,sprint,M,Silver\\n2002,Salt Lake City,Skiing,Nordic Combined,GER,Team,M,Silver\\n2002,Salt Lake City,Skiing,Ski Jumping,GER,K120 team (90m),M,Gold\\n2002,Salt Lake City,Skiing,Ski Jumping,GER,K90 individual (70m),M,Silver\\n2002,Salt Lake City,Luge,Luge,ITA,singles,M,Gold\\n2002,Salt Lake City,Skating,Figure skating,ITA,ice dancing,X,Bronze\\n2002,Salt Lake City,Skating,Short Track S.,ITA,5000m relay,M,Silver\\n2002,Salt Lake City,Skiing,Alpine Skiing,ITA,downhill,W,Silver\\n2002,Salt Lake City,Skiing,Alpine Skiing,ITA,super-G,W,Bronze\\n2002,Salt Lake City,Skiing,Alpine Skiing,ITA,super-G,W,Gold\\n2002,Salt Lake City,Skiing,Cross Country S,ITA,10km,W,Bronze\\n2002,Salt Lake City,Skiing,Cross Country S,ITA,15km mass start,W,Gold\\n2002,Salt Lake City,Skiing,Cross Country S,ITA,30km,W,Gold\\n2002,Salt Lake City,Skiing,Cross Country S,ITA,30km,W,Silver\\n2002,Salt Lake City,Skiing,Cross Country S,ITA,4x10km relay,M,Silver\\n2002,Salt Lake City,Skiing,Cross Country S,ITA,Sprint 1.5km,M,Bronze\\n2002,Salt Lake City,Skiing,Snowboard,ITA,Giant parallel slalom,W,Bronze\\n2002,Salt Lake City,Skating,Speed skating,JPN,500m,M,Silver\\n2002,Salt Lake City,Skiing,Freestyle Ski.,JPN,moguls,W,Bronze\\n2002,Salt Lake City,Skating,Short Track S.,KOR,1000m,W,Silver\\n2002,Salt Lake City,Skating,Short Track S.,KOR,1500m,W,Gold\\n2002,Salt Lake City,Skating,Short Track S.,KOR,1500m,W,Silver\\n2002,Salt Lake City,Skating,Short Track S.,KOR,3000m relay,W,Gold\\n2002,Salt Lake City,Skating,Speed skating,NED,10000m,M,Gold\\n2002,Salt Lake City,Skating,Speed skating,NED,10000m,M,Silver\\n2002,Salt Lake City,Skating,Speed skating,NED,1000m,M,Gold\\n2002,Salt Lake City,Skating,Speed skating,NED,1000m,M,Silver\\n2002,Salt Lake City,Skating,Speed skating,NED,1500m,M,Silver\\n2002,Salt Lake City,Skating,Speed skating,NED,3000m,W,Silver\\n2002,Salt Lake City,Skating,Speed skating,NED,5000m,M,Gold\\n2002,Salt Lake City,Skating,Speed skating,NED,5000m,W,Silver\\n2002,Salt Lake City,Biathlon,Biathlon,NOR,10km,M,Gold\\n2002,Salt Lake City,Biathlon,Biathlon,NOR,12.5km pursuit,M,Gold\\n2002,Salt Lake City,Biathlon,Biathlon,NOR,15km,W,Silver\\n2002,Salt Lake City,Biathlon,Biathlon,NOR,20km,M,Gold\\n2002,Salt Lake City,Biathlon,Biathlon,NOR,4x7.5km relay,M,Gold\\n2002,Salt Lake City,Biathlon,Biathlon,NOR,4x7.5km relay,W,Silver\\n2002,Salt Lake City,Curling,Curling,NOR,curling,M,Gold\\n2002,Salt Lake City,Skating,Speed skating,NOR,10000m,M,Bronze\\n2002,Salt Lake City,Skating,Speed skating,NOR,1500m,M,Bronze\\n2002,Salt Lake City,Skiing,Alpine Skiing,NOR,alpine combined,M,Gold\\n2002,Salt Lake City,Skiing,Alpine Skiing,NOR,downhill,M,Silver\\n2002,Salt Lake City,Skiing,Alpine Skiing,NOR,giant slalom,M,Bronze\\n2002,Salt Lake City,Skiing,Alpine Skiing,NOR,super-G,M,Gold\\n2002,Salt Lake City,Skiing,Cross Country S,NOR,10km,W,Gold\\n2002,Salt Lake City,Skiing,Cross Country S,NOR,10km pursuit,M,Gold\\n2002,Salt Lake City,Skiing,Cross Country S,NOR,10km pursuit,M,Gold\\n2002,Salt Lake City,Skiing,Cross Country S,NOR,15km,M,Silver\\n2002,Salt Lake City,Skiing,Cross Country S,NOR,30km,W,Bronze\\n2002,Salt Lake City,Skiing,Cross Country S,NOR,30km mass start,M,Bronze\\n2002,Salt Lake City,Skiing,Cross Country S,NOR,4x10km relay,M,Gold\\n2002,Salt Lake City,Skiing,Cross Country S,NOR,4x5km relay,W,Silver\\n2002,Salt Lake City,Skiing,Cross Country S,NOR,50km,M,Bronze\\n2002,Salt Lake City,Skiing,Cross Country S,NOR,Sprint 1.5km,M,Gold\\n2002,Salt Lake City,Skiing,Cross Country S,NOR,Sprint 1.5km,W,Bronze\\n2002,Salt Lake City,Skiing,Freestyle Ski.,NOR,moguls,W,Gold\\n2002,Salt Lake City,Skiing,Ski Jumping,POL,K120 individual (90m),M,Silver\\n2002,Salt Lake City,Skiing,Ski Jumping,POL,K90 individual (70m),M,Bronze\\n2002,Salt Lake City,Biathlon,Biathlon,RUS,10km pursuit,W,Gold\\n2002,Salt Lake City,Biathlon,Biathlon,RUS,20km,M,Bronze\\n2002,Salt Lake City,Biathlon,Biathlon,RUS,4x7.5km relay,W,Bronze\\n2002,Salt Lake City,Ice Hockey,Ice Hockey,RUS,ice hockey,M,Bronze\\n2002,Salt Lake City,Skating,Figure skating,RUS,ice dancing,X,Silver\\n2002,Salt Lake City,Skating,Figure skating,RUS,individual,M,Gold\\n2002,Salt Lake City,Skating,Figure skating,RUS,individual,M,Silver\\n2002,Salt Lake City,Skating,Figure skating,RUS,individual,W,Silver\\n2002,Salt Lake City,Skating,Figure skating,RUS,pairs,X,Gold\\n2002,Salt Lake City,Skiing,Cross Country S,RUS,10km,W,Silver\\n2002,Salt Lake City,Skiing,Cross Country S,RUS,15km mass start,W,Bronze\\n2002,Salt Lake City,Skiing,Cross Country S,RUS,50km,M,Gold\\n2002,Salt Lake City,Skiing,Cross Country S,RUS,sprint 1.5km,W,Gold\\n2002,Salt Lake City,Skiing,Ski Jumping,SLO,K120 team (90m),M,Bronze\\n2002,Salt Lake City,Bobsleigh,Bobsleigh,SUI,two-man,M,Bronze\\n2002,Salt Lake City,Bobsleigh,Bobsleigh,SUI,two-man,M,Silver\\n2002,Salt Lake City,Bobsleigh,Skeleton,SUI,individual,M,Bronze\\n2002,Salt Lake City,Curling,Curling,SUI,curling,M,Bronze\\n2002,Salt Lake City,Curling,Curling,SUI,curling,W,Silver\\n2002,Salt Lake City,Skiing,Alpine Skiing,SUI,giant slalom,W,Bronze\\n2002,Salt Lake City,Skiing,Cross Country S,SUI,4x5km relay,W,Bronze\\n2002,Salt Lake City,Skiing,Ski Jumping,SUI,K120 individual (90m),M,Gold\\n2002,Salt Lake City,Skiing,Ski Jumping,SUI,K90 individual (70m),M,Gold\\n2002,Salt Lake City,Skiing,Snowboard,SUI,Giant parallel slalom,M,Gold\\n2002,Salt Lake City,Skiing,Snowboard,SUI,Half-pipe,W,Bronze\\n2002,Salt Lake City,Biathlon,Biathlon,SWE,15km,W,Bronze\\n2002,Salt Lake City,Biathlon,Biathlon,SWE,7.5km,W,Bronze\\n2002,Salt Lake City,Ice Hockey,Ice Hockey,SWE,ice hockey,W,Bronze\\n2002,Salt Lake City,Skiing,Alpine Skiing,SWE,giant slalom,W,Silver\\n2002,Salt Lake City,Skiing,Alpine Skiing,SWE,slalom,W,Bronze\\n2002,Salt Lake City,Skiing,Cross Country S,SWE,10km pursuit,M,Bronze\\n2002,Salt Lake City,Skiing,Snowboard,SWE,Giant parallel slalom,M,Silver\\n2002,Salt Lake City,Bobsleigh,Bobsleigh,USA,four-man,M,Bronze\\n2002,Salt Lake City,Bobsleigh,Bobsleigh,USA,four-man,M,Silver\\n2002,Salt Lake City,Bobsleigh,Bobsleigh,USA,two-man,W,Gold\\n2002,Salt Lake City,Bobsleigh,Skeleton,USA,individual,M,Gold\\n2002,Salt Lake City,Bobsleigh,Skeleton,USA,individual,W,Gold\\n2002,Salt Lake City,Bobsleigh,Skeleton,USA,individual,W,Silver\\n2002,Salt Lake City,Ice Hockey,Ice Hockey,USA,ice hockey,M,Silver\\n2002,Salt Lake City,Ice Hockey,Ice Hockey,USA,ice hockey,W,Silver\\n2002,Salt Lake City,Luge,Luge,USA,doubles,X,Bronze\\n2002,Salt Lake City,Luge,Luge,USA,doubles,X,Silver\\n2002,Salt Lake City,Skating,Figure skating,USA,individual,M,Bronze\\n2002,Salt Lake City,Skating,Figure skating,USA,individual,W,Bronze\\n2002,Salt Lake City,Skating,Figure skating,USA,individual,W,Gold\\n2002,Salt Lake City,Skating,Short Track S.,USA,1000m,M,Silver\\n2002,Salt Lake City,Skating,Short Track S.,USA,1500m,M,Gold\\n2002,Salt Lake City,Skating,Short Track S.,USA,500m,M,Bronze\\n2002,Salt Lake City,Skating,Speed skating,USA,1000m,M,Bronze\\n2002,Salt Lake City,Skating,Speed skating,USA,1000m,W,Bronze\\n2002,Salt Lake City,Skating,Speed skating,USA,1000m,W,Gold\\n2002,Salt Lake City,Skating,Speed skating,USA,1500m,M,Gold\\n2002,Salt Lake City,Skating,Speed skating,USA,1500m,W,Bronze\\n2002,Salt Lake City,Skating,Speed skating,USA,5000m,M,Silver\\n2002,Salt Lake City,Skating,Speed skating,USA,500m,M,Bronze\\n2002,Salt Lake City,Skating,Speed skating,USA,500m,M,Gold\\n2002,Salt Lake City,Skiing,Alpine Skiing,USA,alpine combined,M,Silver\\n2002,Salt Lake City,Skiing,Alpine Skiing,USA,giant slalom,M,Silver\\n2002,Salt Lake City,Skiing,Freestyle Ski.,USA,aerials,M,Silver\\n2002,Salt Lake City,Skiing,Freestyle Ski.,USA,moguls,M,Silver\\n2002,Salt Lake City,Skiing,Freestyle Ski.,USA,moguls,W,Silver\\n2002,Salt Lake City,Skiing,Snowboard,USA,Giant parallel slalom,M,Bronze\\n2002,Salt Lake City,Skiing,Snowboard,USA,Half-pipe,M,Bronze\\n2002,Salt Lake City,Skiing,Snowboard,USA,Half-pipe,M,Gold\\n2002,Salt Lake City,Skiing,Snowboard,USA,Half-pipe,M,Silver\\n2002,Salt Lake City,Skiing,Snowboard,USA,Half-pipe,W,Gold\\n2006,Turin,Skiing,Freestyle Ski.,AUS,aerials,W,Bronze\\n2006,Turin,Skiing,Freestyle Ski.,AUS,moguls,M,Gold\\n2006,Turin,Luge,Luge,AUT,doubles,X,Gold\\n2006,Turin,Skiing,Alpine Skiing,AUT,Alpine combined,M,Bronze\\n2006,Turin,Skiing,Alpine Skiing,AUT,Alpine combined,W,Silver\\n2006,Turin,Skiing,Alpine Skiing,AUT,downhill,M,Silver\\n2006,Turin,Skiing,Alpine Skiing,AUT,downhill,W,Gold\\n2006,Turin,Skiing,Alpine Skiing,AUT,giant slalom,M,Bronze\\n2006,Turin,Skiing,Alpine Skiing,AUT,giant slalom,M,Gold\\n2006,Turin,Skiing,Alpine Skiing,AUT,slalom,M,Bronze\\n2006,Turin,Skiing,Alpine Skiing,AUT,slalom,M,Gold\\n2006,Turin,Skiing,Alpine Skiing,AUT,slalom,M,Silver\\n2006,Turin,Skiing,Alpine Skiing,AUT,slalom,W,Bronze\\n2006,Turin,Skiing,Alpine Skiing,AUT,slalom,W,Silver\\n2006,Turin,Skiing,Alpine Skiing,AUT,super-G,M,Silver\\n2006,Turin,Skiing,Alpine Skiing,AUT,super-G,W,Bronze\\n2006,Turin,Skiing,Alpine Skiing,AUT,super-G,W,Gold\\n2006,Turin,Skiing,Cross Country S,AUT,50km,M,Bronze\\n2006,Turin,Skiing,Nordic Combined,AUT,Individual,M,Silver\\n2006,Turin,Skiing,Nordic Combined,AUT,Individual sprint,M,Gold\\n2006,Turin,Skiing,Nordic Combined,AUT,Team,M,Gold\\n2006,Turin,Skiing,Ski Jumping,AUT,K120 individual (90m),M,Gold\\n2006,Turin,Skiing,Ski Jumping,AUT,K120 individual (90m),M,Silver\\n2006,Turin,Skiing,Ski Jumping,AUT,K120 team (90m),M,Gold\\n2006,Turin,Skiing,Snowboard,AUT,Giant parallel slalom,M,Bronze\\n2006,Turin,Skiing,Freestyle Ski.,BLR,aerials,M,Silver\\n2006,Turin,Skating,Short Track S.,BUL,500m,W,Silver\\n2006,Turin,Bobsleigh,Bobsleigh,CAN,two-man,M,Silver\\n2006,Turin,Bobsleigh,Skeleton,CAN,individual,M,Gold\\n2006,Turin,Bobsleigh,Skeleton,CAN,individual,M,Silver\\n2006,Turin,Bobsleigh,Skeleton,CAN,individual,W,Bronze\\n2006,Turin,Curling,Curling,CAN,curling,M,Gold\\n2006,Turin,Curling,Curling,CAN,curling,W,Bronze\\n2006,Turin,Ice Hockey,Ice Hockey,CAN,ice hockey,W,Gold\\n2006,Turin,Skating,Figure skating,CAN,individual,M,Bronze\\n2006,Turin,Skating,Short Track S.,CAN,3000m relay,W,Silver\\n2006,Turin,Skating,Short Track S.,CAN,5000m relay,M,Silver\\n2006,Turin,Skating,Short Track S.,CAN,500m,M,Silver\\n2006,Turin,Skating,Short Track S.,CAN,500m,W,Bronze\\n2006,Turin,Skating,Speed skating,CAN,1000m,W,Silver\\n2006,Turin,Skating,Speed skating,CAN,1500m,W,Gold\\n2006,Turin,Skating,Speed skating,CAN,1500m,W,Silver\\n2006,Turin,Skating,Speed skating,CAN,3000m,W,Bronze\\n2006,Turin,Skating,Speed skating,CAN,5000m,W,Bronze\\n2006,Turin,Skating,Speed skating,CAN,5000m,W,Gold\\n2006,Turin,Skating,Speed skating,CAN,Team pursuit,M,Silver\\n2006,Turin,Skating,Speed skating,CAN,Team pursuit,W,Silver\\n2006,Turin,Skiing,Cross Country S,CAN,Sprint 1.5km,W,Gold\\n2006,Turin,Skiing,Cross Country S,CAN,Team sprint,W,Silver\\n2006,Turin,Skiing,Freestyle Ski.,CAN,moguls,W,Gold\\n2006,Turin,Skiing,Snowboard,CAN,Snowboard Cross,W,Bronze\\n2006,Turin,Skating,Figure skating,CHN,pairs,X,Bronze\\n2006,Turin,Skating,Figure skating,CHN,pairs,X,Silver\\n2006,Turin,Skating,Short Track S.,CHN,1000m,W,Bronze\\n2006,Turin,Skating,Short Track S.,CHN,1000m,W,Silver\\n2006,Turin,Skating,Short Track S.,CHN,1500m,M,Bronze\\n2006,Turin,Skating,Short Track S.,CHN,1500m,W,Bronze\\n2006,Turin,Skating,Short Track S.,CHN,500m,W,Gold\\n2006,Turin,Skating,Speed skating,CHN,500m,W,Bronze\\n2006,Turin,Skating,Speed skating,CHN,500m,W,Silver\\n2006,Turin,Skiing,Freestyle Ski.,CHN,aerials,M,Gold\\n2006,Turin,Skiing,Freestyle Ski.,CHN,aerials,W,Silver\\n2006,Turin,Skiing,Alpine Skiing,CRO,Alpine combined,M,Silver\\n2006,Turin,Skiing,Alpine Skiing,CRO,Alpine combined,W,Gold\\n2006,Turin,Skiing,Alpine Skiing,CRO,super-G,W,Silver\\n2006,Turin,Ice Hockey,Ice Hockey,CZE,ice hockey,M,Bronze\\n2006,Turin,Skiing,Cross Country S,CZE,15km,M,Silver\\n2006,Turin,Skiing,Cross Country S,CZE,30km,W,Gold\\n2006,Turin,Skiing,Cross Country S,CZE,Combined 7.5 + 7.5km mass start,W,Silver\\n2006,Turin,Skiing,Cross Country S,EST,10km,W,Gold\\n2006,Turin,Skiing,Cross Country S,EST,15km,M,Gold\\n2006,Turin,Skiing,Cross Country S,EST,Combined 7.5 + 7.5km mass start,W,Gold\\n2006,Turin,Curling,Curling,FIN,curling,M,Silver\\n2006,Turin,Ice Hockey,Ice Hockey,FIN,ice hockey,M,Silver\\n2006,Turin,Skiing,Alpine Skiing,FIN,giant slalom,W,Silver\\n2006,Turin,Skiing,Cross Country S,FIN,Team sprint,W,Bronze\\n2006,Turin,Skiing,Freestyle Ski.,FIN,moguls,M,Silver\\n2006,Turin,Skiing,Nordic Combined,FIN,Team,M,Bronze\\n2006,Turin,Skiing,Ski Jumping,FIN,K120 team (90m),M,Silver\\n2006,Turin,Skiing,Ski Jumping,FIN,K90 individual (70m),M,Silver\\n2006,Turin,Skiing,Snowboard,FIN,Half-pipe,M,Bronze\\n2006,Turin,Biathlon,Biathlon,FRA,12.5km pursuit,M,Gold\\n2006,Turin,Biathlon,Biathlon,FRA,4x6km relay,W,Bronze\\n2006,Turin,Biathlon,Biathlon,FRA,4x7.5km relay,M,Bronze\\n2006,Turin,Biathlon,Biathlon,FRA,7.5km,W,Gold\\n2006,Turin,Skiing,Alpine Skiing,FRA,downhill,M,Gold\\n2006,Turin,Skiing,Alpine Skiing,FRA,giant slalom,M,Silver\\n2006,Turin,Skiing,Cross Country S,FRA,Sprint 1.5km,M,Silver\\n2006,Turin,Skiing,Freestyle Ski.,FRA,moguls,W,Bronze\\n2006,Turin,Skiing,Snowboard,FRA,Snowboard Cross,M,Bronze\\n2006,Turin,Bobsleigh,Skeleton,GBR,individual,W,Silver\\n2006,Turin,Biathlon,Biathlon,GER,10km,M,Gold\\n2006,Turin,Biathlon,Biathlon,GER,10km pursuit,W,Gold\\n2006,Turin,Biathlon,Biathlon,GER,10km pursuit,W,Silver\\n2006,Turin,Biathlon,Biathlon,GER,12.5km mass start,W,Bronze\\n2006,Turin,Biathlon,Biathlon,GER,12.5km mass start,W,Silver\\n2006,Turin,Biathlon,Biathlon,GER,12.5km pursuit,M,Bronze\\n2006,Turin,Biathlon,Biathlon,GER,15km,W,Silver\\n2006,Turin,Biathlon,Biathlon,GER,15km mass start,M,Gold\\n2006,Turin,Biathlon,Biathlon,GER,20km,M,Gold\\n2006,Turin,Biathlon,Biathlon,GER,4x6km relay,W,Silver\\n2006,Turin,Biathlon,Biathlon,GER,4x7.5km relay,M,Gold\\n2006,Turin,Bobsleigh,Bobsleigh,GER,four-man,M,Gold\\n2006,Turin,Bobsleigh,Bobsleigh,GER,two-man,M,Gold\\n2006,Turin,Bobsleigh,Bobsleigh,GER,two-man,W,Gold\\n2006,Turin,Luge,Luge,GER,doubles,X,Silver\\n2006,Turin,Luge,Luge,GER,singles,W,Bronze\\n2006,Turin,Luge,Luge,GER,singles,W,Gold\\n2006,Turin,Luge,Luge,GER,singles,W,Silver\\n2006,Turin,Skating,Speed skating,GER,1000m,W,Bronze\\n2006,Turin,Skating,Speed skating,GER,5000m,W,Silver\\n2006,Turin,Skating,Speed skating,GER,Team pursuit,W,Gold\\n2006,Turin,Skiing,Cross Country S,GER,15km,M,Bronze\\n2006,Turin,Skiing,Cross Country S,GER,4x10km relay,M,Silver\\n2006,Turin,Skiing,Cross Country S,GER,4x5km relay,W,Silver\\n2006,Turin,Skiing,Cross Country S,GER,sprint 1.5km,W,Silver\\n2006,Turin,Skiing,Nordic Combined,GER,Individual,M,Gold\\n2006,Turin,Skiing,Nordic Combined,GER,Individual sprint,M,Bronze\\n2006,Turin,Skiing,Nordic Combined,GER,Team,M,Silver\\n2006,Turin,Skiing,Snowboard,GER,Giant parallel slalom,W,Silver\\n2006,Turin,Bobsleigh,Bobsleigh,ITA,two-man,W,Bronze\\n2006,Turin,Luge,Luge,ITA,doubles,X,Bronze\\n2006,Turin,Luge,Luge,ITA,singles,M,Gold\\n2006,Turin,Skating,Short Track S.,ITA,3000m relay,W,Bronze\\n2006,Turin,Skating,Speed skating,ITA,1500m,M,Gold\\n2006,Turin,Skating,Speed skating,ITA,5000m,M,Bronze\\n2006,Turin,Skating,Speed skating,ITA,Team pursuit,M,Gold\\n2006,Turin,Skiing,Cross Country S,ITA,4x10km relay,M,Gold\\n2006,Turin,Skiing,Cross Country S,ITA,4x5km relay,W,Bronze\\n2006,Turin,Skiing,Cross Country S,ITA,50km,M,Gold\\n2006,Turin,Skiing,Cross Country S,ITA,Combined 15 + 15km mass start,M,Bronze\\n2006,Turin,Skating,Figure skating,JPN,individual,W,Gold\\n2006,Turin,Skating,Short Track S.,KOR,1000m,M,Gold\\n2006,Turin,Skating,Short Track S.,KOR,1000m,M,Silver\\n2006,Turin,Skating,Short Track S.,KOR,1000m,W,Gold\\n2006,Turin,Skating,Short Track S.,KOR,1500m,M,Gold\\n2006,Turin,Skating,Short Track S.,KOR,1500m,M,Silver\\n2006,Turin,Skating,Short Track S.,KOR,1500m,W,Gold\\n2006,Turin,Skating,Short Track S.,KOR,1500m,W,Silver\\n2006,Turin,Skating,Short Track S.,KOR,3000m relay,W,Gold\\n2006,Turin,Skating,Short Track S.,KOR,5000m relay,M,Gold\\n2006,Turin,Skating,Short Track S.,KOR,500m,M,Bronze\\n2006,Turin,Skating,Speed skating,KOR,500m,M,Bronze\\n2006,Turin,Luge,Luge,LAT,singles,M,Bronze\\n2006,Turin,Skating,Speed skating,NED,10000m,M,Bronze\\n2006,Turin,Skating,Speed skating,NED,10000m,M,Gold\\n2006,Turin,Skating,Speed skating,NED,1000m,M,Bronze\\n2006,Turin,Skating,Speed skating,NED,1000m,W,Gold\\n2006,Turin,Skating,Speed skating,NED,1500m,W,Bronze\\n2006,Turin,Skating,Speed skating,NED,3000m,W,Gold\\n2006,Turin,Skating,Speed skating,NED,3000m,W,Silver\\n2006,Turin,Skating,Speed skating,NED,5000m,M,Silver\\n2006,Turin,Skating,Speed skating,NED,Team pursuit,M,Bronze\\n2006,Turin,Biathlon,Biathlon,NOR,10km,M,Bronze\\n2006,Turin,Biathlon,Biathlon,NOR,10km,M,Silver\\n2006,Turin,Biathlon,Biathlon,NOR,12.5km pursuit,M,Silver\\n2006,Turin,Biathlon,Biathlon,NOR,15km mass start,M,Bronze\\n2006,Turin,Biathlon,Biathlon,NOR,20km,M,Bronze\\n2006,Turin,Biathlon,Biathlon,NOR,20km,M,Silver\\n2006,Turin,Skiing,Alpine Skiing,NOR,super-G,M,Gold\\n2006,Turin,Skiing,Cross Country S,NOR,10km,W,Bronze\\n2006,Turin,Skiing,Cross Country S,NOR,10km,W,Silver\\n2006,Turin,Skiing,Cross Country S,NOR,Combined 15 + 15km mass start,M,Silver\\n2006,Turin,Skiing,Cross Country S,NOR,Team sprint,M,Silver\\n2006,Turin,Skiing,Freestyle Ski.,NOR,moguls,W,Silver\\n2006,Turin,Skiing,Nordic Combined,NOR,Individual,M,Bronze\\n2006,Turin,Skiing,Nordic Combined,NOR,Individual sprint,M,Silver\\n2006,Turin,Skiing,Ski Jumping,NOR,K120 individual (90m),M,Bronze\\n2006,Turin,Skiing,Ski Jumping,NOR,K120 team (90m),M,Bronze\\n2006,Turin,Skiing,Ski Jumping,NOR,K90 individual (70m),M,Bronze\\n2006,Turin,Skiing,Ski Jumping,NOR,K90 individual (70m),M,Gold\\n2006,Turin,Skiing,Snowboard,NOR,Half-pipe,W,Bronze\\n2006,Turin,Biathlon,Biathlon,POL,15km mass start,M,Silver\\n2006,Turin,Skiing,Cross Country S,POL,30km,W,Bronze\\n2006,Turin,Biathlon,Biathlon,RUS,10km pursuit,W,Bronze\\n2006,Turin,Biathlon,Biathlon,RUS,15km,W,Bronze\\n2006,Turin,Biathlon,Biathlon,RUS,15km,W,Gold\\n2006,Turin,Biathlon,Biathlon,RUS,4x6km relay,W,Gold\\n2006,Turin,Biathlon,Biathlon,RUS,4x7.5km relay,M,Silver\\n2006,Turin,Bobsleigh,Bobsleigh,RUS,four-man,M,Silver\\n2006,Turin,Luge,Luge,RUS,singles,M,Silver\\n2006,Turin,Skating,Figure skating,RUS,ice dancing,X,Gold\\n2006,Turin,Skating,Figure skating,RUS,individual,M,Gold\\n2006,Turin,Skating,Figure skating,RUS,individual,W,Bronze\\n2006,Turin,Skating,Figure skating,RUS,pairs,X,Gold\\n2006,Turin,Skating,Speed skating,RUS,500m,M,Silver\\n2006,Turin,Skating,Speed skating,RUS,500m,W,Gold\\n2006,Turin,Skating,Speed skating,RUS,Team pursuit,W,Bronze\\n2006,Turin,Skiing,Cross Country S,RUS,30km,W,Silver\\n2006,Turin,Skiing,Cross Country S,RUS,4x5km relay,W,Gold\\n2006,Turin,Skiing,Cross Country S,RUS,50km,M,Silver\\n2006,Turin,Skiing,Cross Country S,RUS,Combined 15 + 15km mass start,M,Gold\\n2006,Turin,Skiing,Cross Country S,RUS,Combined 7.5 + 7.5km mass start,W,Bronze\\n2006,Turin,Skiing,Cross Country S,RUS,sprint 1.5km,W,Bronze\\n2006,Turin,Skiing,Cross Country S,RUS,Team sprint,M,Bronze\\n2006,Turin,Skiing,Freestyle Ski.,RUS,aerials,M,Bronze\\n2006,Turin,Bobsleigh,Bobsleigh,SUI,four-man,M,Bronze\\n2006,Turin,Bobsleigh,Bobsleigh,SUI,two-man,M,Bronze\\n2006,Turin,Bobsleigh,Skeleton,SUI,individual,M,Bronze\\n2006,Turin,Bobsleigh,Skeleton,SUI,individual,W,Gold\\n2006,Turin,Curling,Curling,SUI,curling,W,Silver\\n2006,Turin,Skating,Figure skating,SUI,individual,M,Silver\\n2006,Turin,Skiing,Alpine Skiing,SUI,downhill,M,Bronze\\n2006,Turin,Skiing,Alpine Skiing,SUI,downhill,W,Silver\\n2006,Turin,Skiing,Alpine Skiing,SUI,super-G,M,Bronze\\n2006,Turin,Skiing,Freestyle Ski.,SUI,aerials,W,Gold\\n2006,Turin,Skiing,Snowboard,SUI,Giant parallel slalom,M,Gold\\n2006,Turin,Skiing,Snowboard,SUI,Giant parallel slalom,M,Silver\\n2006,Turin,Skiing,Snowboard,SUI,Giant parallel slalom,W,Gold\\n2006,Turin,Skiing,Snowboard,SUI,Snowboard Cross,W,Gold\\n2006,Turin,Skiing,Snowboard,SVK,Snowboard Cross,M,Silver\\n2006,Turin,Biathlon,Biathlon,SWE,12.5km mass start,W,Gold\\n2006,Turin,Biathlon,Biathlon,SWE,7.5km,W,Silver\\n2006,Turin,Curling,Curling,SWE,curling,W,Gold\\n2006,Turin,Ice Hockey,Ice Hockey,SWE,ice hockey,M,Gold\\n2006,Turin,Ice Hockey,Ice Hockey,SWE,ice hockey,W,Silver\\n2006,Turin,Skiing,Alpine Skiing,SWE,Alpine combined,W,Bronze\\n2006,Turin,Skiing,Alpine Skiing,SWE,downhill,W,Bronze\\n2006,Turin,Skiing,Alpine Skiing,SWE,giant slalom,W,Bronze\\n2006,Turin,Skiing,Alpine Skiing,SWE,slalom,W,Gold\\n2006,Turin,Skiing,Cross Country S,SWE,4x10km relay,M,Bronze\\n2006,Turin,Skiing,Cross Country S,SWE,Sprint 1.5km,M,Bronze\\n2006,Turin,Skiing,Cross Country S,SWE,Sprint 1.5km,M,Gold\\n2006,Turin,Skiing,Cross Country S,SWE,Team sprint,M,Gold\\n2006,Turin,Skiing,Cross Country S,SWE,Team sprint,W,Gold\\n2006,Turin,Biathlon,Biathlon,UKR,7.5km,W,Bronze\\n2006,Turin,Skating,Figure skating,UKR,ice dancing,X,Bronze\\n2006,Turin,Bobsleigh,Bobsleigh,USA,two-man,W,Silver\\n2006,Turin,Curling,Curling,USA,curling,M,Bronze\\n2006,Turin,Ice Hockey,Ice Hockey,USA,ice hockey,W,Bronze\\n2006,Turin,Skating,Figure skating,USA,ice dancing,X,Silver\\n2006,Turin,Skating,Figure skating,USA,individual,W,Silver\\n2006,Turin,Skating,Short Track S.,USA,1000m,M,Bronze\\n2006,Turin,Skating,Short Track S.,USA,5000m relay,M,Bronze\\n2006,Turin,Skating,Short Track S.,USA,500m,M,Gold\\n2006,Turin,Skating,Speed skating,USA,10000m,M,Silver\\n2006,Turin,Skating,Speed skating,USA,1000m,M,Gold\\n2006,Turin,Skating,Speed skating,USA,1000m,M,Silver\\n2006,Turin,Skating,Speed skating,USA,1500m,M,Bronze\\n2006,Turin,Skating,Speed skating,USA,1500m,M,Silver\\n2006,Turin,Skating,Speed skating,USA,5000m,M,Gold\\n2006,Turin,Skating,Speed skating,USA,500m,M,Gold\\n2006,Turin,Skiing,Alpine Skiing,USA,Alpine combined,M,Gold\\n2006,Turin,Skiing,Alpine Skiing,USA,giant slalom,W,Gold\\n2006,Turin,Skiing,Freestyle Ski.,USA,moguls,M,Bronze\\n2006,Turin,Skiing,Snowboard,USA,Giant parallel slalom,W,Bronze\\n2006,Turin,Skiing,Snowboard,USA,Half-pipe,M,Gold\\n2006,Turin,Skiing,Snowboard,USA,Half-pipe,M,Silver\\n2006,Turin,Skiing,Snowboard,USA,Half-pipe,W,Gold\\n2006,Turin,Skiing,Snowboard,USA,Half-pipe,W,Silver\\n2006,Turin,Skiing,Snowboard,USA,Snowboard Cross,M,Gold\\n2006,Turin,Skiing,Snowboard,USA,Snowboard Cross,W,Silver\""
      ]
     },
     "execution_count": 12,
     "metadata": {},
     "output_type": "execute_result"
    }
   ],
   "source": [
    "response"
   ]
  },
  {
   "cell_type": "code",
   "execution_count": null,
   "id": "31144e64",
   "metadata": {},
   "outputs": [],
   "source": []
  },
  {
   "cell_type": "markdown",
   "id": "c158b415",
   "metadata": {},
   "source": [
    "# Ficheros XLS y XLSX"
   ]
  },
  {
   "cell_type": "code",
   "execution_count": 17,
   "id": "6fde6467",
   "metadata": {},
   "outputs": [],
   "source": [
    "mainpath = \"/Users/LGARAVITO2/Desktop/python-ml-course/titanic\"\n",
    "filename = \"titanic3.xls\""
   ]
  },
  {
   "cell_type": "code",
   "execution_count": 18,
   "id": "b18f6662",
   "metadata": {},
   "outputs": [],
   "source": [
    "titanic2 = pd.read_excel(mainpath + \"/\" + filename, \"titanic3\")"
   ]
  },
  {
   "cell_type": "code",
   "execution_count": 19,
   "id": "cb61d11a",
   "metadata": {},
   "outputs": [],
   "source": [
    "titanic3 = pd.read_excel(mainpath + \"/\" + filename, \"titanic3\")"
   ]
  },
  {
   "cell_type": "code",
   "execution_count": 25,
   "id": "bfc048ae",
   "metadata": {},
   "outputs": [],
   "source": [
    "titanic3.to_csv(mainpath + \"titanic_custom.csv\")"
   ]
  },
  {
   "cell_type": "code",
   "execution_count": 27,
   "id": "d65cea49",
   "metadata": {},
   "outputs": [],
   "source": [
    "titanic3.to_excel(mainpath + \"titanic_custom.xlsx\")"
   ]
  },
  {
   "cell_type": "code",
   "execution_count": 28,
   "id": "cb79fab3",
   "metadata": {},
   "outputs": [],
   "source": [
    "titanic3.to_json(mainpath + \"titanic_custom.json\")"
   ]
  },
  {
   "cell_type": "code",
   "execution_count": null,
   "id": "ee158058",
   "metadata": {},
   "outputs": [],
   "source": []
  },
  {
   "cell_type": "code",
   "execution_count": null,
   "id": "73dbc1e2",
   "metadata": {},
   "outputs": [],
   "source": []
  },
  {
   "cell_type": "markdown",
   "id": "96257d16",
   "metadata": {},
   "source": [
    "# Ejercicio de descarga de datos con urllib3\n",
    "\n",
    "Vamos a hacer un ejercicio usando la librería urllib3 para leer los datos desde URL externa, procesarlos y convertirlos en un data\n",
    "frame de python y antes de guardarlos en un CSV local."
   ]
  },
  {
   "cell_type": "code",
   "execution_count": 38,
   "id": "22dcf23a",
   "metadata": {},
   "outputs": [],
   "source": [
    "def downloadFromURL(url, filename, sep = \",\", delim = \"\\n\", encoding = \"utf-8\",\n",
    "                   mainpath = \"/Users/LGARAVITO2/Desktop/python-ml-course/titanic\"):\n",
    "    #Primero importamos la librería y hacemos la conexion con la web de datos\n",
    "    import urllib3\n",
    "    http = urllib3.PoolManager()\n",
    "    r = http.request('GET', url)\n",
    "    print(\"El estatus de la respuesta es %d\" % (r.status))\n",
    "    response = r.data\n",
    "\n",
    "    #El objeto response contiene un string binario, así que lo convertimos a un string descodificandolo en UTF-8\n",
    "    str_data = response.decode(encoding)\n",
    "\n",
    "    #Dividimos el string en un array de filas, separádolo por intros\n",
    "    lines = str_data.split(delim)\n",
    "\n",
    "    #La primera línea contiene la cabecera, así que la extraemos\n",
    "    col_names = lines[0].split(sep)\n",
    "    n_cols = len(col_names)\n",
    "\n",
    "    #Generamos un diccionario vacío donde irá la información procesada desde la URL externa\n",
    "    counter = 0\n",
    "    main_dict = {}\n",
    "    for col in col_names:\n",
    "        main_dict[col] = []\n",
    "\n",
    "    #Procesamos fila a fila la información para ir rellenando la información con los datos como hicimos antes\n",
    "    for line in lines:\n",
    "        #Nos saltamos a la primera línea que es la que contiene la cabecera y ya tenemos procesada\n",
    "        if(counter > 0):\n",
    "            #Dividimos cada string por las comas como elemento separador\n",
    "            values = line.strip().split(sep)\n",
    "            #Añadimos cada valor a su respectiva columna del diccionario\n",
    "            for i in range(len(col_names)):\n",
    "                main_dict[col_names[i]].append(values[i])\n",
    "        counter += 1\n",
    "\n",
    "    print(\"El dataset tiene %d filas y %d columnas\"%(counter, n_cols))\n",
    "\n",
    "    #Convertimos el diccionario procesado a Data Frame y comprobamos que los datos son correctos\n",
    "    df = pd.DataFrame(main_dict)\n",
    "    print(df.head())\n",
    "\n",
    "    #Elegimos donde guardarlo (en la carpeta titanic donde tiene más sentido por el contexto del análisis)\n",
    "    #mainpath = \"/Users/LGARAVITO2/Desktop/python-ml-course/titanic\"\n",
    "    #filename = \"medals.\"\n",
    "    fullpath = os.path.join(mainpath, filename)\n",
    "\n",
    "    #Guardarmos en CSV, en JSON o en Excel donde queramos\n",
    "    df.to_csv(fullpath+\".csv\")\n",
    "    df.to_excel(fullpath+\".xlsx\")\n",
    "    df.to_json(fullpath+\".json\")\n",
    "    print(\"Los ficheros están impresos exitosamente en: \"+fullpath)\n",
    "    \n",
    "    return df"
   ]
  },
  {
   "cell_type": "code",
   "execution_count": 39,
   "id": "50352492",
   "metadata": {},
   "outputs": [
    {
     "name": "stdout",
     "output_type": "stream",
     "text": [
      "El estatus de la respuesta es 200\n",
      "El dataset tiene 2312 filas y 8 columnas\n",
      "   Year      City       Sport      Discipline  NOC       Event Event gender  \\\n",
      "0  1924  Chamonix     Skating  Figure skating  AUT  individual            M   \n",
      "1  1924  Chamonix     Skating  Figure skating  AUT  individual            W   \n",
      "2  1924  Chamonix     Skating  Figure skating  AUT       pairs            X   \n",
      "3  1924  Chamonix   Bobsleigh       Bobsleigh  BEL    four-man            M   \n",
      "4  1924  Chamonix  Ice Hockey      Ice Hockey  CAN  ice hockey            M   \n",
      "\n",
      "    Medal  \n",
      "0  Silver  \n",
      "1    Gold  \n",
      "2    Gold  \n",
      "3  Bronze  \n",
      "4    Gold  \n",
      "Los ficheros están impresos exitosamente en: /Users/LGARAVITO2/Desktop/python-ml-course/titanic\\medals\n"
     ]
    },
    {
     "data": {
      "text/html": [
       "<div>\n",
       "<style scoped>\n",
       "    .dataframe tbody tr th:only-of-type {\n",
       "        vertical-align: middle;\n",
       "    }\n",
       "\n",
       "    .dataframe tbody tr th {\n",
       "        vertical-align: top;\n",
       "    }\n",
       "\n",
       "    .dataframe thead th {\n",
       "        text-align: right;\n",
       "    }\n",
       "</style>\n",
       "<table border=\"1\" class=\"dataframe\">\n",
       "  <thead>\n",
       "    <tr style=\"text-align: right;\">\n",
       "      <th></th>\n",
       "      <th>Year</th>\n",
       "      <th>City</th>\n",
       "      <th>Sport</th>\n",
       "      <th>Discipline</th>\n",
       "      <th>NOC</th>\n",
       "      <th>Event</th>\n",
       "      <th>Event gender</th>\n",
       "      <th>Medal</th>\n",
       "    </tr>\n",
       "  </thead>\n",
       "  <tbody>\n",
       "    <tr>\n",
       "      <th>0</th>\n",
       "      <td>1924</td>\n",
       "      <td>Chamonix</td>\n",
       "      <td>Skating</td>\n",
       "      <td>Figure skating</td>\n",
       "      <td>AUT</td>\n",
       "      <td>individual</td>\n",
       "      <td>M</td>\n",
       "      <td>Silver</td>\n",
       "    </tr>\n",
       "    <tr>\n",
       "      <th>1</th>\n",
       "      <td>1924</td>\n",
       "      <td>Chamonix</td>\n",
       "      <td>Skating</td>\n",
       "      <td>Figure skating</td>\n",
       "      <td>AUT</td>\n",
       "      <td>individual</td>\n",
       "      <td>W</td>\n",
       "      <td>Gold</td>\n",
       "    </tr>\n",
       "    <tr>\n",
       "      <th>2</th>\n",
       "      <td>1924</td>\n",
       "      <td>Chamonix</td>\n",
       "      <td>Skating</td>\n",
       "      <td>Figure skating</td>\n",
       "      <td>AUT</td>\n",
       "      <td>pairs</td>\n",
       "      <td>X</td>\n",
       "      <td>Gold</td>\n",
       "    </tr>\n",
       "    <tr>\n",
       "      <th>3</th>\n",
       "      <td>1924</td>\n",
       "      <td>Chamonix</td>\n",
       "      <td>Bobsleigh</td>\n",
       "      <td>Bobsleigh</td>\n",
       "      <td>BEL</td>\n",
       "      <td>four-man</td>\n",
       "      <td>M</td>\n",
       "      <td>Bronze</td>\n",
       "    </tr>\n",
       "    <tr>\n",
       "      <th>4</th>\n",
       "      <td>1924</td>\n",
       "      <td>Chamonix</td>\n",
       "      <td>Ice Hockey</td>\n",
       "      <td>Ice Hockey</td>\n",
       "      <td>CAN</td>\n",
       "      <td>ice hockey</td>\n",
       "      <td>M</td>\n",
       "      <td>Gold</td>\n",
       "    </tr>\n",
       "  </tbody>\n",
       "</table>\n",
       "</div>"
      ],
      "text/plain": [
       "   Year      City       Sport      Discipline  NOC       Event Event gender  \\\n",
       "0  1924  Chamonix     Skating  Figure skating  AUT  individual            M   \n",
       "1  1924  Chamonix     Skating  Figure skating  AUT  individual            W   \n",
       "2  1924  Chamonix     Skating  Figure skating  AUT       pairs            X   \n",
       "3  1924  Chamonix   Bobsleigh       Bobsleigh  BEL    four-man            M   \n",
       "4  1924  Chamonix  Ice Hockey      Ice Hockey  CAN  ice hockey            M   \n",
       "\n",
       "    Medal  \n",
       "0  Silver  \n",
       "1    Gold  \n",
       "2    Gold  \n",
       "3  Bronze  \n",
       "4    Gold  "
      ]
     },
     "execution_count": 39,
     "metadata": {},
     "output_type": "execute_result"
    }
   ],
   "source": [
    "medals_df = downloadFromURL(medals_url, \"medals\")\n",
    "medals_df.head()"
   ]
  },
  {
   "cell_type": "code",
   "execution_count": null,
   "id": "d24ef67e",
   "metadata": {},
   "outputs": [],
   "source": []
  },
  {
   "cell_type": "code",
   "execution_count": null,
   "id": "35b659aa",
   "metadata": {},
   "outputs": [],
   "source": []
  },
  {
   "cell_type": "code",
   "execution_count": null,
   "id": "342960a1",
   "metadata": {},
   "outputs": [],
   "source": []
  },
  {
   "cell_type": "code",
   "execution_count": null,
   "id": "76058683",
   "metadata": {},
   "outputs": [],
   "source": []
  },
  {
   "cell_type": "code",
   "execution_count": null,
   "id": "a945beb5",
   "metadata": {},
   "outputs": [],
   "source": []
  },
  {
   "cell_type": "code",
   "execution_count": null,
   "id": "c2331d65",
   "metadata": {},
   "outputs": [],
   "source": []
  },
  {
   "cell_type": "code",
   "execution_count": null,
   "id": "dfafe8d0",
   "metadata": {},
   "outputs": [],
   "source": []
  },
  {
   "cell_type": "code",
   "execution_count": null,
   "id": "14f8b39a",
   "metadata": {},
   "outputs": [],
   "source": []
  },
  {
   "cell_type": "code",
   "execution_count": null,
   "id": "d3985c1e",
   "metadata": {},
   "outputs": [],
   "source": []
  },
  {
   "cell_type": "code",
   "execution_count": null,
   "id": "123f1faa",
   "metadata": {},
   "outputs": [],
   "source": []
  },
  {
   "cell_type": "code",
   "execution_count": null,
   "id": "ea15affd",
   "metadata": {},
   "outputs": [],
   "source": []
  },
  {
   "cell_type": "code",
   "execution_count": null,
   "id": "fc99613b",
   "metadata": {},
   "outputs": [],
   "source": []
  },
  {
   "cell_type": "code",
   "execution_count": null,
   "id": "f4054a0b",
   "metadata": {},
   "outputs": [],
   "source": []
  },
  {
   "cell_type": "code",
   "execution_count": null,
   "id": "8fae5289",
   "metadata": {},
   "outputs": [],
   "source": []
  },
  {
   "cell_type": "code",
   "execution_count": null,
   "id": "ad7b63ab",
   "metadata": {},
   "outputs": [],
   "source": []
  },
  {
   "cell_type": "code",
   "execution_count": null,
   "id": "041ecc22",
   "metadata": {},
   "outputs": [],
   "source": []
  },
  {
   "cell_type": "code",
   "execution_count": null,
   "id": "ec3d0b29",
   "metadata": {},
   "outputs": [],
   "source": []
  },
  {
   "cell_type": "code",
   "execution_count": null,
   "id": "0e11043f",
   "metadata": {},
   "outputs": [],
   "source": []
  },
  {
   "cell_type": "code",
   "execution_count": null,
   "id": "687bb6af",
   "metadata": {},
   "outputs": [],
   "source": []
  },
  {
   "cell_type": "code",
   "execution_count": null,
   "id": "ad2278a4",
   "metadata": {},
   "outputs": [],
   "source": []
  },
  {
   "cell_type": "code",
   "execution_count": null,
   "id": "68cd294f",
   "metadata": {},
   "outputs": [],
   "source": []
  },
  {
   "cell_type": "code",
   "execution_count": null,
   "id": "2d0aa68c",
   "metadata": {},
   "outputs": [],
   "source": []
  },
  {
   "cell_type": "code",
   "execution_count": null,
   "id": "eb9339a7",
   "metadata": {},
   "outputs": [],
   "source": []
  },
  {
   "cell_type": "code",
   "execution_count": null,
   "id": "4bfdd441",
   "metadata": {},
   "outputs": [],
   "source": []
  },
  {
   "cell_type": "code",
   "execution_count": null,
   "id": "cae9a3a3",
   "metadata": {},
   "outputs": [],
   "source": []
  },
  {
   "cell_type": "code",
   "execution_count": null,
   "id": "9d4a6223",
   "metadata": {},
   "outputs": [],
   "source": []
  },
  {
   "cell_type": "code",
   "execution_count": null,
   "id": "c9e1fb8b",
   "metadata": {},
   "outputs": [],
   "source": []
  },
  {
   "cell_type": "code",
   "execution_count": null,
   "id": "cd7b27fd",
   "metadata": {},
   "outputs": [],
   "source": []
  },
  {
   "cell_type": "code",
   "execution_count": null,
   "id": "29010344",
   "metadata": {},
   "outputs": [],
   "source": []
  },
  {
   "cell_type": "code",
   "execution_count": null,
   "id": "4c667f7c",
   "metadata": {},
   "outputs": [],
   "source": []
  },
  {
   "cell_type": "code",
   "execution_count": null,
   "id": "62f50a79",
   "metadata": {},
   "outputs": [],
   "source": []
  },
  {
   "cell_type": "code",
   "execution_count": null,
   "id": "2215f4e7",
   "metadata": {},
   "outputs": [],
   "source": []
  },
  {
   "cell_type": "markdown",
   "id": "8078e302",
   "metadata": {},
   "source": []
  },
  {
   "cell_type": "code",
   "execution_count": null,
   "id": "c4d7c3e6",
   "metadata": {},
   "outputs": [],
   "source": []
  },
  {
   "cell_type": "code",
   "execution_count": null,
   "id": "c5de0072",
   "metadata": {},
   "outputs": [],
   "source": []
  },
  {
   "cell_type": "code",
   "execution_count": null,
   "id": "0fe16477",
   "metadata": {},
   "outputs": [],
   "source": []
  },
  {
   "cell_type": "code",
   "execution_count": null,
   "id": "55d13cd5",
   "metadata": {},
   "outputs": [],
   "source": []
  },
  {
   "cell_type": "code",
   "execution_count": null,
   "id": "1c0faf45",
   "metadata": {},
   "outputs": [],
   "source": []
  },
  {
   "cell_type": "code",
   "execution_count": null,
   "id": "ec3df371",
   "metadata": {},
   "outputs": [],
   "source": []
  },
  {
   "cell_type": "code",
   "execution_count": null,
   "id": "06d21d7f",
   "metadata": {},
   "outputs": [],
   "source": []
  },
  {
   "cell_type": "code",
   "execution_count": null,
   "id": "9bf31069",
   "metadata": {},
   "outputs": [],
   "source": []
  },
  {
   "cell_type": "code",
   "execution_count": null,
   "id": "96cf4e8b",
   "metadata": {},
   "outputs": [],
   "source": []
  },
  {
   "cell_type": "code",
   "execution_count": null,
   "id": "17d3f550",
   "metadata": {},
   "outputs": [],
   "source": []
  },
  {
   "cell_type": "code",
   "execution_count": null,
   "id": "d305224c",
   "metadata": {},
   "outputs": [],
   "source": []
  },
  {
   "cell_type": "code",
   "execution_count": null,
   "id": "b8210763",
   "metadata": {},
   "outputs": [],
   "source": []
  },
  {
   "cell_type": "code",
   "execution_count": 1,
   "id": "da5ddb32",
   "metadata": {},
   "outputs": [],
   "source": []
  },
  {
   "cell_type": "code",
   "execution_count": 4,
   "id": "8bff7b28",
   "metadata": {},
   "outputs": [],
   "source": []
  },
  {
   "cell_type": "code",
   "execution_count": null,
   "id": "ac7c29fd",
   "metadata": {},
   "outputs": [],
   "source": []
  },
  {
   "cell_type": "code",
   "execution_count": null,
   "id": "36ed3362",
   "metadata": {},
   "outputs": [],
   "source": []
  },
  {
   "cell_type": "code",
   "execution_count": null,
   "id": "887ca3d6",
   "metadata": {},
   "outputs": [],
   "source": []
  },
  {
   "cell_type": "code",
   "execution_count": null,
   "id": "d81613e6",
   "metadata": {},
   "outputs": [],
   "source": []
  },
  {
   "cell_type": "code",
   "execution_count": null,
   "id": "1b03ffb9",
   "metadata": {},
   "outputs": [],
   "source": []
  },
  {
   "cell_type": "code",
   "execution_count": null,
   "id": "aa70e80b",
   "metadata": {},
   "outputs": [],
   "source": []
  },
  {
   "cell_type": "code",
   "execution_count": null,
   "id": "336a15ea",
   "metadata": {},
   "outputs": [],
   "source": []
  },
  {
   "cell_type": "code",
   "execution_count": null,
   "id": "25c29bd3",
   "metadata": {},
   "outputs": [],
   "source": []
  },
  {
   "cell_type": "code",
   "execution_count": null,
   "id": "b2aaefc9",
   "metadata": {},
   "outputs": [],
   "source": []
  },
  {
   "cell_type": "code",
   "execution_count": null,
   "id": "084570d9",
   "metadata": {},
   "outputs": [],
   "source": []
  },
  {
   "cell_type": "code",
   "execution_count": null,
   "id": "606a7c39",
   "metadata": {},
   "outputs": [],
   "source": []
  },
  {
   "cell_type": "code",
   "execution_count": null,
   "id": "03935cb4",
   "metadata": {},
   "outputs": [],
   "source": []
  },
  {
   "cell_type": "code",
   "execution_count": null,
   "id": "43ea0b02",
   "metadata": {},
   "outputs": [],
   "source": []
  },
  {
   "cell_type": "code",
   "execution_count": null,
   "id": "ebb5203c",
   "metadata": {},
   "outputs": [],
   "source": []
  },
  {
   "cell_type": "code",
   "execution_count": 20,
   "id": "5a86ff92",
   "metadata": {},
   "outputs": [
    {
     "ename": "NameError",
     "evalue": "name 'read' is not defined",
     "output_type": "error",
     "traceback": [
      "\u001b[1;31m---------------------------------------------------------------------------\u001b[0m",
      "\u001b[1;31mNameError\u001b[0m                                 Traceback (most recent call last)",
      "\u001b[1;32m<ipython-input-20-14af6fb7a20a>\u001b[0m in \u001b[0;36m<module>\u001b[1;34m\u001b[0m\n\u001b[1;32m----> 1\u001b[1;33m read.csv(filepath=\"/Users/LGARAVITO2/Desktop/python-ml-course/titanic/sc_forosv4.csv\",\n\u001b[0m\u001b[0;32m      2\u001b[0m         \u001b[0msep\u001b[0m \u001b[1;33m=\u001b[0m \u001b[1;34m\",\"\u001b[0m\u001b[1;33m,\u001b[0m \u001b[0mdtype\u001b[0m\u001b[1;33m=\u001b[0m\u001b[1;33m{\u001b[0m\u001b[1;34m\"a\"\u001b[0m\u001b[1;33m:\u001b[0m\u001b[0mnp\u001b[0m\u001b[1;33m.\u001b[0m\u001b[0mfloat64\u001b[0m\u001b[1;33m,\u001b[0m \u001b[1;34m\"b\"\u001b[0m\u001b[1;33m:\u001b[0m\u001b[0mnp\u001b[0m\u001b[1;33m.\u001b[0m\u001b[0mint32\u001b[0m\u001b[1;33m}\u001b[0m\u001b[1;33m,\u001b[0m \u001b[0mheader\u001b[0m\u001b[1;33m=\u001b[0m\u001b[1;36m0\u001b[0m\u001b[1;33m,\u001b[0m \u001b[0mnames\u001b[0m\u001b[1;33m=\u001b[0m\u001b[1;32mNone\u001b[0m\u001b[1;33m,\u001b[0m \u001b[0mskiprows\u001b[0m\u001b[1;33m=\u001b[0m\u001b[1;32mNone\u001b[0m\u001b[1;33m,\u001b[0m\u001b[1;33m\u001b[0m\u001b[1;33m\u001b[0m\u001b[0m\n\u001b[0;32m      3\u001b[0m         index_col=None, skip_blank_lines=False, na_filter=False)\n",
      "\u001b[1;31mNameError\u001b[0m: name 'read' is not defined"
     ]
    }
   ],
   "source": [
    "read.csv(filepath=\"/Users/LGARAVITO2/Desktop/python-ml-course/titanic/sc_forosv4.csv\",\n",
    "        sep = \",\", dtype={\"a\":np.float64, \"b\":np.int32}, header=0, names=None, skiprows=None, \n",
    "        index_col=None, skip_blank_lines=False, na_filter=False)"
   ]
  },
  {
   "cell_type": "code",
   "execution_count": null,
   "id": "b345db11",
   "metadata": {},
   "outputs": [],
   "source": []
  },
  {
   "cell_type": "code",
   "execution_count": null,
   "id": "6e6b7e34",
   "metadata": {},
   "outputs": [],
   "source": []
  },
  {
   "cell_type": "code",
   "execution_count": null,
   "id": "a0699e43",
   "metadata": {},
   "outputs": [],
   "source": []
  },
  {
   "cell_type": "code",
   "execution_count": null,
   "id": "0d8ae3e9",
   "metadata": {},
   "outputs": [],
   "source": []
  },
  {
   "cell_type": "code",
   "execution_count": null,
   "id": "e5b2a033",
   "metadata": {},
   "outputs": [],
   "source": []
  },
  {
   "cell_type": "code",
   "execution_count": null,
   "id": "0f899080",
   "metadata": {},
   "outputs": [],
   "source": []
  },
  {
   "cell_type": "code",
   "execution_count": null,
   "id": "a5ae2b61",
   "metadata": {},
   "outputs": [],
   "source": []
  },
  {
   "cell_type": "code",
   "execution_count": null,
   "id": "32719cb5",
   "metadata": {},
   "outputs": [],
   "source": []
  },
  {
   "cell_type": "code",
   "execution_count": 9,
   "id": "5c907ab6",
   "metadata": {},
   "outputs": [],
   "source": []
  },
  {
   "cell_type": "code",
   "execution_count": null,
   "id": "d6740f55",
   "metadata": {},
   "outputs": [],
   "source": []
  },
  {
   "cell_type": "code",
   "execution_count": null,
   "id": "d3541d0b",
   "metadata": {},
   "outputs": [],
   "source": []
  },
  {
   "cell_type": "code",
   "execution_count": null,
   "id": "f380fea3",
   "metadata": {},
   "outputs": [],
   "source": []
  },
  {
   "cell_type": "code",
   "execution_count": null,
   "id": "57db9e68",
   "metadata": {},
   "outputs": [],
   "source": []
  },
  {
   "cell_type": "code",
   "execution_count": null,
   "id": "3869ec8b",
   "metadata": {},
   "outputs": [],
   "source": []
  },
  {
   "cell_type": "code",
   "execution_count": null,
   "id": "a80517d3",
   "metadata": {},
   "outputs": [],
   "source": []
  },
  {
   "cell_type": "code",
   "execution_count": null,
   "id": "969f124b",
   "metadata": {},
   "outputs": [],
   "source": []
  },
  {
   "cell_type": "code",
   "execution_count": null,
   "id": "084993d6",
   "metadata": {},
   "outputs": [],
   "source": []
  },
  {
   "cell_type": "code",
   "execution_count": null,
   "id": "ca23f010",
   "metadata": {},
   "outputs": [],
   "source": []
  },
  {
   "cell_type": "code",
   "execution_count": null,
   "id": "8c088cbe",
   "metadata": {},
   "outputs": [],
   "source": []
  },
  {
   "cell_type": "code",
   "execution_count": null,
   "id": "57d072cb",
   "metadata": {},
   "outputs": [],
   "source": []
  },
  {
   "cell_type": "code",
   "execution_count": null,
   "id": "7dbcdaa8",
   "metadata": {},
   "outputs": [],
   "source": []
  },
  {
   "cell_type": "code",
   "execution_count": null,
   "id": "7c0c3d1f",
   "metadata": {},
   "outputs": [],
   "source": []
  },
  {
   "cell_type": "code",
   "execution_count": null,
   "id": "7919fe5f",
   "metadata": {},
   "outputs": [],
   "source": []
  },
  {
   "cell_type": "code",
   "execution_count": null,
   "id": "a07d5d94",
   "metadata": {},
   "outputs": [],
   "source": []
  },
  {
   "cell_type": "code",
   "execution_count": null,
   "id": "a365689c",
   "metadata": {},
   "outputs": [],
   "source": []
  },
  {
   "cell_type": "code",
   "execution_count": null,
   "id": "f9d950a3",
   "metadata": {},
   "outputs": [],
   "source": []
  },
  {
   "cell_type": "code",
   "execution_count": null,
   "id": "59e0b9f7",
   "metadata": {},
   "outputs": [],
   "source": []
  },
  {
   "cell_type": "code",
   "execution_count": null,
   "id": "a4f6a09a",
   "metadata": {},
   "outputs": [],
   "source": []
  },
  {
   "cell_type": "code",
   "execution_count": null,
   "id": "4fc387bb",
   "metadata": {},
   "outputs": [],
   "source": []
  },
  {
   "cell_type": "code",
   "execution_count": null,
   "id": "ee273261",
   "metadata": {},
   "outputs": [],
   "source": []
  },
  {
   "cell_type": "code",
   "execution_count": null,
   "id": "d43b768c",
   "metadata": {},
   "outputs": [],
   "source": []
  },
  {
   "cell_type": "code",
   "execution_count": null,
   "id": "2053b76e",
   "metadata": {},
   "outputs": [],
   "source": []
  },
  {
   "cell_type": "code",
   "execution_count": null,
   "id": "a8b18d38",
   "metadata": {},
   "outputs": [],
   "source": []
  },
  {
   "cell_type": "code",
   "execution_count": null,
   "id": "cd993148",
   "metadata": {},
   "outputs": [],
   "source": []
  },
  {
   "cell_type": "code",
   "execution_count": null,
   "id": "0962ebc1",
   "metadata": {},
   "outputs": [],
   "source": []
  },
  {
   "cell_type": "code",
   "execution_count": null,
   "id": "00657963",
   "metadata": {},
   "outputs": [],
   "source": []
  },
  {
   "cell_type": "code",
   "execution_count": null,
   "id": "8ada5d5c",
   "metadata": {},
   "outputs": [],
   "source": []
  },
  {
   "cell_type": "code",
   "execution_count": null,
   "id": "122a8c97",
   "metadata": {},
   "outputs": [],
   "source": []
  },
  {
   "cell_type": "code",
   "execution_count": null,
   "id": "0e727d7a",
   "metadata": {},
   "outputs": [],
   "source": []
  }
 ],
 "metadata": {
  "kernelspec": {
   "display_name": "Python 3",
   "language": "python",
   "name": "python3"
  },
  "language_info": {
   "codemirror_mode": {
    "name": "ipython",
    "version": 3
   },
   "file_extension": ".py",
   "mimetype": "text/x-python",
   "name": "python",
   "nbconvert_exporter": "python",
   "pygments_lexer": "ipython3",
   "version": "3.8.8"
  }
 },
 "nbformat": 4,
 "nbformat_minor": 5
}
